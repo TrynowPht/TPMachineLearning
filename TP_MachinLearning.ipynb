{
  "nbformat": 4,
  "nbformat_minor": 0,
  "metadata": {
    "colab": {
      "name": "TP_MachinLearning.ipynb",
      "provenance": [],
      "collapsed_sections": [],
      "toc_visible": true,
      "include_colab_link": true
    },
    "kernelspec": {
      "name": "python3",
      "display_name": "Python 3"
    },
    "widgets": {
      "application/vnd.jupyter.widget-state+json": {
        "8d4772bdd8b64f72b97fb16bc282f6ca": {
          "model_module": "@jupyter-widgets/controls",
          "model_name": "FileUploadModel",
          "state": {
            "_view_name": "FileUploadView",
            "_counter": 1,
            "style": "IPY_MODEL_72d690b9d5a447a1b50d40b1f714b6ed",
            "_dom_classes": [],
            "description": "Upload",
            "multiple": false,
            "_model_name": "FileUploadModel",
            "data": [
              null
            ],
            "button_style": "",
            "_view_module": "@jupyter-widgets/controls",
            "_model_module_version": "1.5.0",
            "accept": "",
            "_view_count": null,
            "disabled": false,
            "_view_module_version": "1.5.0",
            "error": "",
            "description_tooltip": null,
            "metadata": [
              {
                "name": "datos_banco.csv",
                "type": "application/vnd.ms-excel",
                "size": 156252,
                "lastModified": 1601660327119
              }
            ],
            "_model_module": "@jupyter-widgets/controls",
            "layout": "IPY_MODEL_53a91c4b579a48c4a09801afeb31603a",
            "icon": "upload"
          }
        },
        "72d690b9d5a447a1b50d40b1f714b6ed": {
          "model_module": "@jupyter-widgets/controls",
          "model_name": "ButtonStyleModel",
          "state": {
            "_view_name": "StyleView",
            "_model_name": "ButtonStyleModel",
            "_view_module": "@jupyter-widgets/base",
            "_model_module_version": "1.5.0",
            "_view_count": null,
            "button_color": null,
            "font_weight": "",
            "_view_module_version": "1.2.0",
            "_model_module": "@jupyter-widgets/controls"
          }
        },
        "53a91c4b579a48c4a09801afeb31603a": {
          "model_module": "@jupyter-widgets/base",
          "model_name": "LayoutModel",
          "state": {
            "_view_name": "LayoutView",
            "grid_template_rows": null,
            "right": null,
            "justify_content": null,
            "_view_module": "@jupyter-widgets/base",
            "overflow": null,
            "_model_module_version": "1.2.0",
            "_view_count": null,
            "flex_flow": null,
            "width": null,
            "min_width": null,
            "border": null,
            "align_items": null,
            "bottom": null,
            "_model_module": "@jupyter-widgets/base",
            "top": null,
            "grid_column": null,
            "overflow_y": null,
            "overflow_x": null,
            "grid_auto_flow": null,
            "grid_area": null,
            "grid_template_columns": null,
            "flex": null,
            "_model_name": "LayoutModel",
            "justify_items": null,
            "grid_row": null,
            "max_height": null,
            "align_content": null,
            "visibility": null,
            "align_self": null,
            "height": null,
            "min_height": null,
            "padding": null,
            "grid_auto_rows": null,
            "grid_gap": null,
            "max_width": null,
            "order": null,
            "_view_module_version": "1.2.0",
            "grid_template_areas": null,
            "object_position": null,
            "object_fit": null,
            "grid_auto_columns": null,
            "margin": null,
            "display": null,
            "left": null
          }
        }
      }
    }
  },
  "cells": [
    {
      "cell_type": "markdown",
      "metadata": {
        "id": "view-in-github",
        "colab_type": "text"
      },
      "source": [
        "<a href=\"https://colab.research.google.com/github/TrynowPht/TPMachineLearning/blob/master/TP_MachinLearning.ipynb\" target=\"_parent\"><img src=\"https://colab.research.google.com/assets/colab-badge.svg\" alt=\"Open In Colab\"/></a>"
      ]
    },
    {
      "cell_type": "markdown",
      "metadata": {
        "id": "qFF_T4UI5hW5"
      },
      "source": [
        "Integrantes:\n",
        "*   Piero Herrera\n",
        "*   Camilo Silva\n",
        "*   Diego Urruria\n"
      ]
    },
    {
      "cell_type": "code",
      "metadata": {
        "id": "Oy03SXMmAoBQ",
        "cellView": "both"
      },
      "source": [
        "#@title Importación de Librerías\n",
        "import pandas as pd\n",
        "import missingno as msno\n",
        "import seaborn as sns\n",
        "import numpy as np\n",
        "import matplotlib.pyplot as plt\n",
        "from sklearn.impute import SimpleImputer\n",
        "from sklearn.preprocessing import MinMaxScaler\n",
        "from ipywidgets import FileUpload\n",
        "from sklearn.naive_bayes import MultinomialNB\n",
        "from sklearn.naive_bayes import GaussianNB\n",
        "from sklearn.metrics import classification_report\n",
        "from sklearn.model_selection import train_test_split\n",
        "from sklearn.model_selection import cross_val_score\n",
        "from sklearn.neighbors import KNeighborsClassifier\n",
        "from sklearn.metrics import accuracy_score\n",
        "from sklearn.model_selection import KFold\n",
        "from sklearn.datasets import load_digits\n",
        "from sklearn.model_selection import learning_curve\n",
        "%matplotlib inline"
      ],
      "execution_count": 1,
      "outputs": []
    },
    {
      "cell_type": "markdown",
      "metadata": {
        "id": "ywKgX9qbAjTC"
      },
      "source": [
        "### Lectura de la Data"
      ]
    },
    {
      "cell_type": "code",
      "metadata": {
        "id": "pMRrANImBN4t",
        "outputId": "7f7f9500-8c89-47f7-c45d-eb6b8e7ffd16",
        "colab": {
          "base_uri": "https://localhost:8080/",
          "height": 49,
          "referenced_widgets": [
            "8d4772bdd8b64f72b97fb16bc282f6ca",
            "72d690b9d5a447a1b50d40b1f714b6ed",
            "53a91c4b579a48c4a09801afeb31603a"
          ]
        }
      },
      "source": [
        "DataSet = FileUpload()\n",
        "DataSet"
      ],
      "execution_count": 2,
      "outputs": [
        {
          "output_type": "display_data",
          "data": {
            "application/vnd.jupyter.widget-view+json": {
              "model_id": "8d4772bdd8b64f72b97fb16bc282f6ca",
              "version_minor": 0,
              "version_major": 2
            },
            "text/plain": [
              "FileUpload(value={}, description='Upload')"
            ]
          },
          "metadata": {
            "tags": []
          }
        }
      ]
    },
    {
      "cell_type": "code",
      "metadata": {
        "id": "6b37JmnLEdyj",
        "outputId": "9c178250-41a9-407d-e578-2edf4ef6e4ea",
        "colab": {
          "base_uri": "https://localhost:8080/",
          "height": 224
        }
      },
      "source": [
        "with open('datos_banco.csv', \"wb\") as fp:\n",
        "    fp.write(DataSet.data[0])\n",
        "df = pd.read_csv(\"datos_banco.csv\", engine='python')\n",
        "df.head(5)"
      ],
      "execution_count": 3,
      "outputs": [
        {
          "output_type": "execute_result",
          "data": {
            "text/html": [
              "<div>\n",
              "<style scoped>\n",
              "    .dataframe tbody tr th:only-of-type {\n",
              "        vertical-align: middle;\n",
              "    }\n",
              "\n",
              "    .dataframe tbody tr th {\n",
              "        vertical-align: top;\n",
              "    }\n",
              "\n",
              "    .dataframe thead th {\n",
              "        text-align: right;\n",
              "    }\n",
              "</style>\n",
              "<table border=\"1\" class=\"dataframe\">\n",
              "  <thead>\n",
              "    <tr style=\"text-align: right;\">\n",
              "      <th></th>\n",
              "      <th>idPrestamo</th>\n",
              "      <th>target</th>\n",
              "      <th>monthly_debt_capacity</th>\n",
              "      <th>var_employment_time_in_months</th>\n",
              "      <th>approved_amount</th>\n",
              "      <th>approved_term</th>\n",
              "      <th>approved_interest_amount</th>\n",
              "      <th>var_net_income</th>\n",
              "      <th>person_gender</th>\n",
              "      <th>credit_history_marital_status</th>\n",
              "      <th>var_max_sbs_qual_12m</th>\n",
              "      <th>person_degree_type_desc</th>\n",
              "      <th>default_request_term</th>\n",
              "      <th>default_request_amount</th>\n",
              "    </tr>\n",
              "  </thead>\n",
              "  <tbody>\n",
              "    <tr>\n",
              "      <th>0</th>\n",
              "      <td>LIBDISP9832897855</td>\n",
              "      <td>1</td>\n",
              "      <td>252.39</td>\n",
              "      <td>9.0</td>\n",
              "      <td>1,200</td>\n",
              "      <td>6</td>\n",
              "      <td>289.11</td>\n",
              "      <td>1140.125000</td>\n",
              "      <td>MALE</td>\n",
              "      <td>C</td>\n",
              "      <td>NORMAL</td>\n",
              "      <td>Secundaria</td>\n",
              "      <td>1</td>\n",
              "      <td>0</td>\n",
              "    </tr>\n",
              "    <tr>\n",
              "      <th>1</th>\n",
              "      <td>LIBDISP9021501745</td>\n",
              "      <td>1</td>\n",
              "      <td>244.57</td>\n",
              "      <td>50.0</td>\n",
              "      <td>2,200</td>\n",
              "      <td>12</td>\n",
              "      <td>696.15</td>\n",
              "      <td>1061.375000</td>\n",
              "      <td>FEMALE</td>\n",
              "      <td>S</td>\n",
              "      <td>NORMAL</td>\n",
              "      <td>Secundaria</td>\n",
              "      <td>0</td>\n",
              "      <td>0</td>\n",
              "    </tr>\n",
              "    <tr>\n",
              "      <th>2</th>\n",
              "      <td>LIBDISP4057314971</td>\n",
              "      <td>0</td>\n",
              "      <td>491.5</td>\n",
              "      <td>64.0</td>\n",
              "      <td>1,000</td>\n",
              "      <td>3</td>\n",
              "      <td>84.99</td>\n",
              "      <td>2082.196667</td>\n",
              "      <td>FEMALE</td>\n",
              "      <td>S</td>\n",
              "      <td>NORMAL</td>\n",
              "      <td>Secundaria</td>\n",
              "      <td>0</td>\n",
              "      <td>0</td>\n",
              "    </tr>\n",
              "    <tr>\n",
              "      <th>3</th>\n",
              "      <td>LIBDISP8375185888</td>\n",
              "      <td>0</td>\n",
              "      <td>848.65</td>\n",
              "      <td>77.0</td>\n",
              "      <td>1,500</td>\n",
              "      <td>6</td>\n",
              "      <td>221.53</td>\n",
              "      <td>3422.423333</td>\n",
              "      <td>MALE</td>\n",
              "      <td>S</td>\n",
              "      <td>NORMAL</td>\n",
              "      <td>Universitaria</td>\n",
              "      <td>0</td>\n",
              "      <td>0</td>\n",
              "    </tr>\n",
              "    <tr>\n",
              "      <th>4</th>\n",
              "      <td>LIBDISP9694463037</td>\n",
              "      <td>0</td>\n",
              "      <td>470.52</td>\n",
              "      <td>82.0</td>\n",
              "      <td>1,000</td>\n",
              "      <td>3</td>\n",
              "      <td>91.34</td>\n",
              "      <td>1882.090000</td>\n",
              "      <td>FEMALE</td>\n",
              "      <td>S</td>\n",
              "      <td>NORMAL</td>\n",
              "      <td>Universitaria</td>\n",
              "      <td>1</td>\n",
              "      <td>0</td>\n",
              "    </tr>\n",
              "  </tbody>\n",
              "</table>\n",
              "</div>"
            ],
            "text/plain": [
              "          idPrestamo  target  ... default_request_term  default_request_amount\n",
              "0  LIBDISP9832897855       1  ...                    1                       0\n",
              "1  LIBDISP9021501745       1  ...                    0                       0\n",
              "2  LIBDISP4057314971       0  ...                    0                       0\n",
              "3  LIBDISP8375185888       0  ...                    0                       0\n",
              "4  LIBDISP9694463037       0  ...                    1                       0\n",
              "\n",
              "[5 rows x 14 columns]"
            ]
          },
          "metadata": {
            "tags": []
          },
          "execution_count": 3
        }
      ]
    },
    {
      "cell_type": "markdown",
      "metadata": {
        "id": "mC1BW5miKFjh"
      },
      "source": [
        "La data a utilizar es un dataframe, es decir, un conjunto de datos organizados en estructuras rectangulares en forma de tabla o matriz, el cual contiene distintos tipos de datos y están organizados por columnas con su atributo correspondiente. Considerando esto podemos decir que la data es de tipo estructurada."
      ]
    },
    {
      "cell_type": "markdown",
      "metadata": {
        "id": "O8iDBh85umDx"
      },
      "source": [
        "## 1. Análisis Exploratorio"
      ]
    },
    {
      "cell_type": "markdown",
      "metadata": {
        "id": "J8hukOUUj2uC"
      },
      "source": [
        "### 1.1 Cantidad de variables y atributos"
      ]
    },
    {
      "cell_type": "code",
      "metadata": {
        "id": "fRbZm3TzHvaY",
        "outputId": "f034ac03-862a-40f8-9314-8121c6c8816f",
        "colab": {
          "base_uri": "https://localhost:8080/",
          "height": 51
        }
      },
      "source": [
        "print('Cantidad de instancias:',df.shape[0])\n",
        "print('Cantidad de atributos:',df.shape[1])"
      ],
      "execution_count": 4,
      "outputs": [
        {
          "output_type": "stream",
          "text": [
            "Cantidad de instancias: 1719\n",
            "Cantidad de atributos: 14\n"
          ],
          "name": "stdout"
        }
      ]
    },
    {
      "cell_type": "markdown",
      "metadata": {
        "id": "ib9aOa2rSLnE"
      },
      "source": [
        "### 1.2 Valores nulos\n",
        "\n",
        "En el siguiente gráfico podemos ver la existencia de valores nulos a lo largo de cada instancia, como resultado podemos observar que solo el atributo ***var_employment_time_in_month*** contiene valores nulos."
      ]
    },
    {
      "cell_type": "code",
      "metadata": {
        "id": "2gvUvvwym3Fs",
        "outputId": "4c63579b-6ce0-4817-9a0e-89fe95f8721f",
        "colab": {
          "base_uri": "https://localhost:8080/",
          "height": 470
        }
      },
      "source": [
        "msno.matrix(df, figsize=(10,4));"
      ],
      "execution_count": 5,
      "outputs": [
        {
          "output_type": "display_data",
          "data": {
            "image/png": "[encoded data removed]",
            "text/plain": [
              "<Figure size 720x288 with 2 Axes>"
            ]
          },
          "metadata": {
            "tags": [],
            "needs_background": "light"
          }
        }
      ]
    },
    {
      "cell_type": "code",
      "metadata": {
        "id": "3S1rLaAqAP6B",
        "outputId": "14cb5128-45ad-41a3-aa1b-dedd7b79b944",
        "colab": {
          "base_uri": "https://localhost:8080/",
          "height": 566
        }
      },
      "source": [
        "msno.bar(df) "
      ],
      "execution_count": 6,
      "outputs": [
        {
          "output_type": "execute_result",
          "data": {
            "text/plain": [
              "<matplotlib.axes._subplots.AxesSubplot at 0x7f5cefdccfd0>"
            ]
          },
          "metadata": {
            "tags": []
          },
          "execution_count": 6
        },
        {
          "output_type": "display_data",
          "data": {
            "image/png": "[encoded data removed]",
            "text/plain": [
              "<Figure size 1728x720 with 3 Axes>"
            ]
          },
          "metadata": {
            "tags": [],
            "needs_background": "light"
          }
        }
      ]
    },
    {
      "cell_type": "markdown",
      "metadata": {
        "id": "r6LX0yPImhFi"
      },
      "source": [
        "Obtenemos la cantidad exacta de valores nulos en el dataframe, podemos concluir que la proporción de datos nulos es bastante ***reducida***."
      ]
    },
    {
      "cell_type": "code",
      "metadata": {
        "id": "o1mzvLogmd2Z",
        "outputId": "697d36b9-2e12-4d87-f140-bd69ec5521e8",
        "colab": {
          "base_uri": "https://localhost:8080/",
          "height": 272
        }
      },
      "source": [
        "df.isna().sum()"
      ],
      "execution_count": 7,
      "outputs": [
        {
          "output_type": "execute_result",
          "data": {
            "text/plain": [
              "idPrestamo                         0\n",
              "target                             0\n",
              "monthly_debt_capacity              0\n",
              "var_employment_time_in_months    200\n",
              "approved_amount                    0\n",
              "approved_term                      0\n",
              "approved_interest_amount           0\n",
              "var_net_income                     0\n",
              "person_gender                      0\n",
              "credit_history_marital_status      0\n",
              "var_max_sbs_qual_12m               0\n",
              "person_degree_type_desc            0\n",
              "default_request_term               0\n",
              "default_request_amount             0\n",
              "dtype: int64"
            ]
          },
          "metadata": {
            "tags": []
          },
          "execution_count": 7
        }
      ]
    },
    {
      "cell_type": "markdown",
      "metadata": {
        "id": "T9tEVjsgjwKV"
      },
      "source": [
        "### 1.3 Atributos\n",
        "\n",
        "A continuación, podemos observar la lista de atributos del dataset, junto con su tipo de dato. Además, podemos determinar el conjunto de atributos que podrían aportar valor significativo a nuestro modelo y aquellos que no.\n",
        "\n"
      ]
    },
    {
      "cell_type": "code",
      "metadata": {
        "id": "mvzbyVOMcUbP",
        "outputId": "c356be98-7bcb-4e98-c8d7-c4fc73e2d203",
        "colab": {
          "base_uri": "https://localhost:8080/",
          "height": 272
        }
      },
      "source": [
        "df.dtypes"
      ],
      "execution_count": 8,
      "outputs": [
        {
          "output_type": "execute_result",
          "data": {
            "text/plain": [
              "idPrestamo                        object\n",
              "target                             int64\n",
              "monthly_debt_capacity             object\n",
              "var_employment_time_in_months    float64\n",
              "approved_amount                   object\n",
              "approved_term                      int64\n",
              "approved_interest_amount          object\n",
              "var_net_income                   float64\n",
              "person_gender                     object\n",
              "credit_history_marital_status     object\n",
              "var_max_sbs_qual_12m              object\n",
              "person_degree_type_desc           object\n",
              "default_request_term               int64\n",
              "default_request_amount             int64\n",
              "dtype: object"
            ]
          },
          "metadata": {
            "tags": []
          },
          "execution_count": 8
        }
      ]
    },
    {
      "cell_type": "markdown",
      "metadata": {
        "id": "UJ4biUp620qv"
      },
      "source": [
        "Podemos observar además que variables con tipos de dato que no corresponden al valor que se muestra en el dataframe. Tal es el caso de **monthly_debt_capacity**, **approved_amount** y **approved_interest_amount**"
      ]
    },
    {
      "cell_type": "code",
      "metadata": {
        "id": "mqTw9nMhl2ge",
        "outputId": "466271ce-4e27-4162-f68e-c7faa4c6f981",
        "colab": {
          "base_uri": "https://localhost:8080/",
          "height": 317
        }
      },
      "source": [
        "df.describe()"
      ],
      "execution_count": 9,
      "outputs": [
        {
          "output_type": "execute_result",
          "data": {
            "text/html": [
              "<div>\n",
              "<style scoped>\n",
              "    .dataframe tbody tr th:only-of-type {\n",
              "        vertical-align: middle;\n",
              "    }\n",
              "\n",
              "    .dataframe tbody tr th {\n",
              "        vertical-align: top;\n",
              "    }\n",
              "\n",
              "    .dataframe thead th {\n",
              "        text-align: right;\n",
              "    }\n",
              "</style>\n",
              "<table border=\"1\" class=\"dataframe\">\n",
              "  <thead>\n",
              "    <tr style=\"text-align: right;\">\n",
              "      <th></th>\n",
              "      <th>target</th>\n",
              "      <th>var_employment_time_in_months</th>\n",
              "      <th>approved_term</th>\n",
              "      <th>var_net_income</th>\n",
              "      <th>default_request_term</th>\n",
              "      <th>default_request_amount</th>\n",
              "    </tr>\n",
              "  </thead>\n",
              "  <tbody>\n",
              "    <tr>\n",
              "      <th>count</th>\n",
              "      <td>1719.000000</td>\n",
              "      <td>1519.000000</td>\n",
              "      <td>1719.000000</td>\n",
              "      <td>1719.000000</td>\n",
              "      <td>1719.000000</td>\n",
              "      <td>1719.0</td>\n",
              "    </tr>\n",
              "    <tr>\n",
              "      <th>mean</th>\n",
              "      <td>0.295521</td>\n",
              "      <td>33.979592</td>\n",
              "      <td>6.464805</td>\n",
              "      <td>2693.545884</td>\n",
              "      <td>0.507853</td>\n",
              "      <td>0.0</td>\n",
              "    </tr>\n",
              "    <tr>\n",
              "      <th>std</th>\n",
              "      <td>0.456409</td>\n",
              "      <td>26.889423</td>\n",
              "      <td>3.009842</td>\n",
              "      <td>1825.694773</td>\n",
              "      <td>0.500084</td>\n",
              "      <td>0.0</td>\n",
              "    </tr>\n",
              "    <tr>\n",
              "      <th>min</th>\n",
              "      <td>0.000000</td>\n",
              "      <td>-1.000000</td>\n",
              "      <td>1.000000</td>\n",
              "      <td>0.000000</td>\n",
              "      <td>0.000000</td>\n",
              "      <td>0.0</td>\n",
              "    </tr>\n",
              "    <tr>\n",
              "      <th>25%</th>\n",
              "      <td>0.000000</td>\n",
              "      <td>11.000000</td>\n",
              "      <td>6.000000</td>\n",
              "      <td>1750.000000</td>\n",
              "      <td>0.000000</td>\n",
              "      <td>0.0</td>\n",
              "    </tr>\n",
              "    <tr>\n",
              "      <th>50%</th>\n",
              "      <td>0.000000</td>\n",
              "      <td>26.000000</td>\n",
              "      <td>6.000000</td>\n",
              "      <td>2373.758333</td>\n",
              "      <td>1.000000</td>\n",
              "      <td>0.0</td>\n",
              "    </tr>\n",
              "    <tr>\n",
              "      <th>75%</th>\n",
              "      <td>1.000000</td>\n",
              "      <td>61.000000</td>\n",
              "      <td>6.000000</td>\n",
              "      <td>3075.133333</td>\n",
              "      <td>1.000000</td>\n",
              "      <td>0.0</td>\n",
              "    </tr>\n",
              "    <tr>\n",
              "      <th>max</th>\n",
              "      <td>1.000000</td>\n",
              "      <td>87.000000</td>\n",
              "      <td>12.000000</td>\n",
              "      <td>28587.000000</td>\n",
              "      <td>1.000000</td>\n",
              "      <td>0.0</td>\n",
              "    </tr>\n",
              "  </tbody>\n",
              "</table>\n",
              "</div>"
            ],
            "text/plain": [
              "            target  ...  default_request_amount\n",
              "count  1719.000000  ...                  1719.0\n",
              "mean      0.295521  ...                     0.0\n",
              "std       0.456409  ...                     0.0\n",
              "min       0.000000  ...                     0.0\n",
              "25%       0.000000  ...                     0.0\n",
              "50%       0.000000  ...                     0.0\n",
              "75%       1.000000  ...                     0.0\n",
              "max       1.000000  ...                     0.0\n",
              "\n",
              "[8 rows x 6 columns]"
            ]
          },
          "metadata": {
            "tags": []
          },
          "execution_count": 9
        }
      ]
    },
    {
      "cell_type": "markdown",
      "metadata": {
        "id": "rCrajtiQHo1z"
      },
      "source": [
        "### 1.4. Atributos categóricos\n",
        "\n",
        "El dataset contiene 3 atributos categóricos (***credit_history_marital_status***\t***var_max_sbs_qual_12m*** y\t***person_degree_type_desc***). Haremos un análisis exploratorio en ellos con la finalidad de descubrir particularidades."
      ]
    },
    {
      "cell_type": "code",
      "metadata": {
        "id": "aP9_QskXxZ3z",
        "outputId": "43d495d9-04af-4203-a10a-43b9e1c31076",
        "colab": {
          "base_uri": "https://localhost:8080/",
          "height": 607
        }
      },
      "source": [
        "df.hist(figsize=(10,10));"
      ],
      "execution_count": 10,
      "outputs": [
        {
          "output_type": "display_data",
          "data": {
            "image/png": "[encoded data removed]",
            "text/plain": [
              "<Figure size 720x720 with 6 Axes>"
            ]
          },
          "metadata": {
            "tags": [],
            "needs_background": "light"
          }
        }
      ]
    },
    {
      "cell_type": "code",
      "metadata": {
        "id": "pcLL06C7Hs_9",
        "outputId": "89d2b573-2b26-4265-f782-a0bef967efb1",
        "colab": {
          "base_uri": "https://localhost:8080/",
          "height": 429
        }
      },
      "source": [
        "atrib_cat = ['credit_history_marital_status', 'var_max_sbs_qual_12m', 'person_degree_type_desc']\n",
        "\n",
        "fig, ax = plt.subplots(1, len(atrib_cat), figsize=(10,5))\n",
        "for i, categorical_feature in enumerate(df[atrib_cat]):\n",
        "    df[categorical_feature].value_counts().plot(kind='bar', ax=ax[i]).set_title(categorical_feature)\n",
        "fig.show()"
      ],
      "execution_count": 11,
      "outputs": [
        {
          "output_type": "display_data",
          "data": {
            "image/png": "[encoded data removed]",
            "text/plain": [
              "<Figure size 720x360 with 3 Axes>"
            ]
          },
          "metadata": {
            "tags": [],
            "needs_background": "light"
          }
        }
      ]
    },
    {
      "cell_type": "markdown",
      "metadata": {
        "id": "0C482A6v2i5s"
      },
      "source": [
        "En el gráfico de barras anterior, podemos visualizar que la *categoría carrera* técnica del atributo ***person_degree_type_desc*** se repite varias veces con nombres similares, por lo que deberemos reemplazar en una sola y unir los registro que presente dicha categoría."
      ]
    },
    {
      "cell_type": "code",
      "metadata": {
        "id": "h6dpdei12Jmh",
        "outputId": "ca3e1788-cdfd-4b38-8bc7-e4cfce83f5dd",
        "colab": {
          "base_uri": "https://localhost:8080/",
          "height": 443
        }
      },
      "source": [
        "df.plot(kind='box', subplots = True, layout=(4,4), figsize=(15,15));"
      ],
      "execution_count": 12,
      "outputs": [
        {
          "output_type": "display_data",
          "data": {
            "image/png": "[encoded data removed]",
            "text/plain": [
              "<Figure size 1080x1080 with 16 Axes>"
            ]
          },
          "metadata": {
            "tags": [],
            "needs_background": "light"
          }
        }
      ]
    },
    {
      "cell_type": "markdown",
      "metadata": {
        "id": "i7kTwIKN2N2q"
      },
      "source": [
        "Con estos gráficos de cajas podemos analizar los outlaiers respecto a cada atributo y si es necesario ralizar alguna eliminación de registros"
      ]
    },
    {
      "cell_type": "markdown",
      "metadata": {
        "id": "-5LNcOWghTrs"
      },
      "source": [
        "### 1.5 Atributo Clase\n",
        " \n",
        "En el siguiente gráfico podemos observar la proporción de instancias del atributo clase del dataset (***target***)"
      ]
    },
    {
      "cell_type": "code",
      "metadata": {
        "id": "awHuv-UxdPwE",
        "outputId": "03b1f836-5bce-40f5-e875-9e138e1e226d",
        "colab": {
          "base_uri": "https://localhost:8080/",
          "height": 303
        }
      },
      "source": [
        "df.groupby(['target']).size().plot(kind='pie', legend=True, figsize = (5,5), labels=['0 (No mora)', '1 (Mora)'], autopct='%1.1f%%', shadow=True, textprops={'color':\"w\", 'weight':\"bold\"});"
      ],
      "execution_count": 13,
      "outputs": [
        {
          "output_type": "display_data",
          "data": {
            "image/png": "[encoded data removed]",
            "text/plain": [
              "<Figure size 360x360 with 1 Axes>"
            ]
          },
          "metadata": {
            "tags": []
          }
        }
      ]
    },
    {
      "cell_type": "markdown",
      "metadata": {
        "id": "lc7Y1rNzN5Dy"
      },
      "source": [
        "### 1.6. Registros duplicados\n",
        "Para el análisis de data duplicada utilizaremos **duplicated().sum()** el cual nos permitirá identificar si existen registros que tienen los mismo atributos que otro dentro del mismo dataframe.\n"
      ]
    },
    {
      "cell_type": "code",
      "metadata": {
        "id": "dQH1diMLOCxs",
        "outputId": "7c743d46-50fb-4b0a-816f-b5e3ee631026",
        "colab": {
          "base_uri": "https://localhost:8080/",
          "height": 34
        }
      },
      "source": [
        "df.duplicated().sum()"
      ],
      "execution_count": 14,
      "outputs": [
        {
          "output_type": "execute_result",
          "data": {
            "text/plain": [
              "0"
            ]
          },
          "metadata": {
            "tags": []
          },
          "execution_count": 14
        }
      ]
    },
    {
      "cell_type": "markdown",
      "metadata": {
        "id": "3avinPIRJllB"
      },
      "source": [
        "## 2. Tratamiento de Datos\n",
        "\n",
        "\n"
      ]
    },
    {
      "cell_type": "markdown",
      "metadata": {
        "id": "U9jAGOa43qWn"
      },
      "source": [
        "### 2.1. Cast de Atributos\n",
        "\n",
        "Como podemos ver, muchas de las *variables* continen *valores numéricos*; ***sin embargo***, algunas de ellas (***monthly_deb_capacity***, ***approved_amounts***, ***approved_interest_amount***) no son reconocidas como tal en el entorno de ejecución. Por ello, se hará un *cast* de dichos valores"
      ]
    },
    {
      "cell_type": "code",
      "metadata": {
        "id": "JZ6SCSG23pzb"
      },
      "source": [
        "atribs_obj = ['monthly_debt_capacity', 'approved_amount', 'approved_interest_amount']\n",
        "\n",
        "for atrib in atribs_obj:\n",
        "  df[atrib] = df[atrib].str.replace(',', '', regex=True)\n",
        "  df[atrib] = pd.to_numeric(df[atrib], downcast=\"float\")"
      ],
      "execution_count": 15,
      "outputs": []
    },
    {
      "cell_type": "code",
      "metadata": {
        "id": "SDuNc4AU5QQT",
        "outputId": "431ce02f-8445-4843-ce7e-084c3e717ebd",
        "colab": {
          "base_uri": "https://localhost:8080/",
          "height": 272
        }
      },
      "source": [
        "df.dtypes"
      ],
      "execution_count": 16,
      "outputs": [
        {
          "output_type": "execute_result",
          "data": {
            "text/plain": [
              "idPrestamo                        object\n",
              "target                             int64\n",
              "monthly_debt_capacity            float32\n",
              "var_employment_time_in_months    float64\n",
              "approved_amount                  float32\n",
              "approved_term                      int64\n",
              "approved_interest_amount         float32\n",
              "var_net_income                   float64\n",
              "person_gender                     object\n",
              "credit_history_marital_status     object\n",
              "var_max_sbs_qual_12m              object\n",
              "person_degree_type_desc           object\n",
              "default_request_term               int64\n",
              "default_request_amount             int64\n",
              "dtype: object"
            ]
          },
          "metadata": {
            "tags": []
          },
          "execution_count": 16
        }
      ]
    },
    {
      "cell_type": "markdown",
      "metadata": {
        "id": "CbFaPzqH5Tt4"
      },
      "source": [
        "Como podemos observar, los tipos de datos han sido convertidos a float para su manejabilidad"
      ]
    },
    {
      "cell_type": "markdown",
      "metadata": {
        "id": "s8xdPwWL6YNW"
      },
      "source": [
        "### 2.2. Descartando atributos\n",
        "\n",
        "Luego del análisis de variables, podemos descartar algunas que no aportarían valor a nuestro modelo. Estas son:\n",
        "\n",
        "1.   **idPrestamo**: Identificador de Préstamo\n",
        "2.   **person_gender**: Género de la persona que solicito el préstamo\n",
        "3. **default_request_amount**: Si escogio el monto de dinero ofrecido (según muestra el histograma anterior, todos los valores son 0)\n"
      ]
    },
    {
      "cell_type": "code",
      "metadata": {
        "id": "GPmjq4Ph59Up"
      },
      "source": [
        "df = df.drop([\"idPrestamo\", \"person_gender\", \"default_request_amount\"], axis=1)"
      ],
      "execution_count": 17,
      "outputs": []
    },
    {
      "cell_type": "code",
      "metadata": {
        "id": "GPRf2_fn5p5o",
        "outputId": "3fc93a0a-458f-4349-9d74-ea013bad054c",
        "colab": {
          "base_uri": "https://localhost:8080/",
          "height": 34
        }
      },
      "source": [
        "df.columns.shape[0]"
      ],
      "execution_count": 18,
      "outputs": [
        {
          "output_type": "execute_result",
          "data": {
            "text/plain": [
              "11"
            ]
          },
          "metadata": {
            "tags": []
          },
          "execution_count": 18
        }
      ]
    },
    {
      "cell_type": "markdown",
      "metadata": {
        "id": "LusLRjAA5twK"
      },
      "source": [
        "**df.columns.shape[0]** nos indica la cantidad de atributos actuales. Ya que se eliminaron tres columnas del dataframe obtenemos como resultado 11 (anteriormente 14 columnas)"
      ]
    },
    {
      "cell_type": "markdown",
      "metadata": {
        "id": "Gis4u1ZDssxW"
      },
      "source": [
        "### 2.3. Corrección de Carrera Ténica\n",
        "Tomando en referencia el análisis realizado en la sección 1.4. de atributos categóricos, debemos de realizar la corrección en cuestión"
      ]
    },
    {
      "cell_type": "code",
      "metadata": {
        "id": "yx2XelrNIKFh"
      },
      "source": [
        "df[\"person_degree_type_desc\"] = np.where(df[\"person_degree_type_desc\"].str.contains('Carrera'), 'Carrera Tecnica', df[\"person_degree_type_desc\"])"
      ],
      "execution_count": 19,
      "outputs": []
    },
    {
      "cell_type": "code",
      "metadata": {
        "id": "AB2-caWQ0pkm",
        "outputId": "e4f2a632-55f3-4814-ea16-9e33105b0dd2",
        "colab": {
          "base_uri": "https://localhost:8080/",
          "height": 348
        }
      },
      "source": [
        "df['person_degree_type_desc'].value_counts().plot(kind='bar').set_title('person_degree_type_desc')\n",
        "plt.show()"
      ],
      "execution_count": 20,
      "outputs": [
        {
          "output_type": "display_data",
          "data": {
            "image/png": "[encoded data removed]",
            "text/plain": [
              "<Figure size 432x288 with 1 Axes>"
            ]
          },
          "metadata": {
            "tags": [],
            "needs_background": "light"
          }
        }
      ]
    },
    {
      "cell_type": "markdown",
      "metadata": {
        "id": "eEqzk9o1xeoL"
      },
      "source": [
        "Podemos obserbar que ahora sí solo existe una sola categoría Carrera Técnica que engobla las categorías con errores"
      ]
    },
    {
      "cell_type": "markdown",
      "metadata": {
        "id": "E6Uy0X2l0VSm"
      },
      "source": [
        "### 2.4. Conversión de Atributos categóricos\n",
        "\n",
        "Para convertir los atributos categóricos utilizaremos ***One Hot Encoding***, al ser reemplazados con este algoritmo, serán eliminados del dataset."
      ]
    },
    {
      "cell_type": "code",
      "metadata": {
        "id": "C4kuaOdIIPYD",
        "outputId": "862c9640-817c-4292-802b-8a0c72d55971",
        "colab": {
          "base_uri": "https://localhost:8080/",
          "height": 241
        }
      },
      "source": [
        "atribs_prefix = ['chm', 'vms', 'pdt']\n",
        "\n",
        "# One Hot Encoding\n",
        "for prefixs, atrib in zip(atribs_prefix, atrib_cat):\n",
        "  ohe = pd.get_dummies(df[atrib], prefix=prefixs)\n",
        "  df = pd.concat([df, ohe], axis = 1)\n",
        "\n",
        "# Eliminando atributos\n",
        "for atrib in atrib_cat:\n",
        "  df = df.drop(columns=[atrib])\n",
        "\n",
        "df.head(5)"
      ],
      "execution_count": 21,
      "outputs": [
        {
          "output_type": "execute_result",
          "data": {
            "text/html": [
              "<div>\n",
              "<style scoped>\n",
              "    .dataframe tbody tr th:only-of-type {\n",
              "        vertical-align: middle;\n",
              "    }\n",
              "\n",
              "    .dataframe tbody tr th {\n",
              "        vertical-align: top;\n",
              "    }\n",
              "\n",
              "    .dataframe thead th {\n",
              "        text-align: right;\n",
              "    }\n",
              "</style>\n",
              "<table border=\"1\" class=\"dataframe\">\n",
              "  <thead>\n",
              "    <tr style=\"text-align: right;\">\n",
              "      <th></th>\n",
              "      <th>target</th>\n",
              "      <th>monthly_debt_capacity</th>\n",
              "      <th>var_employment_time_in_months</th>\n",
              "      <th>approved_amount</th>\n",
              "      <th>approved_term</th>\n",
              "      <th>approved_interest_amount</th>\n",
              "      <th>var_net_income</th>\n",
              "      <th>default_request_term</th>\n",
              "      <th>chm_C</th>\n",
              "      <th>chm_D</th>\n",
              "      <th>chm_S</th>\n",
              "      <th>chm_V</th>\n",
              "      <th>vms_CPP</th>\n",
              "      <th>vms_DEFICIENTE</th>\n",
              "      <th>vms_DUDOSO</th>\n",
              "      <th>vms_NORMAL</th>\n",
              "      <th>vms_PERDIDA</th>\n",
              "      <th>pdt_Carrera Tecnica</th>\n",
              "      <th>pdt_Postgrado</th>\n",
              "      <th>pdt_Primaria</th>\n",
              "      <th>pdt_Secundaria</th>\n",
              "      <th>pdt_Universitaria</th>\n",
              "    </tr>\n",
              "  </thead>\n",
              "  <tbody>\n",
              "    <tr>\n",
              "      <th>0</th>\n",
              "      <td>1</td>\n",
              "      <td>252.389999</td>\n",
              "      <td>9.0</td>\n",
              "      <td>1200.0</td>\n",
              "      <td>6</td>\n",
              "      <td>289.109985</td>\n",
              "      <td>1140.125000</td>\n",
              "      <td>1</td>\n",
              "      <td>1</td>\n",
              "      <td>0</td>\n",
              "      <td>0</td>\n",
              "      <td>0</td>\n",
              "      <td>0</td>\n",
              "      <td>0</td>\n",
              "      <td>0</td>\n",
              "      <td>1</td>\n",
              "      <td>0</td>\n",
              "      <td>0</td>\n",
              "      <td>0</td>\n",
              "      <td>0</td>\n",
              "      <td>1</td>\n",
              "      <td>0</td>\n",
              "    </tr>\n",
              "    <tr>\n",
              "      <th>1</th>\n",
              "      <td>1</td>\n",
              "      <td>244.570007</td>\n",
              "      <td>50.0</td>\n",
              "      <td>2200.0</td>\n",
              "      <td>12</td>\n",
              "      <td>696.150024</td>\n",
              "      <td>1061.375000</td>\n",
              "      <td>0</td>\n",
              "      <td>0</td>\n",
              "      <td>0</td>\n",
              "      <td>1</td>\n",
              "      <td>0</td>\n",
              "      <td>0</td>\n",
              "      <td>0</td>\n",
              "      <td>0</td>\n",
              "      <td>1</td>\n",
              "      <td>0</td>\n",
              "      <td>0</td>\n",
              "      <td>0</td>\n",
              "      <td>0</td>\n",
              "      <td>1</td>\n",
              "      <td>0</td>\n",
              "    </tr>\n",
              "    <tr>\n",
              "      <th>2</th>\n",
              "      <td>0</td>\n",
              "      <td>491.500000</td>\n",
              "      <td>64.0</td>\n",
              "      <td>1000.0</td>\n",
              "      <td>3</td>\n",
              "      <td>84.989998</td>\n",
              "      <td>2082.196667</td>\n",
              "      <td>0</td>\n",
              "      <td>0</td>\n",
              "      <td>0</td>\n",
              "      <td>1</td>\n",
              "      <td>0</td>\n",
              "      <td>0</td>\n",
              "      <td>0</td>\n",
              "      <td>0</td>\n",
              "      <td>1</td>\n",
              "      <td>0</td>\n",
              "      <td>0</td>\n",
              "      <td>0</td>\n",
              "      <td>0</td>\n",
              "      <td>1</td>\n",
              "      <td>0</td>\n",
              "    </tr>\n",
              "    <tr>\n",
              "      <th>3</th>\n",
              "      <td>0</td>\n",
              "      <td>848.650024</td>\n",
              "      <td>77.0</td>\n",
              "      <td>1500.0</td>\n",
              "      <td>6</td>\n",
              "      <td>221.529999</td>\n",
              "      <td>3422.423333</td>\n",
              "      <td>0</td>\n",
              "      <td>0</td>\n",
              "      <td>0</td>\n",
              "      <td>1</td>\n",
              "      <td>0</td>\n",
              "      <td>0</td>\n",
              "      <td>0</td>\n",
              "      <td>0</td>\n",
              "      <td>1</td>\n",
              "      <td>0</td>\n",
              "      <td>0</td>\n",
              "      <td>0</td>\n",
              "      <td>0</td>\n",
              "      <td>0</td>\n",
              "      <td>1</td>\n",
              "    </tr>\n",
              "    <tr>\n",
              "      <th>4</th>\n",
              "      <td>0</td>\n",
              "      <td>470.519989</td>\n",
              "      <td>82.0</td>\n",
              "      <td>1000.0</td>\n",
              "      <td>3</td>\n",
              "      <td>91.339996</td>\n",
              "      <td>1882.090000</td>\n",
              "      <td>1</td>\n",
              "      <td>0</td>\n",
              "      <td>0</td>\n",
              "      <td>1</td>\n",
              "      <td>0</td>\n",
              "      <td>0</td>\n",
              "      <td>0</td>\n",
              "      <td>0</td>\n",
              "      <td>1</td>\n",
              "      <td>0</td>\n",
              "      <td>0</td>\n",
              "      <td>0</td>\n",
              "      <td>0</td>\n",
              "      <td>0</td>\n",
              "      <td>1</td>\n",
              "    </tr>\n",
              "  </tbody>\n",
              "</table>\n",
              "</div>"
            ],
            "text/plain": [
              "   target  monthly_debt_capacity  ...  pdt_Secundaria  pdt_Universitaria\n",
              "0       1             252.389999  ...               1                  0\n",
              "1       1             244.570007  ...               1                  0\n",
              "2       0             491.500000  ...               1                  0\n",
              "3       0             848.650024  ...               0                  1\n",
              "4       0             470.519989  ...               0                  1\n",
              "\n",
              "[5 rows x 22 columns]"
            ]
          },
          "metadata": {
            "tags": []
          },
          "execution_count": 21
        }
      ]
    },
    {
      "cell_type": "code",
      "metadata": {
        "id": "X3hapLWP7gx2",
        "outputId": "8827dd20-3127-4f6b-d5da-5144dfbb5f9e",
        "colab": {
          "base_uri": "https://localhost:8080/",
          "height": 425
        }
      },
      "source": [
        "print('Nueva cantidad de atributos:',df.shape[1])\n",
        "print(df.dtypes)"
      ],
      "execution_count": 22,
      "outputs": [
        {
          "output_type": "stream",
          "text": [
            "Nueva cantidad de atributos: 22\n",
            "target                             int64\n",
            "monthly_debt_capacity            float32\n",
            "var_employment_time_in_months    float64\n",
            "approved_amount                  float32\n",
            "approved_term                      int64\n",
            "approved_interest_amount         float32\n",
            "var_net_income                   float64\n",
            "default_request_term               int64\n",
            "chm_C                              uint8\n",
            "chm_D                              uint8\n",
            "chm_S                              uint8\n",
            "chm_V                              uint8\n",
            "vms_CPP                            uint8\n",
            "vms_DEFICIENTE                     uint8\n",
            "vms_DUDOSO                         uint8\n",
            "vms_NORMAL                         uint8\n",
            "vms_PERDIDA                        uint8\n",
            "pdt_Carrera Tecnica                uint8\n",
            "pdt_Postgrado                      uint8\n",
            "pdt_Primaria                       uint8\n",
            "pdt_Secundaria                     uint8\n",
            "pdt_Universitaria                  uint8\n",
            "dtype: object\n"
          ],
          "name": "stdout"
        }
      ]
    },
    {
      "cell_type": "markdown",
      "metadata": {
        "id": "O48mT74ZPFFU"
      },
      "source": [
        "Como podemos observar, la cantidad de atributos aumentan (columnas) a partir de la implementación del ***One Hot Encoding***."
      ]
    },
    {
      "cell_type": "markdown",
      "metadata": {
        "id": "-7B3xa2Tkdh_"
      },
      "source": [
        "### 2.5. Sustitución de valores nulos\n",
        "La función sklearn.impute.SimpleImputer permite sustituir valores nulos por otros valores según varias estrategias disponibles. La estrategia a ejecutar se indica mediante el parámetro strategy.\n",
        "\n",
        "En este caso el ***atributo var_employment_time_in_months*** tenia valores NA la estrategia es sustituir los valores nulos por el valor medio de las características"
      ]
    },
    {
      "cell_type": "code",
      "metadata": {
        "id": "Lb9zPViiJj-q",
        "outputId": "c7a2bdd8-607a-411c-dd0f-85ed9365b637",
        "colab": {
          "base_uri": "https://localhost:8080/",
          "height": 334
        }
      },
      "source": [
        "from sklearn.impute import SimpleImputer\n",
        "si = SimpleImputer()\n",
        "\n",
        "df[\"var_employment_time_in_months\"] = si.fit_transform(df[\"var_employment_time_in_months\"].values.reshape(-1, 1))\n",
        "\n",
        "df.head(11)\n",
        "df.describe()"
      ],
      "execution_count": 23,
      "outputs": [
        {
          "output_type": "execute_result",
          "data": {
            "text/html": [
              "<div>\n",
              "<style scoped>\n",
              "    .dataframe tbody tr th:only-of-type {\n",
              "        vertical-align: middle;\n",
              "    }\n",
              "\n",
              "    .dataframe tbody tr th {\n",
              "        vertical-align: top;\n",
              "    }\n",
              "\n",
              "    .dataframe thead th {\n",
              "        text-align: right;\n",
              "    }\n",
              "</style>\n",
              "<table border=\"1\" class=\"dataframe\">\n",
              "  <thead>\n",
              "    <tr style=\"text-align: right;\">\n",
              "      <th></th>\n",
              "      <th>target</th>\n",
              "      <th>monthly_debt_capacity</th>\n",
              "      <th>var_employment_time_in_months</th>\n",
              "      <th>approved_amount</th>\n",
              "      <th>approved_term</th>\n",
              "      <th>approved_interest_amount</th>\n",
              "      <th>var_net_income</th>\n",
              "      <th>default_request_term</th>\n",
              "      <th>chm_C</th>\n",
              "      <th>chm_D</th>\n",
              "      <th>chm_S</th>\n",
              "      <th>chm_V</th>\n",
              "      <th>vms_CPP</th>\n",
              "      <th>vms_DEFICIENTE</th>\n",
              "      <th>vms_DUDOSO</th>\n",
              "      <th>vms_NORMAL</th>\n",
              "      <th>vms_PERDIDA</th>\n",
              "      <th>pdt_Carrera Tecnica</th>\n",
              "      <th>pdt_Postgrado</th>\n",
              "      <th>pdt_Primaria</th>\n",
              "      <th>pdt_Secundaria</th>\n",
              "      <th>pdt_Universitaria</th>\n",
              "    </tr>\n",
              "  </thead>\n",
              "  <tbody>\n",
              "    <tr>\n",
              "      <th>count</th>\n",
              "      <td>1719.000000</td>\n",
              "      <td>1719.000000</td>\n",
              "      <td>1719.000000</td>\n",
              "      <td>1719.000000</td>\n",
              "      <td>1719.000000</td>\n",
              "      <td>1719.000000</td>\n",
              "      <td>1719.000000</td>\n",
              "      <td>1719.000000</td>\n",
              "      <td>1719.000000</td>\n",
              "      <td>1719.000000</td>\n",
              "      <td>1719.000000</td>\n",
              "      <td>1719.000000</td>\n",
              "      <td>1719.000000</td>\n",
              "      <td>1719.000000</td>\n",
              "      <td>1719.000000</td>\n",
              "      <td>1719.000000</td>\n",
              "      <td>1719.000000</td>\n",
              "      <td>1719.000000</td>\n",
              "      <td>1719.000000</td>\n",
              "      <td>1719.000000</td>\n",
              "      <td>1719.000000</td>\n",
              "      <td>1719.000000</td>\n",
              "    </tr>\n",
              "    <tr>\n",
              "      <th>mean</th>\n",
              "      <td>0.295521</td>\n",
              "      <td>584.639282</td>\n",
              "      <td>33.979592</td>\n",
              "      <td>2136.998291</td>\n",
              "      <td>6.464805</td>\n",
              "      <td>407.184509</td>\n",
              "      <td>2693.545884</td>\n",
              "      <td>0.507853</td>\n",
              "      <td>0.162885</td>\n",
              "      <td>0.007563</td>\n",
              "      <td>0.828970</td>\n",
              "      <td>0.000582</td>\n",
              "      <td>0.117510</td>\n",
              "      <td>0.018034</td>\n",
              "      <td>0.000582</td>\n",
              "      <td>0.861547</td>\n",
              "      <td>0.002327</td>\n",
              "      <td>0.363002</td>\n",
              "      <td>0.037813</td>\n",
              "      <td>0.001745</td>\n",
              "      <td>0.127981</td>\n",
              "      <td>0.469459</td>\n",
              "    </tr>\n",
              "    <tr>\n",
              "      <th>std</th>\n",
              "      <td>0.456409</td>\n",
              "      <td>459.958984</td>\n",
              "      <td>25.275851</td>\n",
              "      <td>1504.947632</td>\n",
              "      <td>3.009842</td>\n",
              "      <td>407.703125</td>\n",
              "      <td>1825.694773</td>\n",
              "      <td>0.500084</td>\n",
              "      <td>0.369369</td>\n",
              "      <td>0.086659</td>\n",
              "      <td>0.376644</td>\n",
              "      <td>0.024119</td>\n",
              "      <td>0.322121</td>\n",
              "      <td>0.133112</td>\n",
              "      <td>0.024119</td>\n",
              "      <td>0.345475</td>\n",
              "      <td>0.048196</td>\n",
              "      <td>0.481005</td>\n",
              "      <td>0.190798</td>\n",
              "      <td>0.041751</td>\n",
              "      <td>0.334166</td>\n",
              "      <td>0.499212</td>\n",
              "    </tr>\n",
              "    <tr>\n",
              "      <th>min</th>\n",
              "      <td>0.000000</td>\n",
              "      <td>-158.750000</td>\n",
              "      <td>-1.000000</td>\n",
              "      <td>500.000000</td>\n",
              "      <td>1.000000</td>\n",
              "      <td>22.820000</td>\n",
              "      <td>0.000000</td>\n",
              "      <td>0.000000</td>\n",
              "      <td>0.000000</td>\n",
              "      <td>0.000000</td>\n",
              "      <td>0.000000</td>\n",
              "      <td>0.000000</td>\n",
              "      <td>0.000000</td>\n",
              "      <td>0.000000</td>\n",
              "      <td>0.000000</td>\n",
              "      <td>0.000000</td>\n",
              "      <td>0.000000</td>\n",
              "      <td>0.000000</td>\n",
              "      <td>0.000000</td>\n",
              "      <td>0.000000</td>\n",
              "      <td>0.000000</td>\n",
              "      <td>0.000000</td>\n",
              "    </tr>\n",
              "    <tr>\n",
              "      <th>25%</th>\n",
              "      <td>0.000000</td>\n",
              "      <td>350.760010</td>\n",
              "      <td>12.000000</td>\n",
              "      <td>1000.000000</td>\n",
              "      <td>6.000000</td>\n",
              "      <td>152.320007</td>\n",
              "      <td>1750.000000</td>\n",
              "      <td>0.000000</td>\n",
              "      <td>0.000000</td>\n",
              "      <td>0.000000</td>\n",
              "      <td>1.000000</td>\n",
              "      <td>0.000000</td>\n",
              "      <td>0.000000</td>\n",
              "      <td>0.000000</td>\n",
              "      <td>0.000000</td>\n",
              "      <td>1.000000</td>\n",
              "      <td>0.000000</td>\n",
              "      <td>0.000000</td>\n",
              "      <td>0.000000</td>\n",
              "      <td>0.000000</td>\n",
              "      <td>0.000000</td>\n",
              "      <td>0.000000</td>\n",
              "    </tr>\n",
              "    <tr>\n",
              "      <th>50%</th>\n",
              "      <td>0.000000</td>\n",
              "      <td>480.739990</td>\n",
              "      <td>33.000000</td>\n",
              "      <td>1500.000000</td>\n",
              "      <td>6.000000</td>\n",
              "      <td>281.390015</td>\n",
              "      <td>2373.758333</td>\n",
              "      <td>1.000000</td>\n",
              "      <td>0.000000</td>\n",
              "      <td>0.000000</td>\n",
              "      <td>1.000000</td>\n",
              "      <td>0.000000</td>\n",
              "      <td>0.000000</td>\n",
              "      <td>0.000000</td>\n",
              "      <td>0.000000</td>\n",
              "      <td>1.000000</td>\n",
              "      <td>0.000000</td>\n",
              "      <td>0.000000</td>\n",
              "      <td>0.000000</td>\n",
              "      <td>0.000000</td>\n",
              "      <td>0.000000</td>\n",
              "      <td>0.000000</td>\n",
              "    </tr>\n",
              "    <tr>\n",
              "      <th>75%</th>\n",
              "      <td>1.000000</td>\n",
              "      <td>660.820007</td>\n",
              "      <td>55.000000</td>\n",
              "      <td>2500.000000</td>\n",
              "      <td>6.000000</td>\n",
              "      <td>429.799988</td>\n",
              "      <td>3075.133333</td>\n",
              "      <td>1.000000</td>\n",
              "      <td>0.000000</td>\n",
              "      <td>0.000000</td>\n",
              "      <td>1.000000</td>\n",
              "      <td>0.000000</td>\n",
              "      <td>0.000000</td>\n",
              "      <td>0.000000</td>\n",
              "      <td>0.000000</td>\n",
              "      <td>1.000000</td>\n",
              "      <td>0.000000</td>\n",
              "      <td>1.000000</td>\n",
              "      <td>0.000000</td>\n",
              "      <td>0.000000</td>\n",
              "      <td>0.000000</td>\n",
              "      <td>1.000000</td>\n",
              "    </tr>\n",
              "    <tr>\n",
              "      <th>max</th>\n",
              "      <td>1.000000</td>\n",
              "      <td>7243.200195</td>\n",
              "      <td>87.000000</td>\n",
              "      <td>12200.000000</td>\n",
              "      <td>12.000000</td>\n",
              "      <td>2311.120117</td>\n",
              "      <td>28587.000000</td>\n",
              "      <td>1.000000</td>\n",
              "      <td>1.000000</td>\n",
              "      <td>1.000000</td>\n",
              "      <td>1.000000</td>\n",
              "      <td>1.000000</td>\n",
              "      <td>1.000000</td>\n",
              "      <td>1.000000</td>\n",
              "      <td>1.000000</td>\n",
              "      <td>1.000000</td>\n",
              "      <td>1.000000</td>\n",
              "      <td>1.000000</td>\n",
              "      <td>1.000000</td>\n",
              "      <td>1.000000</td>\n",
              "      <td>1.000000</td>\n",
              "      <td>1.000000</td>\n",
              "    </tr>\n",
              "  </tbody>\n",
              "</table>\n",
              "</div>"
            ],
            "text/plain": [
              "            target  monthly_debt_capacity  ...  pdt_Secundaria  pdt_Universitaria\n",
              "count  1719.000000            1719.000000  ...     1719.000000        1719.000000\n",
              "mean      0.295521             584.639282  ...        0.127981           0.469459\n",
              "std       0.456409             459.958984  ...        0.334166           0.499212\n",
              "min       0.000000            -158.750000  ...        0.000000           0.000000\n",
              "25%       0.000000             350.760010  ...        0.000000           0.000000\n",
              "50%       0.000000             480.739990  ...        0.000000           0.000000\n",
              "75%       1.000000             660.820007  ...        0.000000           1.000000\n",
              "max       1.000000            7243.200195  ...        1.000000           1.000000\n",
              "\n",
              "[8 rows x 22 columns]"
            ]
          },
          "metadata": {
            "tags": []
          },
          "execution_count": 23
        }
      ]
    },
    {
      "cell_type": "markdown",
      "metadata": {
        "id": "FnQnTBP0go3I"
      },
      "source": [
        "### 2.6. Outliers \n",
        "  En este caso identificamos en la variable var_net_income (salario) presentaba valores atipicos a partir del analisis del diagrama de cajas. Identificamos el valor Max a partir de los percentiles 25 y 75. Se utiliza los imputers para rellenar los valores atipicos.\n"
      ]
    },
    {
      "cell_type": "code",
      "metadata": {
        "id": "2zIVnpdDeZUf",
        "outputId": "f9e322dd-7d99-4385-a7cc-6619a54e891e",
        "colab": {
          "base_uri": "https://localhost:8080/",
          "height": 287
        }
      },
      "source": [
        "Q1 =  df['var_net_income'].quantile(0.25)\n",
        "Q3 = df['var_net_income'].quantile(0.75)\n",
        "IQR = Q3 - Q1\n",
        "\n",
        "Max = Q3+1.5*IQR\n",
        "\n",
        "boxplot = df.boxplot(column=['var_net_income'])\n",
        "\n",
        "df.loc[(df['var_net_income'] > Max)] = None\n",
        "\n",
        "print(Q1,Q3,Max)"
      ],
      "execution_count": 24,
      "outputs": [
        {
          "output_type": "stream",
          "text": [
            "1750.0 3075.1333335 5062.83333375\n"
          ],
          "name": "stdout"
        },
        {
          "output_type": "display_data",
          "data": {
            "image/png": "[encoded data removed]",
            "text/plain": [
              "<Figure size 432x288 with 1 Axes>"
            ]
          },
          "metadata": {
            "tags": [],
            "needs_background": "light"
          }
        }
      ]
    },
    {
      "cell_type": "code",
      "metadata": {
        "id": "58d-hQM1fSXo",
        "outputId": "baedaa7a-2d17-4872-b904-ec62cad60e95",
        "colab": {
          "base_uri": "https://localhost:8080/",
          "height": 266
        }
      },
      "source": [
        "df['var_net_income'].describe()\n",
        "\n",
        "df.loc[(df['var_net_income'] > Max)] = None\n",
        "\n",
        "imp_mean = SimpleImputer(missing_values=np.nan, strategy='mean')\n",
        "\n",
        "\n",
        "df[\"var_net_income\"] = imp_mean.fit_transform(df[\"var_net_income\"].values.reshape(-1, 1))\n",
        "\n",
        "boxplot = df.boxplot(column=['var_net_income'])\n",
        "df[\"var_net_income\"].describe()\n",
        "\n",
        "df = df.dropna()"
      ],
      "execution_count": 26,
      "outputs": [
        {
          "output_type": "display_data",
          "data": {
            "image/png": "[encoded data removed]",
            "text/plain": [
              "<Figure size 432x288 with 1 Axes>"
            ]
          },
          "metadata": {
            "tags": [],
            "needs_background": "light"
          }
        }
      ]
    },
    {
      "cell_type": "markdown",
      "metadata": {
        "id": "TIa8k-gI9j4J"
      },
      "source": [
        "### 2.7 Normalización de datos\n",
        "\n",
        "Utilizaremos la ***MinMaxScaler*** para normalizar nuestros datos para los modelos"
      ]
    },
    {
      "cell_type": "code",
      "metadata": {
        "id": "hvbRdqiP9vnv",
        "outputId": "5a7541a7-0c8b-4ff0-e250-f84a69f09889",
        "colab": {
          "base_uri": "https://localhost:8080/",
          "height": 241
        }
      },
      "source": [
        "scaler = MinMaxScaler()\n",
        "df = pd.DataFrame(scaler.fit_transform(df), columns=df.columns)\n",
        "df.head(5)"
      ],
      "execution_count": 27,
      "outputs": [
        {
          "output_type": "execute_result",
          "data": {
            "text/html": [
              "<div>\n",
              "<style scoped>\n",
              "    .dataframe tbody tr th:only-of-type {\n",
              "        vertical-align: middle;\n",
              "    }\n",
              "\n",
              "    .dataframe tbody tr th {\n",
              "        vertical-align: top;\n",
              "    }\n",
              "\n",
              "    .dataframe thead th {\n",
              "        text-align: right;\n",
              "    }\n",
              "</style>\n",
              "<table border=\"1\" class=\"dataframe\">\n",
              "  <thead>\n",
              "    <tr style=\"text-align: right;\">\n",
              "      <th></th>\n",
              "      <th>target</th>\n",
              "      <th>monthly_debt_capacity</th>\n",
              "      <th>var_employment_time_in_months</th>\n",
              "      <th>approved_amount</th>\n",
              "      <th>approved_term</th>\n",
              "      <th>approved_interest_amount</th>\n",
              "      <th>var_net_income</th>\n",
              "      <th>default_request_term</th>\n",
              "      <th>chm_C</th>\n",
              "      <th>chm_D</th>\n",
              "      <th>chm_S</th>\n",
              "      <th>chm_V</th>\n",
              "      <th>vms_CPP</th>\n",
              "      <th>vms_DEFICIENTE</th>\n",
              "      <th>vms_DUDOSO</th>\n",
              "      <th>vms_NORMAL</th>\n",
              "      <th>vms_PERDIDA</th>\n",
              "      <th>pdt_Carrera Tecnica</th>\n",
              "      <th>pdt_Postgrado</th>\n",
              "      <th>pdt_Primaria</th>\n",
              "      <th>pdt_Secundaria</th>\n",
              "      <th>pdt_Universitaria</th>\n",
              "    </tr>\n",
              "  </thead>\n",
              "  <tbody>\n",
              "    <tr>\n",
              "      <th>0</th>\n",
              "      <td>1.0</td>\n",
              "      <td>0.252037</td>\n",
              "      <td>0.113636</td>\n",
              "      <td>0.064815</td>\n",
              "      <td>0.454545</td>\n",
              "      <td>0.116370</td>\n",
              "      <td>0.225366</td>\n",
              "      <td>1.0</td>\n",
              "      <td>1.0</td>\n",
              "      <td>0.0</td>\n",
              "      <td>0.0</td>\n",
              "      <td>0.0</td>\n",
              "      <td>0.0</td>\n",
              "      <td>0.0</td>\n",
              "      <td>0.0</td>\n",
              "      <td>1.0</td>\n",
              "      <td>0.0</td>\n",
              "      <td>0.0</td>\n",
              "      <td>0.0</td>\n",
              "      <td>0.0</td>\n",
              "      <td>1.0</td>\n",
              "      <td>0.0</td>\n",
              "    </tr>\n",
              "    <tr>\n",
              "      <th>1</th>\n",
              "      <td>1.0</td>\n",
              "      <td>0.247243</td>\n",
              "      <td>0.579545</td>\n",
              "      <td>0.157407</td>\n",
              "      <td>1.000000</td>\n",
              "      <td>0.294249</td>\n",
              "      <td>0.209799</td>\n",
              "      <td>0.0</td>\n",
              "      <td>0.0</td>\n",
              "      <td>0.0</td>\n",
              "      <td>1.0</td>\n",
              "      <td>0.0</td>\n",
              "      <td>0.0</td>\n",
              "      <td>0.0</td>\n",
              "      <td>0.0</td>\n",
              "      <td>1.0</td>\n",
              "      <td>0.0</td>\n",
              "      <td>0.0</td>\n",
              "      <td>0.0</td>\n",
              "      <td>0.0</td>\n",
              "      <td>1.0</td>\n",
              "      <td>0.0</td>\n",
              "    </tr>\n",
              "    <tr>\n",
              "      <th>2</th>\n",
              "      <td>0.0</td>\n",
              "      <td>0.398616</td>\n",
              "      <td>0.738636</td>\n",
              "      <td>0.046296</td>\n",
              "      <td>0.181818</td>\n",
              "      <td>0.027169</td>\n",
              "      <td>0.411583</td>\n",
              "      <td>0.0</td>\n",
              "      <td>0.0</td>\n",
              "      <td>0.0</td>\n",
              "      <td>1.0</td>\n",
              "      <td>0.0</td>\n",
              "      <td>0.0</td>\n",
              "      <td>0.0</td>\n",
              "      <td>0.0</td>\n",
              "      <td>1.0</td>\n",
              "      <td>0.0</td>\n",
              "      <td>0.0</td>\n",
              "      <td>0.0</td>\n",
              "      <td>0.0</td>\n",
              "      <td>1.0</td>\n",
              "      <td>0.0</td>\n",
              "    </tr>\n",
              "    <tr>\n",
              "      <th>3</th>\n",
              "      <td>0.0</td>\n",
              "      <td>0.617556</td>\n",
              "      <td>0.886364</td>\n",
              "      <td>0.092593</td>\n",
              "      <td>0.454545</td>\n",
              "      <td>0.086837</td>\n",
              "      <td>0.676502</td>\n",
              "      <td>0.0</td>\n",
              "      <td>0.0</td>\n",
              "      <td>0.0</td>\n",
              "      <td>1.0</td>\n",
              "      <td>0.0</td>\n",
              "      <td>0.0</td>\n",
              "      <td>0.0</td>\n",
              "      <td>0.0</td>\n",
              "      <td>1.0</td>\n",
              "      <td>0.0</td>\n",
              "      <td>0.0</td>\n",
              "      <td>0.0</td>\n",
              "      <td>0.0</td>\n",
              "      <td>0.0</td>\n",
              "      <td>1.0</td>\n",
              "    </tr>\n",
              "    <tr>\n",
              "      <th>4</th>\n",
              "      <td>0.0</td>\n",
              "      <td>0.385755</td>\n",
              "      <td>0.943182</td>\n",
              "      <td>0.046296</td>\n",
              "      <td>0.181818</td>\n",
              "      <td>0.029944</td>\n",
              "      <td>0.372028</td>\n",
              "      <td>1.0</td>\n",
              "      <td>0.0</td>\n",
              "      <td>0.0</td>\n",
              "      <td>1.0</td>\n",
              "      <td>0.0</td>\n",
              "      <td>0.0</td>\n",
              "      <td>0.0</td>\n",
              "      <td>0.0</td>\n",
              "      <td>1.0</td>\n",
              "      <td>0.0</td>\n",
              "      <td>0.0</td>\n",
              "      <td>0.0</td>\n",
              "      <td>0.0</td>\n",
              "      <td>0.0</td>\n",
              "      <td>1.0</td>\n",
              "    </tr>\n",
              "  </tbody>\n",
              "</table>\n",
              "</div>"
            ],
            "text/plain": [
              "   target  monthly_debt_capacity  ...  pdt_Secundaria  pdt_Universitaria\n",
              "0     1.0               0.252037  ...             1.0                0.0\n",
              "1     1.0               0.247243  ...             1.0                0.0\n",
              "2     0.0               0.398616  ...             1.0                0.0\n",
              "3     0.0               0.617556  ...             0.0                1.0\n",
              "4     0.0               0.385755  ...             0.0                1.0\n",
              "\n",
              "[5 rows x 22 columns]"
            ]
          },
          "metadata": {
            "tags": []
          },
          "execution_count": 27
        }
      ]
    },
    {
      "cell_type": "markdown",
      "metadata": {
        "id": "rjnawK4q9xdZ"
      },
      "source": [
        "### 2.8 Separación de datos en subconjuntos\n",
        "\n",
        "Para que nuestros modelos puedan procesar los datos, los separaremos en subconjuntos, X contendrá los atributos mientras y contendrá el atributo clase"
      ]
    },
    {
      "cell_type": "code",
      "metadata": {
        "id": "tCChf4sW92z2"
      },
      "source": [
        "X = df[[x for x in df.columns if x != 'target']]\n",
        "y = pd.to_numeric(df['target'], downcast=\"integer\")"
      ],
      "execution_count": 28,
      "outputs": []
    },
    {
      "cell_type": "markdown",
      "metadata": {
        "id": "gzxeClSOK_Pk"
      },
      "source": [
        "## 3. Clasificación y validación de modelos"
      ]
    },
    {
      "cell_type": "markdown",
      "metadata": {
        "id": "-MIYVxjZ3Icc"
      },
      "source": [
        "Los modelos para la clasificación de registros serán: **KNN**, **Gaussian Naive Bayes**, **Multinomial Naive Bayes**, **SVC** y la **red neuronal LSTM**"
      ]
    },
    {
      "cell_type": "markdown",
      "metadata": {
        "id": "eXZSH1384f6h"
      },
      "source": [
        "En cada uno de estos modelos se implementará cross-validation para obtener el rendimiento promedio, mientras que los párametros se obtendrán con forme visualizemos las gráficas correspondientes."
      ]
    },
    {
      "cell_type": "markdown",
      "metadata": {
        "id": "wNKH86H3VxTi"
      },
      "source": [
        "Para el problema a resolver, como banco interesa mucho más acertar con las personas a las que no les debo desembolsar un préstamo, pues no hacerlo supondría una pérdida de dinero. Es por eso que el rendimiento de la clasificación la basaremos en ***f1 ponderado***, el cual combina precision y recall para obtener un rendimiento combinado de estas dos medidas. "
      ]
    },
    {
      "cell_type": "markdown",
      "metadata": {
        "id": "cX1HB0SOnPfK"
      },
      "source": [
        "![image.png](data:image/png;base64,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)"
      ]
    },
    {
      "cell_type": "markdown",
      "metadata": {
        "id": "7mJRkMZ_g94a"
      },
      "source": [
        "Para la graficación de las curvas de aprendizaje usamos como referencia la función ***plot_learning_curve*** la cual podemos encontrar [aquí](https://scikit-learn.org/stable/auto_examples/model_selection/plot_learning_curve.html). Esta función además nos permitirá visualizar graficamente el performance y la escalabilidad del modelo."
      ]
    },
    {
      "cell_type": "code",
      "metadata": {
        "id": "VFhjFhbmhuwm",
        "cellView": "form"
      },
      "source": [
        "#@title Código de la funcion plot_learning_curve\n",
        "\n",
        "def plot_learning_curve(estimator, title, X, y, axes=None, ylim=None, cv=None,\n",
        "                        n_jobs=None, train_sizes=np.linspace(.1, 1.0, 5)):\n",
        "    if axes is None:\n",
        "        _, axes = plt.subplots(1, 3, figsize=(20, 5))\n",
        "\n",
        "    axes[0].set_title(title)\n",
        "    if ylim is not None:\n",
        "        axes[0].set_ylim(*ylim)\n",
        "    axes[0].set_xlabel(\"Training examples\")\n",
        "    axes[0].set_ylabel(\"Score\")\n",
        "\n",
        "    train_sizes, train_scores, test_scores, fit_times, _ = \\\n",
        "        learning_curve(estimator, X, y, cv=cv, n_jobs=n_jobs,\n",
        "                       train_sizes=train_sizes,\n",
        "                       return_times=True)\n",
        "    train_scores_mean = np.mean(train_scores, axis=1)\n",
        "    train_scores_std = np.std(train_scores, axis=1)\n",
        "    test_scores_mean = np.mean(test_scores, axis=1)\n",
        "    test_scores_std = np.std(test_scores, axis=1)\n",
        "    fit_times_mean = np.mean(fit_times, axis=1)\n",
        "    fit_times_std = np.std(fit_times, axis=1)\n",
        "\n",
        "    # Plot learning curve\n",
        "    axes[0].grid()\n",
        "    axes[0].fill_between(train_sizes, train_scores_mean - train_scores_std,\n",
        "                         train_scores_mean + train_scores_std, alpha=0.1,\n",
        "                         color=\"r\")\n",
        "    axes[0].fill_between(train_sizes, test_scores_mean - test_scores_std,\n",
        "                         test_scores_mean + test_scores_std, alpha=0.1,\n",
        "                         color=\"g\")\n",
        "    axes[0].plot(train_sizes, train_scores_mean, 'o-', color=\"r\",\n",
        "                 label=\"Training score\")\n",
        "    axes[0].plot(train_sizes, test_scores_mean, 'o-', color=\"g\",\n",
        "                 label=\"Cross-validation score\")\n",
        "    axes[0].legend(loc=\"best\")\n",
        "\n",
        "    # Plot n_samples vs fit_times\n",
        "    axes[1].grid()\n",
        "    axes[1].plot(train_sizes, fit_times_mean, 'o-')\n",
        "    axes[1].fill_between(train_sizes, fit_times_mean - fit_times_std,\n",
        "                         fit_times_mean + fit_times_std, alpha=0.1)\n",
        "    axes[1].set_xlabel(\"Training examples\")\n",
        "    axes[1].set_ylabel(\"fit_times\")\n",
        "    axes[1].set_title(\"Scalability of the model\")\n",
        "\n",
        "    # Plot fit_time vs score\n",
        "    axes[2].grid()\n",
        "    axes[2].plot(fit_times_mean, test_scores_mean, 'o-')\n",
        "    axes[2].fill_between(fit_times_mean, test_scores_mean - test_scores_std,\n",
        "                         test_scores_mean + test_scores_std, alpha=0.1)\n",
        "    axes[2].set_xlabel(\"fit_times\")\n",
        "    axes[2].set_ylabel(\"Score\")\n",
        "    axes[2].set_title(\"Performance of the model\")\n",
        "\n",
        "    return plt"
      ],
      "execution_count": 29,
      "outputs": []
    },
    {
      "cell_type": "markdown",
      "metadata": {
        "id": "RHZxjfgFYqGI"
      },
      "source": [
        "### 3.1. Modelo Nearest Neighbors\n",
        "\n",
        "El principio detrás este modelo es encontrar un número predefinido de muestras de entrenamiento más cercanas en distancia al nuevo punto y de esta forma la la clase a partir de ellas. El valor de ***n*** nos indica la cantidad de vecinos que tomaremos en cuenta para la clasificación y la complejidad."
      ]
    },
    {
      "cell_type": "markdown",
      "metadata": {
        "id": "fmqAMKH_35QJ"
      },
      "source": [
        "Probando KNN"
      ]
    },
    {
      "cell_type": "code",
      "metadata": {
        "id": "rgQ7fG15MmTU",
        "outputId": "282a7312-c5f9-4466-dab1-1b7cba316a16",
        "colab": {
          "base_uri": "https://localhost:8080/",
          "height": 71
        }
      },
      "source": [
        "knn = KNeighborsClassifier(n_neighbors=2)\n",
        "X_train, X_test, y_train, y_test = train_test_split(X, y, random_state = 10,train_size = 0.5)\n",
        "kfold = KFold(n_splits = 10, random_state = 10)"
      ],
      "execution_count": 30,
      "outputs": [
        {
          "output_type": "stream",
          "text": [
            "/usr/local/lib/python3.6/dist-packages/sklearn/model_selection/_split.py:296: FutureWarning: Setting a random_state has no effect since shuffle is False. This will raise an error in 0.24. You should leave random_state to its default (None), or set shuffle=True.\n",
            "  FutureWarning\n"
          ],
          "name": "stderr"
        }
      ]
    },
    {
      "cell_type": "code",
      "metadata": {
        "id": "L1AUMrEYXrS6",
        "outputId": "a6e91812-1f1a-489f-e62b-f86082fa38a4",
        "colab": {
          "base_uri": "https://localhost:8080/",
          "height": 187
        }
      },
      "source": [
        "knn.fit(X_train, y_train)\n",
        "y_knn_predict = knn.predict(X_test)\n",
        "print(classification_report(y_test, y_knn_predict))\n",
        "print(\"Accuracy Test: \",accuracy_score(y_test, y_knn_predict))"
      ],
      "execution_count": 31,
      "outputs": [
        {
          "output_type": "stream",
          "text": [
            "              precision    recall  f1-score   support\n",
            "\n",
            "           0       0.70      0.91      0.79       550\n",
            "           1       0.41      0.14      0.21       253\n",
            "\n",
            "    accuracy                           0.67       803\n",
            "   macro avg       0.55      0.52      0.50       803\n",
            "weighted avg       0.61      0.67      0.61       803\n",
            "\n",
            "Accuracy Test:  0.6662515566625156\n"
          ],
          "name": "stdout"
        }
      ]
    },
    {
      "cell_type": "code",
      "metadata": {
        "id": "6cDBMIQdS1H3",
        "outputId": "6efb261a-4acc-4b64-f818-9b26860a7046",
        "colab": {
          "base_uri": "https://localhost:8080/",
          "height": 85
        }
      },
      "source": [
        "print(\"Accuracy Average  : \", cross_val_score(knn, X, y, cv=kfold, scoring = \"accuracy\").mean())\n",
        "print(\"F1 Average        : \",cross_val_score(knn, X, y, cv=kfold, scoring = \"f1_weighted\").mean())\n",
        "print(\"Precision Average : \",cross_val_score(knn, X, y, cv=kfold, scoring = \"precision_weighted\").mean())\n",
        "print(\"Recall Average    : \",cross_val_score(knn, X, y, cv=kfold, scoring = \"recall_weighted\").mean())"
      ],
      "execution_count": 32,
      "outputs": [
        {
          "output_type": "stream",
          "text": [
            "Accuracy Average  :  0.676607142857143\n",
            "F1 Average        :  0.624778777426098\n",
            "Precision Average :  0.6271879595404714\n",
            "Recall Average    :  0.676607142857143\n"
          ],
          "name": "stdout"
        }
      ]
    },
    {
      "cell_type": "markdown",
      "metadata": {
        "id": "jI5lFFT5Lf_P"
      },
      "source": [
        "Para determinar que valor de n y el tamaño de la data de entrenamiento (parámetros adecuados) , realizaremos la gráfica de **validación** y **aprendizaje**"
      ]
    },
    {
      "cell_type": "markdown",
      "metadata": {
        "id": "Z6cUYnzKjnNK"
      },
      "source": [
        "3.1.1. Gráfica de Validación"
      ]
    },
    {
      "cell_type": "code",
      "metadata": {
        "id": "w53wg7vUj7NW",
        "outputId": "1a3d2aee-b2d0-4a15-da2c-154e1e375694",
        "colab": {
          "base_uri": "https://localhost:8080/",
          "height": 449
        }
      },
      "source": [
        "from yellowbrick.model_selection import ValidationCurve\n",
        "param_range = np.arange(0, 25, 1)\n",
        "knnVcF1w = ValidationCurve(\n",
        "    KNeighborsClassifier(), param_name=\"n_neighbors\",\n",
        "    param_range=param_range, cv=kfold, scoring=\"f1_weighted\", n_jobs=4,\n",
        ")\n",
        "knnVcF1w.fit(X, y)\n",
        "plt.legend(loc='best')\n",
        "plt.xlabel('n')\n",
        "plt.ylabel('F1 Weighted Score')\n",
        "plt.show()"
      ],
      "execution_count": 33,
      "outputs": [
        {
          "output_type": "stream",
          "text": [
            "/usr/local/lib/python3.6/dist-packages/sklearn/utils/deprecation.py:144: FutureWarning: The sklearn.metrics.classification module is  deprecated in version 0.22 and will be removed in version 0.24. The corresponding classes / functions should instead be imported from sklearn.metrics. Anything that cannot be imported from sklearn.metrics is now part of the private API.\n",
            "  warnings.warn(message, FutureWarning)\n",
            "/usr/local/lib/python3.6/dist-packages/sklearn/base.py:197: FutureWarning: From version 0.24, get_params will raise an AttributeError if a parameter cannot be retrieved as an instance attribute. Previously it would return None.\n",
            "  FutureWarning)\n"
          ],
          "name": "stderr"
        },
        {
          "output_type": "display_data",
          "data": {
            "image/png": "[encoded data removed]",
            "text/plain": [
              "<Figure size 576x396 with 1 Axes>"
            ]
          },
          "metadata": {
            "tags": []
          }
        }
      ]
    },
    {
      "cell_type": "markdown",
      "metadata": {
        "id": "MTyn40ZzoxfY"
      },
      "source": [
        "Como podemos observar, aumentar el valor de **n** no supone una variación considerable en el score. Es por ello que se elige el valor de n = 5 ya que la complejidad no es tan alta y su score, comparado con el resto, se encuentra en el promedio."
      ]
    },
    {
      "cell_type": "markdown",
      "metadata": {
        "id": "Vv0yuSf0iPuj"
      },
      "source": [
        "3.1.2. Tasa de Error\n",
        "\n",
        "Esta gráfica muestra el error calculado respecto a la variación del valor de ***n***"
      ]
    },
    {
      "cell_type": "code",
      "metadata": {
        "id": "TlTxpRQi0sNc",
        "outputId": "ef91b581-869b-473b-96c4-2aec64930f11",
        "colab": {
          "base_uri": "https://localhost:8080/",
          "height": 420
        }
      },
      "source": [
        "rateError = []\n",
        "for i in range(1,25):\n",
        "    knn = KNeighborsClassifier(n_neighbors=i)\n",
        "    knn.fit(X_train,y_train)\n",
        "    pred_i = knn.predict(X_test)\n",
        "    rateError.append(np.mean(pred_i != y_test))\n",
        "\n",
        "plt.figure(figsize=(10,6))\n",
        "plt.plot(range(1,25),rateError,color='blue', linestyle='dashdot', marker=\"H\",\n",
        "         markerfacecolor='red', markersize=10)\n",
        "plt.title('Tasa de error vs. N')\n",
        "plt.xlabel('N')\n",
        "plt.ylabel('Tasa de Error')"
      ],
      "execution_count": 34,
      "outputs": [
        {
          "output_type": "execute_result",
          "data": {
            "text/plain": [
              "Text(0, 0.5, 'Tasa de Error')"
            ]
          },
          "metadata": {
            "tags": []
          },
          "execution_count": 34
        },
        {
          "output_type": "display_data",
          "data": {
            "image/png": "[encoded data removed]",
            "text/plain": [
              "<Figure size 720x432 with 1 Axes>"
            ]
          },
          "metadata": {
            "tags": []
          }
        }
      ]
    },
    {
      "cell_type": "markdown",
      "metadata": {
        "id": "SP2or22Zq5vg"
      },
      "source": [
        "Podemos observar que a medida que aumentamos la complejidad (n), el error disminuye considerablemente. Sin embargo, esta tasa de error se basa en la diferencia entre el 100% y el porcentaje de accuracy que obtiene el modelo."
      ]
    },
    {
      "cell_type": "markdown",
      "metadata": {
        "id": "xbGJdobfh4Qu"
      },
      "source": [
        "3.1.3. Curva de Aprendizaje"
      ]
    },
    {
      "cell_type": "code",
      "metadata": {
        "id": "-7pZMh1PiEBL",
        "outputId": "62f94142-fdbd-42fd-b807-d6c8688a0edb",
        "colab": {
          "base_uri": "https://localhost:8080/",
          "height": 282
        }
      },
      "source": [
        "plot_learning_curve(KNeighborsClassifier(n_neighbors=5), \"KNN Learning Curves\", X, y,cv= kfold)\n",
        "plt.show()"
      ],
      "execution_count": 35,
      "outputs": [
        {
          "output_type": "display_data",
          "data": {
            "image/png": "[encoded data removed]",
            "text/plain": [
              "<Figure size 1440x360 with 3 Axes>"
            ]
          },
          "metadata": {
            "tags": []
          }
        }
      ]
    },
    {
      "cell_type": "markdown",
      "metadata": {
        "id": "zWjd0dMdr_7t"
      },
      "source": [
        "Gracias a la curva de aprendizaje podemos observar que la curva de entrenamiento y validación no llegan al ajuste adecuado. Es más, el aumentar la cantidad de data para el entrenamiento empeora los del modelo. Aproximadamente el porcentaje de entrenamiento a utilizar es del 30% de la data total."
      ]
    },
    {
      "cell_type": "markdown",
      "metadata": {
        "id": "-mPVbRGuurY2"
      },
      "source": [
        "***Prueba del modelo con los parametros adecuados cálculados***"
      ]
    },
    {
      "cell_type": "code",
      "metadata": {
        "id": "WdYPVh5s3R89"
      },
      "source": [
        "knnAd = KNeighborsClassifier(n_neighbors=5)\n",
        "X_trainKnn, X_testKnn, y_trainKnn, y_testKnn = train_test_split(X, y, random_state = 10, train_size = 0.3)"
      ],
      "execution_count": 36,
      "outputs": []
    },
    {
      "cell_type": "markdown",
      "metadata": {
        "id": "CYd0Cj8a04TZ"
      },
      "source": [
        "Cambiando la cantidad de n_splits"
      ]
    },
    {
      "cell_type": "code",
      "metadata": {
        "id": "H4b-OK6du5IE",
        "outputId": "f0e9f373-9c95-41df-af08-0a68d9d32fef",
        "colab": {
          "base_uri": "https://localhost:8080/",
          "height": 88
        }
      },
      "source": [
        "#@title n_splits = 10\n",
        "kfoldKnn =KFold(n_splits = 10, random_state = 10)\n",
        "print(\"F1 Average: \",cross_val_score(knnAd, X, y, cv= kfoldKnn, scoring = \"f1_weighted\").mean())"
      ],
      "execution_count": 44,
      "outputs": [
        {
          "output_type": "stream",
          "text": [
            "F1 Average:  0.6440128066819242\n"
          ],
          "name": "stdout"
        },
        {
          "output_type": "stream",
          "text": [
            "/usr/local/lib/python3.6/dist-packages/sklearn/model_selection/_split.py:296: FutureWarning: Setting a random_state has no effect since shuffle is False. This will raise an error in 0.24. You should leave random_state to its default (None), or set shuffle=True.\n",
            "  FutureWarning\n"
          ],
          "name": "stderr"
        }
      ]
    },
    {
      "cell_type": "code",
      "metadata": {
        "id": "1gz5QhaUwcri",
        "outputId": "252285c3-52c7-4407-ce16-9f623151d802",
        "colab": {
          "base_uri": "https://localhost:8080/",
          "height": 88
        }
      },
      "source": [
        "#@title n_splits = 15\n",
        "kfoldKnn =KFold(n_splits = 20, random_state = 10)\n",
        "print(\"F1 Average: \",cross_val_score(knnAd, X, y, cv= kfoldKnn, scoring = \"f1_weighted\").mean())"
      ],
      "execution_count": 45,
      "outputs": [
        {
          "output_type": "stream",
          "text": [
            "/usr/local/lib/python3.6/dist-packages/sklearn/model_selection/_split.py:296: FutureWarning: Setting a random_state has no effect since shuffle is False. This will raise an error in 0.24. You should leave random_state to its default (None), or set shuffle=True.\n",
            "  FutureWarning\n"
          ],
          "name": "stderr"
        },
        {
          "output_type": "stream",
          "text": [
            "F1 Average:  0.6364907720216639\n"
          ],
          "name": "stdout"
        }
      ]
    },
    {
      "cell_type": "code",
      "metadata": {
        "id": "qy5hnHQMyUtt",
        "outputId": "229d8ccd-0340-41c0-f50f-3281dbd00528",
        "colab": {
          "base_uri": "https://localhost:8080/",
          "height": 88
        }
      },
      "source": [
        "#@title n_splits = 20\n",
        "kfoldKnn =KFold(n_splits = 25, random_state = 10)\n",
        "print(\"F1 Average: \",cross_val_score(knnAd, X, y, cv= kfoldKnn, scoring = \"f1_weighted\").mean())"
      ],
      "execution_count": 46,
      "outputs": [
        {
          "output_type": "stream",
          "text": [
            "/usr/local/lib/python3.6/dist-packages/sklearn/model_selection/_split.py:296: FutureWarning: Setting a random_state has no effect since shuffle is False. This will raise an error in 0.24. You should leave random_state to its default (None), or set shuffle=True.\n",
            "  FutureWarning\n"
          ],
          "name": "stderr"
        },
        {
          "output_type": "stream",
          "text": [
            "F1 Average:  0.6330251733830854\n"
          ],
          "name": "stdout"
        }
      ]
    },
    {
      "cell_type": "markdown",
      "metadata": {
        "id": "FldbCM_8yZAs"
      },
      "source": [
        "La ultima prueba se realizo variando el número de particiones a tomar en cuenta para el entrenamiento. Podemos ver que rendimiento es mayor cuando el valor de n_splits es igual a 10. Sin embargo, la diferencia no es significativa para decir que su influencia es determinante."
      ]
    },
    {
      "cell_type": "markdown",
      "metadata": {
        "id": "LceZ8RFxQqbW"
      },
      "source": [
        "### 3.2. Gaussian Naive Bayes"
      ]
    },
    {
      "cell_type": "code",
      "metadata": {
        "id": "X75GwszUQtoI",
        "outputId": "af546708-61bb-477b-c672-37c1679144bc",
        "colab": {
          "base_uri": "https://localhost:8080/",
          "height": 187
        }
      },
      "source": [
        "X_train, X_test, y_train, y_test = train_test_split(X, y, test_size=0.4, random_state=0)\n",
        "\n",
        "gnb = GaussianNB()\n",
        "gnb.fit(X_train, y_train)\n",
        "\n",
        "y_gnb_predict = gnb.predict(X_test)\n",
        "\n",
        "print(classification_report(y_test, y_gnb_predict))\n",
        "\n",
        "scores_gnb = cross_val_score(gnb, X_train, y_train, cv=15)\n",
        "print(\"Accuracy promedio: \", np.mean(scores_gnb))"
      ],
      "execution_count": null,
      "outputs": [
        {
          "output_type": "stream",
          "text": [
            "              precision    recall  f1-score   support\n",
            "\n",
            "           0       0.88      0.05      0.09       457\n",
            "           1       0.29      0.98      0.45       185\n",
            "\n",
            "    accuracy                           0.32       642\n",
            "   macro avg       0.59      0.52      0.27       642\n",
            "weighted avg       0.71      0.32      0.20       642\n",
            "\n",
            "Accuracy promedio:  0.33852564102564103\n"
          ],
          "name": "stdout"
        }
      ]
    },
    {
      "cell_type": "markdown",
      "metadata": {
        "id": "6siQ9fLnLg1y"
      },
      "source": [
        "### 3.3. Multinomial Naive Bayes"
      ]
    },
    {
      "cell_type": "code",
      "metadata": {
        "id": "xpwjy0rrLn0P",
        "outputId": "f670fe69-5d85-4181-9f61-27f683da5c82",
        "colab": {
          "base_uri": "https://localhost:8080/",
          "height": 187
        }
      },
      "source": [
        "mnb = MultinomialNB()\n",
        "mnb.fit(X_train, y_train)\n",
        "\n",
        "y_mnb_predict = mnb.predict(X_test)\n",
        "\n",
        "print(classification_report(y_test,y_mnb_predict))\n",
        "\n",
        "scores_mnb = cross_val_score(mnb, X_train, y_train, cv=15)\n",
        "print(\"Accuracy promedio: \", np.mean(scores_mnb))"
      ],
      "execution_count": null,
      "outputs": [
        {
          "output_type": "stream",
          "text": [
            "              precision    recall  f1-score   support\n",
            "\n",
            "           0       0.72      0.98      0.83       457\n",
            "           1       0.50      0.06      0.11       185\n",
            "\n",
            "    accuracy                           0.71       642\n",
            "   macro avg       0.61      0.52      0.47       642\n",
            "weighted avg       0.66      0.71      0.62       642\n",
            "\n",
            "Accuracy promedio:  0.6947435897435897\n"
          ],
          "name": "stdout"
        }
      ]
    },
    {
      "cell_type": "markdown",
      "metadata": {
        "id": "3ozBMaLV2naw"
      },
      "source": [
        "###3.4. LSTM\n"
      ]
    },
    {
      "cell_type": "code",
      "metadata": {
        "id": "_HkeNrl02i32"
      },
      "source": [
        "from sklearn.preprocessing import MinMaxScaler\n",
        "from keras.models import Sequential\n",
        "from keras.layers import Dense, LSTM\n",
        "import numpy as np\n",
        "from numpy import  newaxis\n",
        "scaler = MinMaxScaler(feature_range=(0, 1))\n",
        "\n",
        "X_train = np.array(X_train)\n",
        "\n",
        "X_train = np.reshape(X_train, (X_train.shape[0], X_train.shape[1], 1))\n",
        "\n",
        "\n",
        "\n",
        "modelo = Sequential()\n",
        "\n",
        "modelo.add(LSTM(units = 150,\n",
        "               input_shape=(X_train.shape[1],1),\n",
        "               return_sequences=False))\n",
        "\n",
        "modelo.add(Dense(units =1))\n",
        "modelo.compile(optimizer='adam', loss='mse')\n",
        "modelo.fit(X_train,y_train,epochs=20,batch_size=50)\n",
        "\n",
        "\n",
        "X_test = np.array(X_test)\n",
        "X_test = np.reshape(X_test, (X_test.shape[0], X_test.shape[1], 1))\n",
        "\n",
        "\n",
        "train_prediccion = modelo.predict(X_train)\n",
        "\n",
        "test_prediccion = modelo.predict(X_test)\n",
        "\n",
        "from sklearn.metrics import accuracy_score\n",
        "print(accuracy_score(y_train, test_prediccion))\n",
        "\n"
      ],
      "execution_count": null,
      "outputs": []
    },
    {
      "cell_type": "code",
      "metadata": {
        "id": "Sn82Gs_c3Dbv"
      },
      "source": [
        ""
      ],
      "execution_count": null,
      "outputs": []
    }
  ]
}