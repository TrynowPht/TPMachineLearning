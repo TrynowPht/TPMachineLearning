{
  "nbformat": 4,
  "nbformat_minor": 0,
  "metadata": {
    "colab": {
      "name": "TP_MachinLearning.ipynb",
      "provenance": [],
      "collapsed_sections": [],
      "toc_visible": true,
      "include_colab_link": true
    },
    "kernelspec": {
      "name": "python3",
      "display_name": "Python 3"
    },
    "widgets": {
      "application/vnd.jupyter.widget-state+json": {
        "bd86754aefa94341aeb7e0d96f42c507": {
          "model_module": "@jupyter-widgets/controls",
          "model_name": "FileUploadModel",
          "state": {
            "_view_name": "FileUploadView",
            "_counter": 1,
            "style": "IPY_MODEL_686f53dea24744fab4df7c1cf8771b95",
            "_dom_classes": [],
            "description": "Upload",
            "multiple": false,
            "_model_name": "FileUploadModel",
            "data": [
              null
            ],
            "button_style": "",
            "_view_module": "@jupyter-widgets/controls",
            "_model_module_version": "1.5.0",
            "accept": "",
            "_view_count": null,
            "disabled": false,
            "_view_module_version": "1.5.0",
            "error": "",
            "description_tooltip": null,
            "metadata": [
              {
                "name": "datos_banco.csv",
                "type": "application/vnd.ms-excel",
                "size": 156252,
                "lastModified": 1601655611614
              }
            ],
            "_model_module": "@jupyter-widgets/controls",
            "layout": "IPY_MODEL_3926ac65ce9f4fdab5d5a7cb4074bef1",
            "icon": "upload"
          }
        },
        "686f53dea24744fab4df7c1cf8771b95": {
          "model_module": "@jupyter-widgets/controls",
          "model_name": "ButtonStyleModel",
          "state": {
            "_view_name": "StyleView",
            "_model_name": "ButtonStyleModel",
            "_view_module": "@jupyter-widgets/base",
            "_model_module_version": "1.5.0",
            "_view_count": null,
            "button_color": null,
            "font_weight": "",
            "_view_module_version": "1.2.0",
            "_model_module": "@jupyter-widgets/controls"
          }
        },
        "3926ac65ce9f4fdab5d5a7cb4074bef1": {
          "model_module": "@jupyter-widgets/base",
          "model_name": "LayoutModel",
          "state": {
            "_view_name": "LayoutView",
            "grid_template_rows": null,
            "right": null,
            "justify_content": null,
            "_view_module": "@jupyter-widgets/base",
            "overflow": null,
            "_model_module_version": "1.2.0",
            "_view_count": null,
            "flex_flow": null,
            "width": null,
            "min_width": null,
            "border": null,
            "align_items": null,
            "bottom": null,
            "_model_module": "@jupyter-widgets/base",
            "top": null,
            "grid_column": null,
            "overflow_y": null,
            "overflow_x": null,
            "grid_auto_flow": null,
            "grid_area": null,
            "grid_template_columns": null,
            "flex": null,
            "_model_name": "LayoutModel",
            "justify_items": null,
            "grid_row": null,
            "max_height": null,
            "align_content": null,
            "visibility": null,
            "align_self": null,
            "height": null,
            "min_height": null,
            "padding": null,
            "grid_auto_rows": null,
            "grid_gap": null,
            "max_width": null,
            "order": null,
            "_view_module_version": "1.2.0",
            "grid_template_areas": null,
            "object_position": null,
            "object_fit": null,
            "grid_auto_columns": null,
            "margin": null,
            "display": null,
            "left": null
          }
        }
      }
    }
  },
  "cells": [
    {
      "cell_type": "markdown",
      "metadata": {
        "id": "view-in-github",
        "colab_type": "text"
      },
      "source": [
        "<a href=\"https://colab.research.google.com/github/TrynowPht/TPMachineLearning/blob/master/TP_MachinLearning.ipynb\" target=\"_parent\"><img src=\"https://colab.research.google.com/assets/colab-badge.svg\" alt=\"Open In Colab\"/></a>"
      ]
    },
    {
      "cell_type": "code",
      "metadata": {
        "id": "Oy03SXMmAoBQ",
        "cellView": "both"
      },
      "source": [
        "#@title Importación de Librerías\n",
        "import pandas as pd\n",
        "import missingno as msno\n",
        "import seaborn as sns\n",
        "import numpy as np\n",
        "import matplotlib.pyplot as plt\n",
        "from sklearn.impute import SimpleImputer\n",
        "from sklearn.preprocessing import MinMaxScaler\n",
        "from ipywidgets import FileUpload\n",
        "from sklearn.naive_bayes import MultinomialNB\n",
        "from sklearn.naive_bayes import GaussianNB\n",
        "from sklearn.metrics import classification_report\n",
        "from sklearn.model_selection import train_test_split\n",
        "from sklearn.model_selection import cross_val_score\n",
        "from keras.models import Sequential\n",
        "from keras.layers import Dense, LSTM\n",
        "from numpy import  newaxis\n",
        "%matplotlib inline"
      ],
      "execution_count": 4,
      "outputs": []
    },
    {
      "cell_type": "markdown",
      "metadata": {
        "id": "ywKgX9qbAjTC"
      },
      "source": [
        "### Lectura de la Data"
      ]
    },
    {
      "cell_type": "code",
      "metadata": {
        "id": "pMRrANImBN4t",
        "outputId": "bdf7fef5-8937-40f7-ea36-e883752bfcf5",
        "colab": {
          "base_uri": "https://localhost:8080/",
          "height": 49,
          "referenced_widgets": [
            "bd86754aefa94341aeb7e0d96f42c507",
            "686f53dea24744fab4df7c1cf8771b95",
            "3926ac65ce9f4fdab5d5a7cb4074bef1"
          ]
        }
      },
      "source": [
        "DataSet = FileUpload()\n",
        "DataSet"
      ],
      "execution_count": 5,
      "outputs": [
        {
          "output_type": "display_data",
          "data": {
            "application/vnd.jupyter.widget-view+json": {
              "model_id": "bd86754aefa94341aeb7e0d96f42c507",
              "version_minor": 0,
              "version_major": 2
            },
            "text/plain": [
              "FileUpload(value={}, description='Upload')"
            ]
          },
          "metadata": {
            "tags": []
          }
        }
      ]
    },
    {
      "cell_type": "code",
      "metadata": {
        "id": "6b37JmnLEdyj",
        "outputId": "17651c7a-92cd-4844-8567-0c7d537ada38",
        "colab": {
          "base_uri": "https://localhost:8080/",
          "height": 224
        }
      },
      "source": [
        "with open('datos_banco.csv', \"wb\") as fp:\n",
        "    fp.write(DataSet.data[0])\n",
        "df = pd.read_csv(\"datos_banco.csv\", engine='python')\n",
        "df.head(5)"
      ],
      "execution_count": 6,
      "outputs": [
        {
          "output_type": "execute_result",
          "data": {
            "text/html": [
              "<div>\n",
              "<style scoped>\n",
              "    .dataframe tbody tr th:only-of-type {\n",
              "        vertical-align: middle;\n",
              "    }\n",
              "\n",
              "    .dataframe tbody tr th {\n",
              "        vertical-align: top;\n",
              "    }\n",
              "\n",
              "    .dataframe thead th {\n",
              "        text-align: right;\n",
              "    }\n",
              "</style>\n",
              "<table border=\"1\" class=\"dataframe\">\n",
              "  <thead>\n",
              "    <tr style=\"text-align: right;\">\n",
              "      <th></th>\n",
              "      <th>idPrestamo</th>\n",
              "      <th>target</th>\n",
              "      <th>monthly_debt_capacity</th>\n",
              "      <th>var_employment_time_in_months</th>\n",
              "      <th>approved_amount</th>\n",
              "      <th>approved_term</th>\n",
              "      <th>approved_interest_amount</th>\n",
              "      <th>var_net_income</th>\n",
              "      <th>person_gender</th>\n",
              "      <th>credit_history_marital_status</th>\n",
              "      <th>var_max_sbs_qual_12m</th>\n",
              "      <th>person_degree_type_desc</th>\n",
              "      <th>default_request_term</th>\n",
              "      <th>default_request_amount</th>\n",
              "    </tr>\n",
              "  </thead>\n",
              "  <tbody>\n",
              "    <tr>\n",
              "      <th>0</th>\n",
              "      <td>LIBDISP9832897855</td>\n",
              "      <td>1</td>\n",
              "      <td>252.39</td>\n",
              "      <td>9.0</td>\n",
              "      <td>1,200</td>\n",
              "      <td>6</td>\n",
              "      <td>289.11</td>\n",
              "      <td>1140.125000</td>\n",
              "      <td>MALE</td>\n",
              "      <td>C</td>\n",
              "      <td>NORMAL</td>\n",
              "      <td>Secundaria</td>\n",
              "      <td>1</td>\n",
              "      <td>0</td>\n",
              "    </tr>\n",
              "    <tr>\n",
              "      <th>1</th>\n",
              "      <td>LIBDISP9021501745</td>\n",
              "      <td>1</td>\n",
              "      <td>244.57</td>\n",
              "      <td>50.0</td>\n",
              "      <td>2,200</td>\n",
              "      <td>12</td>\n",
              "      <td>696.15</td>\n",
              "      <td>1061.375000</td>\n",
              "      <td>FEMALE</td>\n",
              "      <td>S</td>\n",
              "      <td>NORMAL</td>\n",
              "      <td>Secundaria</td>\n",
              "      <td>0</td>\n",
              "      <td>0</td>\n",
              "    </tr>\n",
              "    <tr>\n",
              "      <th>2</th>\n",
              "      <td>LIBDISP4057314971</td>\n",
              "      <td>0</td>\n",
              "      <td>491.5</td>\n",
              "      <td>64.0</td>\n",
              "      <td>1,000</td>\n",
              "      <td>3</td>\n",
              "      <td>84.99</td>\n",
              "      <td>2082.196667</td>\n",
              "      <td>FEMALE</td>\n",
              "      <td>S</td>\n",
              "      <td>NORMAL</td>\n",
              "      <td>Secundaria</td>\n",
              "      <td>0</td>\n",
              "      <td>0</td>\n",
              "    </tr>\n",
              "    <tr>\n",
              "      <th>3</th>\n",
              "      <td>LIBDISP8375185888</td>\n",
              "      <td>0</td>\n",
              "      <td>848.65</td>\n",
              "      <td>77.0</td>\n",
              "      <td>1,500</td>\n",
              "      <td>6</td>\n",
              "      <td>221.53</td>\n",
              "      <td>3422.423333</td>\n",
              "      <td>MALE</td>\n",
              "      <td>S</td>\n",
              "      <td>NORMAL</td>\n",
              "      <td>Universitaria</td>\n",
              "      <td>0</td>\n",
              "      <td>0</td>\n",
              "    </tr>\n",
              "    <tr>\n",
              "      <th>4</th>\n",
              "      <td>LIBDISP9694463037</td>\n",
              "      <td>0</td>\n",
              "      <td>470.52</td>\n",
              "      <td>82.0</td>\n",
              "      <td>1,000</td>\n",
              "      <td>3</td>\n",
              "      <td>91.34</td>\n",
              "      <td>1882.090000</td>\n",
              "      <td>FEMALE</td>\n",
              "      <td>S</td>\n",
              "      <td>NORMAL</td>\n",
              "      <td>Universitaria</td>\n",
              "      <td>1</td>\n",
              "      <td>0</td>\n",
              "    </tr>\n",
              "  </tbody>\n",
              "</table>\n",
              "</div>"
            ],
            "text/plain": [
              "          idPrestamo  target  ... default_request_term  default_request_amount\n",
              "0  LIBDISP9832897855       1  ...                    1                       0\n",
              "1  LIBDISP9021501745       1  ...                    0                       0\n",
              "2  LIBDISP4057314971       0  ...                    0                       0\n",
              "3  LIBDISP8375185888       0  ...                    0                       0\n",
              "4  LIBDISP9694463037       0  ...                    1                       0\n",
              "\n",
              "[5 rows x 14 columns]"
            ]
          },
          "metadata": {
            "tags": []
          },
          "execution_count": 6
        }
      ]
    },
    {
      "cell_type": "markdown",
      "metadata": {
        "id": "mC1BW5miKFjh"
      },
      "source": [
        "La data a utilizar es un dataframe, es decir, un conjunto de datos organizados en estructuras rectangulares en forma de tabla o matriz, el cual contiene distintos tipos de datos y están organizados por columnas con su atributo correspondiente. Considerando esto podemos decir que la data es de tipo estructurada."
      ]
    },
    {
      "cell_type": "markdown",
      "metadata": {
        "id": "O8iDBh85umDx"
      },
      "source": [
        "## 1. Análisis Exploratorio"
      ]
    },
    {
      "cell_type": "markdown",
      "metadata": {
        "id": "J8hukOUUj2uC"
      },
      "source": [
        "### 1.1 Cantidad de variables y atributos"
      ]
    },
    {
      "cell_type": "code",
      "metadata": {
        "id": "fRbZm3TzHvaY",
        "outputId": "fccfc695-fb20-4b57-96fd-fb0091a97857",
        "colab": {
          "base_uri": "https://localhost:8080/",
          "height": 51
        }
      },
      "source": [
        "print('Cantidad de instancias:',df.shape[0])\n",
        "print('Cantidad de atributos:',df.shape[1])"
      ],
      "execution_count": 7,
      "outputs": [
        {
          "output_type": "stream",
          "text": [
            "Cantidad de instancias: 1719\n",
            "Cantidad de atributos: 14\n"
          ],
          "name": "stdout"
        }
      ]
    },
    {
      "cell_type": "markdown",
      "metadata": {
        "id": "ib9aOa2rSLnE"
      },
      "source": [
        "### 1.2 Valores nulos\n",
        "\n",
        "En el siguiente gráfico podemos ver la existencia de valores nulos a lo largo de cada instancia, como resultado podemos observar que solo el atributo ***var_employment_time_in_month*** contiene valores nulos."
      ]
    },
    {
      "cell_type": "code",
      "metadata": {
        "id": "2gvUvvwym3Fs",
        "outputId": "3b2188d7-ca61-4578-9161-92d7f9f9946f",
        "colab": {
          "base_uri": "https://localhost:8080/",
          "height": 448
        }
      },
      "source": [
        "msno.matrix(df, figsize=(10,4));"
      ],
      "execution_count": 8,
      "outputs": [
        {
          "output_type": "display_data",
          "data": {
            "image/png": "[encoded data removed]",
            "text/plain": [
              "<Figure size 720x288 with 2 Axes>"
            ]
          },
          "metadata": {
            "tags": [],
            "needs_background": "light"
          }
        }
      ]
    },
    {
      "cell_type": "code",
      "metadata": {
        "id": "3S1rLaAqAP6B",
        "outputId": "62f3a841-0603-44e8-c102-29534480d266",
        "colab": {
          "base_uri": "https://localhost:8080/",
          "height": 732
        }
      },
      "source": [
        "msno.bar(df) "
      ],
      "execution_count": 9,
      "outputs": [
        {
          "output_type": "execute_result",
          "data": {
            "text/plain": [
              "<matplotlib.axes._subplots.AxesSubplot at 0x7fb7ffbad240>"
            ]
          },
          "metadata": {
            "tags": []
          },
          "execution_count": 9
        },
        {
          "output_type": "display_data",
          "data": {
            "image/png": "[encoded data removed]",
            "text/plain": [
              "<Figure size 1728x720 with 3 Axes>"
            ]
          },
          "metadata": {
            "tags": [],
            "needs_background": "light"
          }
        }
      ]
    },
    {
      "cell_type": "markdown",
      "metadata": {
        "id": "r6LX0yPImhFi"
      },
      "source": [
        "Obtenemos la cantidad exacta de valores nulos en el dataframe, podemos concluir que la proporción de datos nulos es bastante ***reducida***."
      ]
    },
    {
      "cell_type": "code",
      "metadata": {
        "id": "o1mzvLogmd2Z",
        "outputId": "4ce57825-3799-4d04-a0e6-5b3f24b9cc81",
        "colab": {
          "base_uri": "https://localhost:8080/",
          "height": 272
        }
      },
      "source": [
        "df.isna().sum()"
      ],
      "execution_count": 10,
      "outputs": [
        {
          "output_type": "execute_result",
          "data": {
            "text/plain": [
              "idPrestamo                         0\n",
              "target                             0\n",
              "monthly_debt_capacity              0\n",
              "var_employment_time_in_months    200\n",
              "approved_amount                    0\n",
              "approved_term                      0\n",
              "approved_interest_amount           0\n",
              "var_net_income                     0\n",
              "person_gender                      0\n",
              "credit_history_marital_status      0\n",
              "var_max_sbs_qual_12m               0\n",
              "person_degree_type_desc            0\n",
              "default_request_term               0\n",
              "default_request_amount             0\n",
              "dtype: int64"
            ]
          },
          "metadata": {
            "tags": []
          },
          "execution_count": 10
        }
      ]
    },
    {
      "cell_type": "markdown",
      "metadata": {
        "id": "T9tEVjsgjwKV"
      },
      "source": [
        "### 1.3 Atributos\n",
        "\n",
        "A continuación, podemos observar la lista de atributos del dataset, junto con su tipo de dato. Además, podemos determinar el conjunto de atributos que podrían aportar valor significativo a nuestro modelo y aquellos que no.\n",
        "\n"
      ]
    },
    {
      "cell_type": "code",
      "metadata": {
        "id": "mvzbyVOMcUbP",
        "outputId": "e1ecb861-c5e0-4c14-b20d-ce0a5960a663",
        "colab": {
          "base_uri": "https://localhost:8080/",
          "height": 272
        }
      },
      "source": [
        "df.dtypes"
      ],
      "execution_count": 11,
      "outputs": [
        {
          "output_type": "execute_result",
          "data": {
            "text/plain": [
              "idPrestamo                        object\n",
              "target                             int64\n",
              "monthly_debt_capacity             object\n",
              "var_employment_time_in_months    float64\n",
              "approved_amount                   object\n",
              "approved_term                      int64\n",
              "approved_interest_amount          object\n",
              "var_net_income                   float64\n",
              "person_gender                     object\n",
              "credit_history_marital_status     object\n",
              "var_max_sbs_qual_12m              object\n",
              "person_degree_type_desc           object\n",
              "default_request_term               int64\n",
              "default_request_amount             int64\n",
              "dtype: object"
            ]
          },
          "metadata": {
            "tags": []
          },
          "execution_count": 11
        }
      ]
    },
    {
      "cell_type": "markdown",
      "metadata": {
        "id": "UJ4biUp620qv"
      },
      "source": [
        "Podemos observar además que variables con tipos de dato que no corresponden al valor que se muestra en el dataframe. Tal es el caso de **monthly_debt_capacity**, **approved_amount** y **approved_interest_amount**"
      ]
    },
    {
      "cell_type": "code",
      "metadata": {
        "id": "mqTw9nMhl2ge",
        "outputId": "89e137b6-e5da-4a86-d1ca-96fa8fc7b171",
        "colab": {
          "base_uri": "https://localhost:8080/",
          "height": 297
        }
      },
      "source": [
        "df.describe()"
      ],
      "execution_count": 12,
      "outputs": [
        {
          "output_type": "execute_result",
          "data": {
            "text/html": [
              "<div>\n",
              "<style scoped>\n",
              "    .dataframe tbody tr th:only-of-type {\n",
              "        vertical-align: middle;\n",
              "    }\n",
              "\n",
              "    .dataframe tbody tr th {\n",
              "        vertical-align: top;\n",
              "    }\n",
              "\n",
              "    .dataframe thead th {\n",
              "        text-align: right;\n",
              "    }\n",
              "</style>\n",
              "<table border=\"1\" class=\"dataframe\">\n",
              "  <thead>\n",
              "    <tr style=\"text-align: right;\">\n",
              "      <th></th>\n",
              "      <th>target</th>\n",
              "      <th>var_employment_time_in_months</th>\n",
              "      <th>approved_term</th>\n",
              "      <th>var_net_income</th>\n",
              "      <th>default_request_term</th>\n",
              "      <th>default_request_amount</th>\n",
              "    </tr>\n",
              "  </thead>\n",
              "  <tbody>\n",
              "    <tr>\n",
              "      <th>count</th>\n",
              "      <td>1719.000000</td>\n",
              "      <td>1519.000000</td>\n",
              "      <td>1719.000000</td>\n",
              "      <td>1719.000000</td>\n",
              "      <td>1719.000000</td>\n",
              "      <td>1719.0</td>\n",
              "    </tr>\n",
              "    <tr>\n",
              "      <th>mean</th>\n",
              "      <td>0.295521</td>\n",
              "      <td>33.979592</td>\n",
              "      <td>6.464805</td>\n",
              "      <td>2693.545884</td>\n",
              "      <td>0.507853</td>\n",
              "      <td>0.0</td>\n",
              "    </tr>\n",
              "    <tr>\n",
              "      <th>std</th>\n",
              "      <td>0.456409</td>\n",
              "      <td>26.889423</td>\n",
              "      <td>3.009842</td>\n",
              "      <td>1825.694773</td>\n",
              "      <td>0.500084</td>\n",
              "      <td>0.0</td>\n",
              "    </tr>\n",
              "    <tr>\n",
              "      <th>min</th>\n",
              "      <td>0.000000</td>\n",
              "      <td>-1.000000</td>\n",
              "      <td>1.000000</td>\n",
              "      <td>0.000000</td>\n",
              "      <td>0.000000</td>\n",
              "      <td>0.0</td>\n",
              "    </tr>\n",
              "    <tr>\n",
              "      <th>25%</th>\n",
              "      <td>0.000000</td>\n",
              "      <td>11.000000</td>\n",
              "      <td>6.000000</td>\n",
              "      <td>1750.000000</td>\n",
              "      <td>0.000000</td>\n",
              "      <td>0.0</td>\n",
              "    </tr>\n",
              "    <tr>\n",
              "      <th>50%</th>\n",
              "      <td>0.000000</td>\n",
              "      <td>26.000000</td>\n",
              "      <td>6.000000</td>\n",
              "      <td>2373.758333</td>\n",
              "      <td>1.000000</td>\n",
              "      <td>0.0</td>\n",
              "    </tr>\n",
              "    <tr>\n",
              "      <th>75%</th>\n",
              "      <td>1.000000</td>\n",
              "      <td>61.000000</td>\n",
              "      <td>6.000000</td>\n",
              "      <td>3075.133333</td>\n",
              "      <td>1.000000</td>\n",
              "      <td>0.0</td>\n",
              "    </tr>\n",
              "    <tr>\n",
              "      <th>max</th>\n",
              "      <td>1.000000</td>\n",
              "      <td>87.000000</td>\n",
              "      <td>12.000000</td>\n",
              "      <td>28587.000000</td>\n",
              "      <td>1.000000</td>\n",
              "      <td>0.0</td>\n",
              "    </tr>\n",
              "  </tbody>\n",
              "</table>\n",
              "</div>"
            ],
            "text/plain": [
              "            target  ...  default_request_amount\n",
              "count  1719.000000  ...                  1719.0\n",
              "mean      0.295521  ...                     0.0\n",
              "std       0.456409  ...                     0.0\n",
              "min       0.000000  ...                     0.0\n",
              "25%       0.000000  ...                     0.0\n",
              "50%       0.000000  ...                     0.0\n",
              "75%       1.000000  ...                     0.0\n",
              "max       1.000000  ...                     0.0\n",
              "\n",
              "[8 rows x 6 columns]"
            ]
          },
          "metadata": {
            "tags": []
          },
          "execution_count": 12
        }
      ]
    },
    {
      "cell_type": "markdown",
      "metadata": {
        "id": "rCrajtiQHo1z"
      },
      "source": [
        "### 1.4. Atributos categóricos\n",
        "\n",
        "El dataset contiene 3 atributos categóricos (***credit_history_marital_status***\t***var_max_sbs_qual_12m*** y\t***person_degree_type_desc***). Haremos un análisis exploratorio en ellos con la finalidad de descubrir particularidades."
      ]
    },
    {
      "cell_type": "code",
      "metadata": {
        "id": "aP9_QskXxZ3z",
        "outputId": "0361addc-56a3-4156-e89b-93ad2dbf6d92",
        "colab": {
          "base_uri": "https://localhost:8080/",
          "height": 606
        }
      },
      "source": [
        "df.hist(figsize=(10,10));"
      ],
      "execution_count": 13,
      "outputs": [
        {
          "output_type": "display_data",
          "data": {
            "image/png": "[encoded data removed]",
            "text/plain": [
              "<Figure size 720x720 with 6 Axes>"
            ]
          },
          "metadata": {
            "tags": [],
            "needs_background": "light"
          }
        }
      ]
    },
    {
      "cell_type": "code",
      "metadata": {
        "id": "pcLL06C7Hs_9",
        "outputId": "69e8240f-480e-4aa6-f58b-16953fb894b2",
        "colab": {
          "base_uri": "https://localhost:8080/",
          "height": 472
        }
      },
      "source": [
        "atrib_cat = ['credit_history_marital_status', 'var_max_sbs_qual_12m', 'person_degree_type_desc']\n",
        "\n",
        "fig, ax = plt.subplots(1, len(atrib_cat), figsize=(10,5))\n",
        "for i, categorical_feature in enumerate(df[atrib_cat]):\n",
        "    df[categorical_feature].value_counts().plot(kind='bar', ax=ax[i]).set_title(categorical_feature)\n",
        "fig.show()"
      ],
      "execution_count": 14,
      "outputs": [
        {
          "output_type": "stream",
          "text": [
            "/usr/local/lib/python3.6/dist-packages/matplotlib/backends/backend_agg.py:214: RuntimeWarning: Glyph 65533 missing from current font.\n",
            "  font.set_text(s, 0.0, flags=flags)\n",
            "/usr/local/lib/python3.6/dist-packages/matplotlib/backends/backend_agg.py:183: RuntimeWarning: Glyph 65533 missing from current font.\n",
            "  font.set_text(s, 0, flags=flags)\n"
          ],
          "name": "stderr"
        },
        {
          "output_type": "display_data",
          "data": {
            "image/png": "[encoded data removed]",
            "text/plain": [
              "<Figure size 720x360 with 3 Axes>"
            ]
          },
          "metadata": {
            "tags": [],
            "needs_background": "light"
          }
        }
      ]
    },
    {
      "cell_type": "markdown",
      "metadata": {
        "id": "0C482A6v2i5s"
      },
      "source": [
        "En el gráfico de barras anterior, podemos visualizar que la *categoría carrera* técnica del atributo ***person_degree_type_desc*** se repite varias veces con nombres similares, por lo que deberemos reemplazar en una sola y unir los registro que presente dicha categoría."
      ]
    },
    {
      "cell_type": "code",
      "metadata": {
        "id": "h6dpdei12Jmh",
        "outputId": "d4a7c726-c07a-46c9-b945-77ce4e70c498",
        "colab": {
          "base_uri": "https://localhost:8080/",
          "height": 442
        }
      },
      "source": [
        "df.plot(kind='box', subplots = True, layout=(4,4), figsize=(15,15));"
      ],
      "execution_count": 15,
      "outputs": [
        {
          "output_type": "display_data",
          "data": {
            "image/png": "[encoded data removed]",
            "text/plain": [
              "<Figure size 1080x1080 with 16 Axes>"
            ]
          },
          "metadata": {
            "tags": [],
            "needs_background": "light"
          }
        }
      ]
    },
    {
      "cell_type": "markdown",
      "metadata": {
        "id": "i7kTwIKN2N2q"
      },
      "source": [
        "Con estos gráficos de cajas podemos analizar los outlaiers respecto a cada atributo y si es necesario ralizar alguna eliminación de registros"
      ]
    },
    {
      "cell_type": "markdown",
      "metadata": {
        "id": "-5LNcOWghTrs"
      },
      "source": [
        "### 1.5 Atributo Clase\n",
        " \n",
        "En el siguiente gráfico podemos observar la proporción de instancias del atributo clase del dataset (***target***)"
      ]
    },
    {
      "cell_type": "code",
      "metadata": {
        "id": "awHuv-UxdPwE",
        "outputId": "22c50a03-e75d-4752-fa6a-c2f2c926a3bf",
        "colab": {
          "base_uri": "https://localhost:8080/",
          "height": 303
        }
      },
      "source": [
        "df.groupby(['target']).size().plot(kind='pie', legend=True, figsize = (5,5), labels=['0 (No mora)', '1 (Mora)'], autopct='%1.1f%%', shadow=True, textprops={'color':\"w\", 'weight':\"bold\"});"
      ],
      "execution_count": 16,
      "outputs": [
        {
          "output_type": "display_data",
          "data": {
            "image/png": "[encoded data removed]",
            "text/plain": [
              "<Figure size 360x360 with 1 Axes>"
            ]
          },
          "metadata": {
            "tags": []
          }
        }
      ]
    },
    {
      "cell_type": "markdown",
      "metadata": {
        "id": "lc7Y1rNzN5Dy"
      },
      "source": [
        "### 1.6. Registros duplicados\n",
        "Para el análisis de data duplicada utilizaremos **duplicated().sum()** el cual nos permitirá identificar si existen registros que tienen los mismo atributos que otro dentro del mismo dataframe.\n"
      ]
    },
    {
      "cell_type": "code",
      "metadata": {
        "id": "dQH1diMLOCxs",
        "outputId": "57e25501-36ea-4d09-ad3a-2f416583fd24",
        "colab": {
          "base_uri": "https://localhost:8080/",
          "height": 34
        }
      },
      "source": [
        "df.duplicated().sum()"
      ],
      "execution_count": 17,
      "outputs": [
        {
          "output_type": "execute_result",
          "data": {
            "text/plain": [
              "0"
            ]
          },
          "metadata": {
            "tags": []
          },
          "execution_count": 17
        }
      ]
    },
    {
      "cell_type": "markdown",
      "metadata": {
        "id": "3avinPIRJllB"
      },
      "source": [
        "## 2. Tratamiento de Datos\n",
        "\n",
        "\n"
      ]
    },
    {
      "cell_type": "markdown",
      "metadata": {
        "id": "U9jAGOa43qWn"
      },
      "source": [
        "### 2.1. Cast de Atributos\n",
        "\n",
        "Como podemos ver, muchas de las *variables* continen *valores numéricos*; ***sin embargo***, algunas de ellas (***monthly_deb_capacity***, ***approved_amounts***, ***approved_interest_amount***) no son reconocidas como tal en el entorno de ejecución. Por ello, se hará un *cast* de dichos valores"
      ]
    },
    {
      "cell_type": "code",
      "metadata": {
        "id": "JZ6SCSG23pzb"
      },
      "source": [
        "atribs_obj = ['monthly_debt_capacity', 'approved_amount', 'approved_interest_amount']\n",
        "\n",
        "for atrib in atribs_obj:\n",
        "  df[atrib] = df[atrib].str.replace(',', '', regex=True)\n",
        "  df[atrib] = pd.to_numeric(df[atrib], downcast=\"float\")"
      ],
      "execution_count": 18,
      "outputs": []
    },
    {
      "cell_type": "code",
      "metadata": {
        "id": "SDuNc4AU5QQT",
        "outputId": "c5cfee1d-1c4c-4f84-dcac-df047499bbdb",
        "colab": {
          "base_uri": "https://localhost:8080/",
          "height": 272
        }
      },
      "source": [
        "df.dtypes"
      ],
      "execution_count": 19,
      "outputs": [
        {
          "output_type": "execute_result",
          "data": {
            "text/plain": [
              "idPrestamo                        object\n",
              "target                             int64\n",
              "monthly_debt_capacity            float32\n",
              "var_employment_time_in_months    float64\n",
              "approved_amount                  float32\n",
              "approved_term                      int64\n",
              "approved_interest_amount         float32\n",
              "var_net_income                   float64\n",
              "person_gender                     object\n",
              "credit_history_marital_status     object\n",
              "var_max_sbs_qual_12m              object\n",
              "person_degree_type_desc           object\n",
              "default_request_term               int64\n",
              "default_request_amount             int64\n",
              "dtype: object"
            ]
          },
          "metadata": {
            "tags": []
          },
          "execution_count": 19
        }
      ]
    },
    {
      "cell_type": "markdown",
      "metadata": {
        "id": "CbFaPzqH5Tt4"
      },
      "source": [
        "Como podemos observar, los tipos de datos han sido convertidos a float para su manejabilidad"
      ]
    },
    {
      "cell_type": "markdown",
      "metadata": {
        "id": "s8xdPwWL6YNW"
      },
      "source": [
        "### 2.2. Descartando atributos\n",
        "\n",
        "Luego del análisis de variables, podemos descartar algunas que no aportarían valor a nuestro modelo. Estas son:\n",
        "\n",
        "1.   **idPrestamo**: Identificador de Préstamo\n",
        "2.   **person_gender**: Género de la persona que solicito el préstamo\n",
        "3. **default_request_amount**: Si escogio el monto de dinero ofrecido (según muestra el histograma anterior, todos los valores son 0)\n"
      ]
    },
    {
      "cell_type": "code",
      "metadata": {
        "id": "GPmjq4Ph59Up"
      },
      "source": [
        "df = df.drop([\"idPrestamo\", \"person_gender\", \"default_request_amount\"], axis=1)"
      ],
      "execution_count": 20,
      "outputs": []
    },
    {
      "cell_type": "code",
      "metadata": {
        "id": "GPRf2_fn5p5o",
        "outputId": "fe6a1399-1c49-4f37-92df-e47464d349dc",
        "colab": {
          "base_uri": "https://localhost:8080/",
          "height": 34
        }
      },
      "source": [
        "df.columns.shape[0]"
      ],
      "execution_count": 21,
      "outputs": [
        {
          "output_type": "execute_result",
          "data": {
            "text/plain": [
              "11"
            ]
          },
          "metadata": {
            "tags": []
          },
          "execution_count": 21
        }
      ]
    },
    {
      "cell_type": "markdown",
      "metadata": {
        "id": "LusLRjAA5twK"
      },
      "source": [
        "**df.columns.shape[0]** nos indica la cantidad de atributos actuales. Ya que se eliminaron tres columnas del dataframe obtenemos como resultado 11 (anteriormente 14 columnas)"
      ]
    },
    {
      "cell_type": "markdown",
      "metadata": {
        "id": "Gis4u1ZDssxW"
      },
      "source": [
        "### 2.3. Corrección de Carrera Ténica\n",
        "Tomando en referencia el análisis realizado en la sección 1.4. de atributos categóricos, debemos de realizar la corrección en cuestión"
      ]
    },
    {
      "cell_type": "code",
      "metadata": {
        "id": "yx2XelrNIKFh"
      },
      "source": [
        "df[\"person_degree_type_desc\"] = np.where(df[\"person_degree_type_desc\"].str.contains('Carrera'), 'Carrera Tecnica', df[\"person_degree_type_desc\"])"
      ],
      "execution_count": 22,
      "outputs": []
    },
    {
      "cell_type": "code",
      "metadata": {
        "id": "AB2-caWQ0pkm",
        "outputId": "d60a4ae7-0633-4e29-df9a-c93a75e65f21",
        "colab": {
          "base_uri": "https://localhost:8080/",
          "height": 340
        }
      },
      "source": [
        "df['person_degree_type_desc'].value_counts().plot(kind='bar').set_title('person_degree_type_desc')\n",
        "plt.show()"
      ],
      "execution_count": 23,
      "outputs": [
        {
          "output_type": "display_data",
          "data": {
            "image/png": "[encoded data removed]",
            "text/plain": [
              "<Figure size 432x288 with 1 Axes>"
            ]
          },
          "metadata": {
            "tags": [],
            "needs_background": "light"
          }
        }
      ]
    },
    {
      "cell_type": "markdown",
      "metadata": {
        "id": "eEqzk9o1xeoL"
      },
      "source": [
        "Podemos obserbar que ahora sí solo existe una sola categoría Carrera Técnica que engobla las categorías con errores"
      ]
    },
    {
      "cell_type": "markdown",
      "metadata": {
        "id": "E6Uy0X2l0VSm"
      },
      "source": [
        "### 2.4. Conversión de Atributos categóricos\n",
        "\n",
        "Para convertir los atributos categóricos utilizaremos ***One Hot Encoding***, al ser reemplazados con este algoritmo, serán eliminados del dataset."
      ]
    },
    {
      "cell_type": "code",
      "metadata": {
        "id": "C4kuaOdIIPYD",
        "outputId": "018c6c79-656b-45ee-b0cf-8241299e4a50",
        "colab": {
          "base_uri": "https://localhost:8080/",
          "height": 241
        }
      },
      "source": [
        "atribs_prefix = ['chm', 'vms', 'pdt']\n",
        "\n",
        "# One Hot Encoding\n",
        "for prefixs, atrib in zip(atribs_prefix, atrib_cat):\n",
        "  ohe = pd.get_dummies(df[atrib], prefix=prefixs)\n",
        "  df = pd.concat([df, ohe], axis = 1)\n",
        "\n",
        "# Eliminando atributos\n",
        "for atrib in atrib_cat:\n",
        "  df = df.drop(columns=[atrib])\n",
        "\n",
        "df.head(5)"
      ],
      "execution_count": 24,
      "outputs": [
        {
          "output_type": "execute_result",
          "data": {
            "text/html": [
              "<div>\n",
              "<style scoped>\n",
              "    .dataframe tbody tr th:only-of-type {\n",
              "        vertical-align: middle;\n",
              "    }\n",
              "\n",
              "    .dataframe tbody tr th {\n",
              "        vertical-align: top;\n",
              "    }\n",
              "\n",
              "    .dataframe thead th {\n",
              "        text-align: right;\n",
              "    }\n",
              "</style>\n",
              "<table border=\"1\" class=\"dataframe\">\n",
              "  <thead>\n",
              "    <tr style=\"text-align: right;\">\n",
              "      <th></th>\n",
              "      <th>target</th>\n",
              "      <th>monthly_debt_capacity</th>\n",
              "      <th>var_employment_time_in_months</th>\n",
              "      <th>approved_amount</th>\n",
              "      <th>approved_term</th>\n",
              "      <th>approved_interest_amount</th>\n",
              "      <th>var_net_income</th>\n",
              "      <th>default_request_term</th>\n",
              "      <th>chm_C</th>\n",
              "      <th>chm_D</th>\n",
              "      <th>chm_S</th>\n",
              "      <th>chm_V</th>\n",
              "      <th>vms_CPP</th>\n",
              "      <th>vms_DEFICIENTE</th>\n",
              "      <th>vms_DUDOSO</th>\n",
              "      <th>vms_NORMAL</th>\n",
              "      <th>vms_PERDIDA</th>\n",
              "      <th>pdt_Carrera Tecnica</th>\n",
              "      <th>pdt_Postgrado</th>\n",
              "      <th>pdt_Primaria</th>\n",
              "      <th>pdt_Secundaria</th>\n",
              "      <th>pdt_Universitaria</th>\n",
              "    </tr>\n",
              "  </thead>\n",
              "  <tbody>\n",
              "    <tr>\n",
              "      <th>0</th>\n",
              "      <td>1</td>\n",
              "      <td>252.389999</td>\n",
              "      <td>9.0</td>\n",
              "      <td>1200.0</td>\n",
              "      <td>6</td>\n",
              "      <td>289.109985</td>\n",
              "      <td>1140.125000</td>\n",
              "      <td>1</td>\n",
              "      <td>1</td>\n",
              "      <td>0</td>\n",
              "      <td>0</td>\n",
              "      <td>0</td>\n",
              "      <td>0</td>\n",
              "      <td>0</td>\n",
              "      <td>0</td>\n",
              "      <td>1</td>\n",
              "      <td>0</td>\n",
              "      <td>0</td>\n",
              "      <td>0</td>\n",
              "      <td>0</td>\n",
              "      <td>1</td>\n",
              "      <td>0</td>\n",
              "    </tr>\n",
              "    <tr>\n",
              "      <th>1</th>\n",
              "      <td>1</td>\n",
              "      <td>244.570007</td>\n",
              "      <td>50.0</td>\n",
              "      <td>2200.0</td>\n",
              "      <td>12</td>\n",
              "      <td>696.150024</td>\n",
              "      <td>1061.375000</td>\n",
              "      <td>0</td>\n",
              "      <td>0</td>\n",
              "      <td>0</td>\n",
              "      <td>1</td>\n",
              "      <td>0</td>\n",
              "      <td>0</td>\n",
              "      <td>0</td>\n",
              "      <td>0</td>\n",
              "      <td>1</td>\n",
              "      <td>0</td>\n",
              "      <td>0</td>\n",
              "      <td>0</td>\n",
              "      <td>0</td>\n",
              "      <td>1</td>\n",
              "      <td>0</td>\n",
              "    </tr>\n",
              "    <tr>\n",
              "      <th>2</th>\n",
              "      <td>0</td>\n",
              "      <td>491.500000</td>\n",
              "      <td>64.0</td>\n",
              "      <td>1000.0</td>\n",
              "      <td>3</td>\n",
              "      <td>84.989998</td>\n",
              "      <td>2082.196667</td>\n",
              "      <td>0</td>\n",
              "      <td>0</td>\n",
              "      <td>0</td>\n",
              "      <td>1</td>\n",
              "      <td>0</td>\n",
              "      <td>0</td>\n",
              "      <td>0</td>\n",
              "      <td>0</td>\n",
              "      <td>1</td>\n",
              "      <td>0</td>\n",
              "      <td>0</td>\n",
              "      <td>0</td>\n",
              "      <td>0</td>\n",
              "      <td>1</td>\n",
              "      <td>0</td>\n",
              "    </tr>\n",
              "    <tr>\n",
              "      <th>3</th>\n",
              "      <td>0</td>\n",
              "      <td>848.650024</td>\n",
              "      <td>77.0</td>\n",
              "      <td>1500.0</td>\n",
              "      <td>6</td>\n",
              "      <td>221.529999</td>\n",
              "      <td>3422.423333</td>\n",
              "      <td>0</td>\n",
              "      <td>0</td>\n",
              "      <td>0</td>\n",
              "      <td>1</td>\n",
              "      <td>0</td>\n",
              "      <td>0</td>\n",
              "      <td>0</td>\n",
              "      <td>0</td>\n",
              "      <td>1</td>\n",
              "      <td>0</td>\n",
              "      <td>0</td>\n",
              "      <td>0</td>\n",
              "      <td>0</td>\n",
              "      <td>0</td>\n",
              "      <td>1</td>\n",
              "    </tr>\n",
              "    <tr>\n",
              "      <th>4</th>\n",
              "      <td>0</td>\n",
              "      <td>470.519989</td>\n",
              "      <td>82.0</td>\n",
              "      <td>1000.0</td>\n",
              "      <td>3</td>\n",
              "      <td>91.339996</td>\n",
              "      <td>1882.090000</td>\n",
              "      <td>1</td>\n",
              "      <td>0</td>\n",
              "      <td>0</td>\n",
              "      <td>1</td>\n",
              "      <td>0</td>\n",
              "      <td>0</td>\n",
              "      <td>0</td>\n",
              "      <td>0</td>\n",
              "      <td>1</td>\n",
              "      <td>0</td>\n",
              "      <td>0</td>\n",
              "      <td>0</td>\n",
              "      <td>0</td>\n",
              "      <td>0</td>\n",
              "      <td>1</td>\n",
              "    </tr>\n",
              "  </tbody>\n",
              "</table>\n",
              "</div>"
            ],
            "text/plain": [
              "   target  monthly_debt_capacity  ...  pdt_Secundaria  pdt_Universitaria\n",
              "0       1             252.389999  ...               1                  0\n",
              "1       1             244.570007  ...               1                  0\n",
              "2       0             491.500000  ...               1                  0\n",
              "3       0             848.650024  ...               0                  1\n",
              "4       0             470.519989  ...               0                  1\n",
              "\n",
              "[5 rows x 22 columns]"
            ]
          },
          "metadata": {
            "tags": []
          },
          "execution_count": 24
        }
      ]
    },
    {
      "cell_type": "code",
      "metadata": {
        "id": "X3hapLWP7gx2",
        "outputId": "2f484713-60ea-47ae-f7c6-349d8658023b",
        "colab": {
          "base_uri": "https://localhost:8080/",
          "height": 425
        }
      },
      "source": [
        "print('Nueva cantidad de atributos:',df.shape[1])\n",
        "print(df.dtypes)"
      ],
      "execution_count": 25,
      "outputs": [
        {
          "output_type": "stream",
          "text": [
            "Nueva cantidad de atributos: 22\n",
            "target                             int64\n",
            "monthly_debt_capacity            float32\n",
            "var_employment_time_in_months    float64\n",
            "approved_amount                  float32\n",
            "approved_term                      int64\n",
            "approved_interest_amount         float32\n",
            "var_net_income                   float64\n",
            "default_request_term               int64\n",
            "chm_C                              uint8\n",
            "chm_D                              uint8\n",
            "chm_S                              uint8\n",
            "chm_V                              uint8\n",
            "vms_CPP                            uint8\n",
            "vms_DEFICIENTE                     uint8\n",
            "vms_DUDOSO                         uint8\n",
            "vms_NORMAL                         uint8\n",
            "vms_PERDIDA                        uint8\n",
            "pdt_Carrera Tecnica                uint8\n",
            "pdt_Postgrado                      uint8\n",
            "pdt_Primaria                       uint8\n",
            "pdt_Secundaria                     uint8\n",
            "pdt_Universitaria                  uint8\n",
            "dtype: object\n"
          ],
          "name": "stdout"
        }
      ]
    },
    {
      "cell_type": "markdown",
      "metadata": {
        "id": "O48mT74ZPFFU"
      },
      "source": [
        "Como podemos observar, la cantidad de atributos aumentan (columnas) a partir de la implementación del ***One Hot Encoding***."
      ]
    },
    {
      "cell_type": "markdown",
      "metadata": {
        "id": "-7B3xa2Tkdh_"
      },
      "source": [
        "### 2.5. Sustitución de valores nulos\n",
        "La función sklearn.impute.SimpleImputer permite sustituir valores nulos por otros valores según varias estrategias disponibles. La estrategia a ejecutar se indica mediante el parámetro strategy.\n",
        "\n",
        "En este caso el ***atributo var_employment_time_in_months*** tenia valores NA la estrategia es sustituir los valores nulos por el valor medio de las características"
      ]
    },
    {
      "cell_type": "code",
      "metadata": {
        "id": "Lb9zPViiJj-q",
        "outputId": "1bd8e577-a710-414c-b115-757fb21bb2ac",
        "colab": {
          "base_uri": "https://localhost:8080/",
          "height": 334
        }
      },
      "source": [
        "from sklearn.impute import SimpleImputer\n",
        "si = SimpleImputer()\n",
        "\n",
        "df[\"var_employment_time_in_months\"] = si.fit_transform(df[\"var_employment_time_in_months\"].values.reshape(-1, 1))\n",
        "\n",
        "df.head(11)\n",
        "df.describe()"
      ],
      "execution_count": 30,
      "outputs": [
        {
          "output_type": "execute_result",
          "data": {
            "text/html": [
              "<div>\n",
              "<style scoped>\n",
              "    .dataframe tbody tr th:only-of-type {\n",
              "        vertical-align: middle;\n",
              "    }\n",
              "\n",
              "    .dataframe tbody tr th {\n",
              "        vertical-align: top;\n",
              "    }\n",
              "\n",
              "    .dataframe thead th {\n",
              "        text-align: right;\n",
              "    }\n",
              "</style>\n",
              "<table border=\"1\" class=\"dataframe\">\n",
              "  <thead>\n",
              "    <tr style=\"text-align: right;\">\n",
              "      <th></th>\n",
              "      <th>target</th>\n",
              "      <th>monthly_debt_capacity</th>\n",
              "      <th>var_employment_time_in_months</th>\n",
              "      <th>approved_amount</th>\n",
              "      <th>approved_term</th>\n",
              "      <th>approved_interest_amount</th>\n",
              "      <th>var_net_income</th>\n",
              "      <th>default_request_term</th>\n",
              "      <th>chm_C</th>\n",
              "      <th>chm_D</th>\n",
              "      <th>chm_S</th>\n",
              "      <th>chm_V</th>\n",
              "      <th>vms_CPP</th>\n",
              "      <th>vms_DEFICIENTE</th>\n",
              "      <th>vms_DUDOSO</th>\n",
              "      <th>vms_NORMAL</th>\n",
              "      <th>vms_PERDIDA</th>\n",
              "      <th>pdt_Carrera Tecnica</th>\n",
              "      <th>pdt_Postgrado</th>\n",
              "      <th>pdt_Primaria</th>\n",
              "      <th>pdt_Secundaria</th>\n",
              "      <th>pdt_Universitaria</th>\n",
              "    </tr>\n",
              "  </thead>\n",
              "  <tbody>\n",
              "    <tr>\n",
              "      <th>count</th>\n",
              "      <td>1605.000000</td>\n",
              "      <td>1605.000000</td>\n",
              "      <td>1719.000000</td>\n",
              "      <td>1605.000000</td>\n",
              "      <td>1605.000000</td>\n",
              "      <td>1605.000000</td>\n",
              "      <td>1719.000000</td>\n",
              "      <td>1605.000000</td>\n",
              "      <td>1605.000000</td>\n",
              "      <td>1605.000000</td>\n",
              "      <td>1605.000000</td>\n",
              "      <td>1605.000000</td>\n",
              "      <td>1605.000000</td>\n",
              "      <td>1605.000000</td>\n",
              "      <td>1605.000000</td>\n",
              "      <td>1605.000000</td>\n",
              "      <td>1605.000000</td>\n",
              "      <td>1605.000000</td>\n",
              "      <td>1605.000000</td>\n",
              "      <td>1605.000000</td>\n",
              "      <td>1605.000000</td>\n",
              "      <td>1605.000000</td>\n",
              "    </tr>\n",
              "    <tr>\n",
              "      <th>mean</th>\n",
              "      <td>0.302804</td>\n",
              "      <td>0.413035</td>\n",
              "      <td>0.393376</td>\n",
              "      <td>0.141520</td>\n",
              "      <td>0.487284</td>\n",
              "      <td>0.157685</td>\n",
              "      <td>0.464302</td>\n",
              "      <td>0.517757</td>\n",
              "      <td>0.155140</td>\n",
              "      <td>0.006231</td>\n",
              "      <td>0.838006</td>\n",
              "      <td>0.000623</td>\n",
              "      <td>0.117134</td>\n",
              "      <td>0.016822</td>\n",
              "      <td>0.000623</td>\n",
              "      <td>0.862928</td>\n",
              "      <td>0.002492</td>\n",
              "      <td>0.371963</td>\n",
              "      <td>0.026791</td>\n",
              "      <td>0.001869</td>\n",
              "      <td>0.135826</td>\n",
              "      <td>0.463551</td>\n",
              "    </tr>\n",
              "    <tr>\n",
              "      <th>std</th>\n",
              "      <td>0.459614</td>\n",
              "      <td>0.141043</td>\n",
              "      <td>0.277280</td>\n",
              "      <td>0.121035</td>\n",
              "      <td>0.266998</td>\n",
              "      <td>0.164328</td>\n",
              "      <td>0.184799</td>\n",
              "      <td>0.499840</td>\n",
              "      <td>0.362151</td>\n",
              "      <td>0.078712</td>\n",
              "      <td>0.368560</td>\n",
              "      <td>0.024961</td>\n",
              "      <td>0.321680</td>\n",
              "      <td>0.128646</td>\n",
              "      <td>0.024961</td>\n",
              "      <td>0.344030</td>\n",
              "      <td>0.049875</td>\n",
              "      <td>0.483479</td>\n",
              "      <td>0.161523</td>\n",
              "      <td>0.043207</td>\n",
              "      <td>0.342710</td>\n",
              "      <td>0.498825</td>\n",
              "    </tr>\n",
              "    <tr>\n",
              "      <th>min</th>\n",
              "      <td>0.000000</td>\n",
              "      <td>0.000000</td>\n",
              "      <td>0.000000</td>\n",
              "      <td>0.000000</td>\n",
              "      <td>0.000000</td>\n",
              "      <td>0.000000</td>\n",
              "      <td>0.000000</td>\n",
              "      <td>0.000000</td>\n",
              "      <td>0.000000</td>\n",
              "      <td>0.000000</td>\n",
              "      <td>0.000000</td>\n",
              "      <td>0.000000</td>\n",
              "      <td>0.000000</td>\n",
              "      <td>0.000000</td>\n",
              "      <td>0.000000</td>\n",
              "      <td>0.000000</td>\n",
              "      <td>0.000000</td>\n",
              "      <td>0.000000</td>\n",
              "      <td>0.000000</td>\n",
              "      <td>0.000000</td>\n",
              "      <td>0.000000</td>\n",
              "      <td>0.000000</td>\n",
              "    </tr>\n",
              "    <tr>\n",
              "      <th>25%</th>\n",
              "      <td>0.000000</td>\n",
              "      <td>0.309863</td>\n",
              "      <td>0.147727</td>\n",
              "      <td>0.046296</td>\n",
              "      <td>0.454545</td>\n",
              "      <td>0.056592</td>\n",
              "      <td>0.345918</td>\n",
              "      <td>0.000000</td>\n",
              "      <td>0.000000</td>\n",
              "      <td>0.000000</td>\n",
              "      <td>1.000000</td>\n",
              "      <td>0.000000</td>\n",
              "      <td>0.000000</td>\n",
              "      <td>0.000000</td>\n",
              "      <td>0.000000</td>\n",
              "      <td>1.000000</td>\n",
              "      <td>0.000000</td>\n",
              "      <td>0.000000</td>\n",
              "      <td>0.000000</td>\n",
              "      <td>0.000000</td>\n",
              "      <td>0.000000</td>\n",
              "      <td>0.000000</td>\n",
              "    </tr>\n",
              "    <tr>\n",
              "      <th>50%</th>\n",
              "      <td>0.000000</td>\n",
              "      <td>0.383603</td>\n",
              "      <td>0.393376</td>\n",
              "      <td>0.092593</td>\n",
              "      <td>0.454545</td>\n",
              "      <td>0.111301</td>\n",
              "      <td>0.464302</td>\n",
              "      <td>1.000000</td>\n",
              "      <td>0.000000</td>\n",
              "      <td>0.000000</td>\n",
              "      <td>1.000000</td>\n",
              "      <td>0.000000</td>\n",
              "      <td>0.000000</td>\n",
              "      <td>0.000000</td>\n",
              "      <td>0.000000</td>\n",
              "      <td>1.000000</td>\n",
              "      <td>0.000000</td>\n",
              "      <td>0.000000</td>\n",
              "      <td>0.000000</td>\n",
              "      <td>0.000000</td>\n",
              "      <td>0.000000</td>\n",
              "      <td>0.000000</td>\n",
              "    </tr>\n",
              "    <tr>\n",
              "      <th>75%</th>\n",
              "      <td>1.000000</td>\n",
              "      <td>0.479933</td>\n",
              "      <td>0.579545</td>\n",
              "      <td>0.185185</td>\n",
              "      <td>0.454545</td>\n",
              "      <td>0.162182</td>\n",
              "      <td>0.562076</td>\n",
              "      <td>1.000000</td>\n",
              "      <td>0.000000</td>\n",
              "      <td>0.000000</td>\n",
              "      <td>1.000000</td>\n",
              "      <td>0.000000</td>\n",
              "      <td>0.000000</td>\n",
              "      <td>0.000000</td>\n",
              "      <td>0.000000</td>\n",
              "      <td>1.000000</td>\n",
              "      <td>0.000000</td>\n",
              "      <td>1.000000</td>\n",
              "      <td>0.000000</td>\n",
              "      <td>0.000000</td>\n",
              "      <td>0.000000</td>\n",
              "      <td>1.000000</td>\n",
              "    </tr>\n",
              "    <tr>\n",
              "      <th>max</th>\n",
              "      <td>1.000000</td>\n",
              "      <td>1.000000</td>\n",
              "      <td>1.000000</td>\n",
              "      <td>1.000000</td>\n",
              "      <td>1.000000</td>\n",
              "      <td>1.000000</td>\n",
              "      <td>1.000000</td>\n",
              "      <td>1.000000</td>\n",
              "      <td>1.000000</td>\n",
              "      <td>1.000000</td>\n",
              "      <td>1.000000</td>\n",
              "      <td>1.000000</td>\n",
              "      <td>1.000000</td>\n",
              "      <td>1.000000</td>\n",
              "      <td>1.000000</td>\n",
              "      <td>1.000000</td>\n",
              "      <td>1.000000</td>\n",
              "      <td>1.000000</td>\n",
              "      <td>1.000000</td>\n",
              "      <td>1.000000</td>\n",
              "      <td>1.000000</td>\n",
              "      <td>1.000000</td>\n",
              "    </tr>\n",
              "  </tbody>\n",
              "</table>\n",
              "</div>"
            ],
            "text/plain": [
              "            target  monthly_debt_capacity  ...  pdt_Secundaria  pdt_Universitaria\n",
              "count  1605.000000            1605.000000  ...     1605.000000        1605.000000\n",
              "mean      0.302804               0.413035  ...        0.135826           0.463551\n",
              "std       0.459614               0.141043  ...        0.342710           0.498825\n",
              "min       0.000000               0.000000  ...        0.000000           0.000000\n",
              "25%       0.000000               0.309863  ...        0.000000           0.000000\n",
              "50%       0.000000               0.383603  ...        0.000000           0.000000\n",
              "75%       1.000000               0.479933  ...        0.000000           1.000000\n",
              "max       1.000000               1.000000  ...        1.000000           1.000000\n",
              "\n",
              "[8 rows x 22 columns]"
            ]
          },
          "metadata": {
            "tags": []
          },
          "execution_count": 30
        }
      ]
    },
    {
      "cell_type": "markdown",
      "metadata": {
        "id": "FnQnTBP0go3I"
      },
      "source": [
        "### 2.6. Outliers \n",
        "  En este caso identificamos en la variable var_net_income (salario) presentaba valores atipicos a partir del analisis del diagrama de cajas. Identificamos el valor Max a partir de los percentiles 25 y 75. Se utiliza los imputers para rellenar los valores atipicos.\n"
      ]
    },
    {
      "cell_type": "code",
      "metadata": {
        "id": "2zIVnpdDeZUf",
        "outputId": "19f2452a-d54e-4f3d-881e-f065930a7402",
        "colab": {
          "base_uri": "https://localhost:8080/",
          "height": 282
        }
      },
      "source": [
        "Q1 =  df['var_net_income'].quantile(0.25)\n",
        "Q3 = df['var_net_income'].quantile(0.75)\n",
        "IQR = Q3 - Q1\n",
        "\n",
        "Max = Q3+1.5*IQR\n",
        "\n",
        "boxplot = df.boxplot(column=['var_net_income'])\n",
        "\n",
        "df.loc[(df['var_net_income'] > Max)] = None\n",
        "\n",
        "print(Q1,Q3,Max)"
      ],
      "execution_count": 31,
      "outputs": [
        {
          "output_type": "stream",
          "text": [
            "0.34591816564538447 0.5620755089938724 0.8863115240166042\n"
          ],
          "name": "stdout"
        },
        {
          "output_type": "display_data",
          "data": {
            "image/png": "[encoded data removed]",
            "text/plain": [
              "<Figure size 432x288 with 1 Axes>"
            ]
          },
          "metadata": {
            "tags": [],
            "needs_background": "light"
          }
        }
      ]
    },
    {
      "cell_type": "code",
      "metadata": {
        "id": "58d-hQM1fSXo",
        "outputId": "830d7b11-f54e-41d4-8da9-597948e01b0b",
        "colab": {
          "base_uri": "https://localhost:8080/",
          "height": 265
        }
      },
      "source": [
        "df['var_net_income'].describe()\n",
        "\n",
        "df.loc[(df['var_net_income'] > Max)] = None\n",
        "\n",
        "imp_mean = SimpleImputer(missing_values=np.nan, strategy='mean')\n",
        "\n",
        "\n",
        "df[\"var_net_income\"] = imp_mean.fit_transform(df[\"var_net_income\"].values.reshape(-1, 1))\n",
        "\n",
        "boxplot = df.boxplot(column=['var_net_income'])\n",
        "df[\"var_net_income\"].describe()\n",
        "\n",
        "df = df.dropna()"
      ],
      "execution_count": 33,
      "outputs": [
        {
          "output_type": "display_data",
          "data": {
            "image/png": "[encoded data removed]",
            "text/plain": [
              "<Figure size 432x288 with 1 Axes>"
            ]
          },
          "metadata": {
            "tags": [],
            "needs_background": "light"
          }
        }
      ]
    },
    {
      "cell_type": "markdown",
      "metadata": {
        "id": "TIa8k-gI9j4J"
      },
      "source": [
        "### 2.7 Normalización de datos\n",
        "\n",
        "Utilizaremos la ***MinMaxScaler*** para normalizar nuestros datos para los modelos"
      ]
    },
    {
      "cell_type": "code",
      "metadata": {
        "id": "hvbRdqiP9vnv",
        "outputId": "8058f141-d762-49eb-f59d-ecd3a8be61b9",
        "colab": {
          "base_uri": "https://localhost:8080/",
          "height": 241
        }
      },
      "source": [
        "scaler = MinMaxScaler()\n",
        "df = pd.DataFrame(scaler.fit_transform(df), columns=df.columns)\n",
        "df.head(5)"
      ],
      "execution_count": 34,
      "outputs": [
        {
          "output_type": "execute_result",
          "data": {
            "text/html": [
              "<div>\n",
              "<style scoped>\n",
              "    .dataframe tbody tr th:only-of-type {\n",
              "        vertical-align: middle;\n",
              "    }\n",
              "\n",
              "    .dataframe tbody tr th {\n",
              "        vertical-align: top;\n",
              "    }\n",
              "\n",
              "    .dataframe thead th {\n",
              "        text-align: right;\n",
              "    }\n",
              "</style>\n",
              "<table border=\"1\" class=\"dataframe\">\n",
              "  <thead>\n",
              "    <tr style=\"text-align: right;\">\n",
              "      <th></th>\n",
              "      <th>target</th>\n",
              "      <th>monthly_debt_capacity</th>\n",
              "      <th>var_employment_time_in_months</th>\n",
              "      <th>approved_amount</th>\n",
              "      <th>approved_term</th>\n",
              "      <th>approved_interest_amount</th>\n",
              "      <th>var_net_income</th>\n",
              "      <th>default_request_term</th>\n",
              "      <th>chm_C</th>\n",
              "      <th>chm_D</th>\n",
              "      <th>chm_S</th>\n",
              "      <th>chm_V</th>\n",
              "      <th>vms_CPP</th>\n",
              "      <th>vms_DEFICIENTE</th>\n",
              "      <th>vms_DUDOSO</th>\n",
              "      <th>vms_NORMAL</th>\n",
              "      <th>vms_PERDIDA</th>\n",
              "      <th>pdt_Carrera Tecnica</th>\n",
              "      <th>pdt_Postgrado</th>\n",
              "      <th>pdt_Primaria</th>\n",
              "      <th>pdt_Secundaria</th>\n",
              "      <th>pdt_Universitaria</th>\n",
              "    </tr>\n",
              "  </thead>\n",
              "  <tbody>\n",
              "    <tr>\n",
              "      <th>0</th>\n",
              "      <td>1.0</td>\n",
              "      <td>0.253555</td>\n",
              "      <td>0.113636</td>\n",
              "      <td>0.064815</td>\n",
              "      <td>0.454545</td>\n",
              "      <td>0.116370</td>\n",
              "      <td>0.254325</td>\n",
              "      <td>1.0</td>\n",
              "      <td>1.0</td>\n",
              "      <td>0.0</td>\n",
              "      <td>0.0</td>\n",
              "      <td>0.0</td>\n",
              "      <td>0.0</td>\n",
              "      <td>0.0</td>\n",
              "      <td>0.0</td>\n",
              "      <td>1.0</td>\n",
              "      <td>0.0</td>\n",
              "      <td>0.0</td>\n",
              "      <td>0.0</td>\n",
              "      <td>0.0</td>\n",
              "      <td>1.0</td>\n",
              "      <td>0.0</td>\n",
              "    </tr>\n",
              "    <tr>\n",
              "      <th>1</th>\n",
              "      <td>1.0</td>\n",
              "      <td>0.248733</td>\n",
              "      <td>0.579545</td>\n",
              "      <td>0.157407</td>\n",
              "      <td>1.000000</td>\n",
              "      <td>0.294249</td>\n",
              "      <td>0.236759</td>\n",
              "      <td>0.0</td>\n",
              "      <td>0.0</td>\n",
              "      <td>0.0</td>\n",
              "      <td>1.0</td>\n",
              "      <td>0.0</td>\n",
              "      <td>0.0</td>\n",
              "      <td>0.0</td>\n",
              "      <td>0.0</td>\n",
              "      <td>1.0</td>\n",
              "      <td>0.0</td>\n",
              "      <td>0.0</td>\n",
              "      <td>0.0</td>\n",
              "      <td>0.0</td>\n",
              "      <td>1.0</td>\n",
              "      <td>0.0</td>\n",
              "    </tr>\n",
              "    <tr>\n",
              "      <th>2</th>\n",
              "      <td>0.0</td>\n",
              "      <td>0.401018</td>\n",
              "      <td>0.738636</td>\n",
              "      <td>0.046296</td>\n",
              "      <td>0.181818</td>\n",
              "      <td>0.027169</td>\n",
              "      <td>0.464472</td>\n",
              "      <td>0.0</td>\n",
              "      <td>0.0</td>\n",
              "      <td>0.0</td>\n",
              "      <td>1.0</td>\n",
              "      <td>0.0</td>\n",
              "      <td>0.0</td>\n",
              "      <td>0.0</td>\n",
              "      <td>0.0</td>\n",
              "      <td>1.0</td>\n",
              "      <td>0.0</td>\n",
              "      <td>0.0</td>\n",
              "      <td>0.0</td>\n",
              "      <td>0.0</td>\n",
              "      <td>1.0</td>\n",
              "      <td>0.0</td>\n",
              "    </tr>\n",
              "    <tr>\n",
              "      <th>3</th>\n",
              "      <td>0.0</td>\n",
              "      <td>0.621277</td>\n",
              "      <td>0.886364</td>\n",
              "      <td>0.092593</td>\n",
              "      <td>0.454545</td>\n",
              "      <td>0.086837</td>\n",
              "      <td>0.763433</td>\n",
              "      <td>0.0</td>\n",
              "      <td>0.0</td>\n",
              "      <td>0.0</td>\n",
              "      <td>1.0</td>\n",
              "      <td>0.0</td>\n",
              "      <td>0.0</td>\n",
              "      <td>0.0</td>\n",
              "      <td>0.0</td>\n",
              "      <td>1.0</td>\n",
              "      <td>0.0</td>\n",
              "      <td>0.0</td>\n",
              "      <td>0.0</td>\n",
              "      <td>0.0</td>\n",
              "      <td>0.0</td>\n",
              "      <td>1.0</td>\n",
              "    </tr>\n",
              "    <tr>\n",
              "      <th>4</th>\n",
              "      <td>0.0</td>\n",
              "      <td>0.388079</td>\n",
              "      <td>0.943182</td>\n",
              "      <td>0.046296</td>\n",
              "      <td>0.181818</td>\n",
              "      <td>0.029944</td>\n",
              "      <td>0.419834</td>\n",
              "      <td>1.0</td>\n",
              "      <td>0.0</td>\n",
              "      <td>0.0</td>\n",
              "      <td>1.0</td>\n",
              "      <td>0.0</td>\n",
              "      <td>0.0</td>\n",
              "      <td>0.0</td>\n",
              "      <td>0.0</td>\n",
              "      <td>1.0</td>\n",
              "      <td>0.0</td>\n",
              "      <td>0.0</td>\n",
              "      <td>0.0</td>\n",
              "      <td>0.0</td>\n",
              "      <td>0.0</td>\n",
              "      <td>1.0</td>\n",
              "    </tr>\n",
              "  </tbody>\n",
              "</table>\n",
              "</div>"
            ],
            "text/plain": [
              "   target  monthly_debt_capacity  ...  pdt_Secundaria  pdt_Universitaria\n",
              "0     1.0               0.253555  ...             1.0                0.0\n",
              "1     1.0               0.248733  ...             1.0                0.0\n",
              "2     0.0               0.401018  ...             1.0                0.0\n",
              "3     0.0               0.621277  ...             0.0                1.0\n",
              "4     0.0               0.388079  ...             0.0                1.0\n",
              "\n",
              "[5 rows x 22 columns]"
            ]
          },
          "metadata": {
            "tags": []
          },
          "execution_count": 34
        }
      ]
    },
    {
      "cell_type": "markdown",
      "metadata": {
        "id": "rjnawK4q9xdZ"
      },
      "source": [
        "### 2.8 Separación de datos en subconjuntos\n",
        "\n",
        "Para que nuestros modelos puedan procesar los datos, los separaremos en subconjuntos, X contendrá los atributos mientras y contendrá el atributo clase"
      ]
    },
    {
      "cell_type": "code",
      "metadata": {
        "id": "tCChf4sW92z2"
      },
      "source": [
        "X = df[[x for x in df.columns if x != 'target']]\n",
        "y = pd.to_numeric(df['target'], downcast=\"integer\")"
      ],
      "execution_count": 35,
      "outputs": []
    },
    {
      "cell_type": "markdown",
      "metadata": {
        "id": "gzxeClSOK_Pk"
      },
      "source": [
        "## 3. Aplicación de modelos para clasificación"
      ]
    },
    {
      "cell_type": "markdown",
      "metadata": {
        "id": "LceZ8RFxQqbW"
      },
      "source": [
        "### 3.1 Gaussian Naive Bayes"
      ]
    },
    {
      "cell_type": "code",
      "metadata": {
        "id": "X75GwszUQtoI",
        "outputId": "e9a25592-5bb2-45c5-ef57-8921b3c3422a",
        "colab": {
          "base_uri": "https://localhost:8080/",
          "height": 187
        }
      },
      "source": [
        "X_train, X_test, y_train, y_test = train_test_split(X, y, test_size=0.4, random_state=0)\n",
        "\n",
        "gnb = GaussianNB()\n",
        "gnb.fit(X_train, y_train)\n",
        "\n",
        "y_gnb_predict = gnb.predict(X_test)\n",
        "\n",
        "print(classification_report(y_test, y_gnb_predict))\n",
        "\n",
        "scores_gnb = cross_val_score(gnb, X_train, y_train, cv=15)\n",
        "print(\"Accuracy promedio: \", np.mean(scores_gnb))"
      ],
      "execution_count": 36,
      "outputs": [
        {
          "output_type": "stream",
          "text": [
            "              precision    recall  f1-score   support\n",
            "\n",
            "           0       0.87      0.03      0.06       436\n",
            "           1       0.31      0.99      0.47       189\n",
            "\n",
            "    accuracy                           0.32       625\n",
            "   macro avg       0.59      0.51      0.26       625\n",
            "weighted avg       0.70      0.32      0.18       625\n",
            "\n",
            "Accuracy promedio:  0.36236559139784946\n"
          ],
          "name": "stdout"
        }
      ]
    },
    {
      "cell_type": "markdown",
      "metadata": {
        "id": "6siQ9fLnLg1y"
      },
      "source": [
        "### 3.2 Multinomial Naive Bayes"
      ]
    },
    {
      "cell_type": "code",
      "metadata": {
        "id": "xpwjy0rrLn0P",
        "outputId": "aecb985b-cff0-49b6-f025-9db8d0e18955",
        "colab": {
          "base_uri": "https://localhost:8080/",
          "height": 187
        }
      },
      "source": [
        "mnb = MultinomialNB()\n",
        "mnb.fit(X_train, y_train)\n",
        "\n",
        "y_mnb_predict = mnb.predict(X_test)\n",
        "\n",
        "print(classification_report(y_test,y_mnb_predict))\n",
        "\n",
        "scores_mnb = cross_val_score(mnb, X_train, y_train, cv=15)\n",
        "\n",
        "print(\"Accuracy promedio: \", np.mean(scores_mnb))"
      ],
      "execution_count": 37,
      "outputs": [
        {
          "output_type": "stream",
          "text": [
            "              precision    recall  f1-score   support\n",
            "\n",
            "           0       0.71      0.98      0.82       436\n",
            "           1       0.59      0.05      0.10       189\n",
            "\n",
            "    accuracy                           0.70       625\n",
            "   macro avg       0.65      0.52      0.46       625\n",
            "weighted avg       0.67      0.70      0.60       625\n",
            "\n",
            "Accuracy promedio:  0.6912442396313364\n"
          ],
          "name": "stdout"
        }
      ]
    },
    {
      "cell_type": "markdown",
      "metadata": {
        "id": "3ozBMaLV2naw"
      },
      "source": [
        "#3.3 LSTM\n"
      ]
    },
    {
      "cell_type": "code",
      "metadata": {
        "id": "_HkeNrl02i32",
        "outputId": "707578d6-288a-4f52-f9d9-9beb6a42df77",
        "colab": {
          "base_uri": "https://localhost:8080/",
          "height": 976
        }
      },
      "source": [
        "\n",
        "scaler = MinMaxScaler(feature_range=(0, 1))\n",
        "\n",
        "X_train = np.array(X_train)\n",
        "\n",
        "X_train = np.reshape(X_train, (X_train.shape[0], X_train.shape[1], 1))\n",
        "\n",
        "\n",
        "\n",
        "modelo = Sequential()\n",
        "\n",
        "modelo.add(LSTM(units = 150,\n",
        "               input_shape=(X_train.shape[1],1),\n",
        "               return_sequences=False))\n",
        "\n",
        "modelo.add(Dense(units =1))\n",
        "modelo.compile(optimizer='adam', loss='mse')\n",
        "history = modelo.fit(X_train,y_train,epochs=20,batch_size=100,validation_split = 0.1)\n",
        "\n",
        "\n",
        "X_test = np.array(X_test)\n",
        "X_test = np.reshape(X_test, (X_test.shape[0], X_test.shape[1], 1))\n",
        "\n",
        "\n",
        "train_prediccion = modelo.predict(X_train)\n",
        "\n",
        "test_prediccion = modelo.predict(X_test)\n",
        "\n",
        "plt.figure(figsize = (8,4))\n",
        "plt.plot(history.history['loss'])\n",
        "plt.xlabel('epoch'), plt.ylabel('loss')\n",
        "\n",
        "\n",
        "\n",
        "\n",
        "\n"
      ],
      "execution_count": 149,
      "outputs": [
        {
          "output_type": "stream",
          "text": [
            "Epoch 1/20\n",
            "9/9 [==============================] - 1s 100ms/step - loss: 0.2416 - val_loss: 0.2481\n",
            "Epoch 2/20\n",
            "9/9 [==============================] - 1s 62ms/step - loss: 0.2144 - val_loss: 0.2693\n",
            "Epoch 3/20\n",
            "9/9 [==============================] - 1s 56ms/step - loss: 0.2131 - val_loss: 0.2490\n",
            "Epoch 4/20\n",
            "9/9 [==============================] - 0s 55ms/step - loss: 0.2117 - val_loss: 0.2617\n",
            "Epoch 5/20\n",
            "9/9 [==============================] - 0s 55ms/step - loss: 0.2121 - val_loss: 0.2504\n",
            "Epoch 6/20\n",
            "9/9 [==============================] - 1s 56ms/step - loss: 0.2111 - val_loss: 0.2608\n",
            "Epoch 7/20\n",
            "9/9 [==============================] - 0s 55ms/step - loss: 0.2110 - val_loss: 0.2534\n",
            "Epoch 8/20\n",
            "9/9 [==============================] - 1s 56ms/step - loss: 0.2111 - val_loss: 0.2530\n",
            "Epoch 9/20\n",
            "9/9 [==============================] - 1s 56ms/step - loss: 0.2104 - val_loss: 0.2599\n",
            "Epoch 10/20\n",
            "9/9 [==============================] - 1s 56ms/step - loss: 0.2102 - val_loss: 0.2520\n",
            "Epoch 11/20\n",
            "9/9 [==============================] - 1s 56ms/step - loss: 0.2104 - val_loss: 0.2566\n",
            "Epoch 12/20\n",
            "9/9 [==============================] - 0s 55ms/step - loss: 0.2122 - val_loss: 0.2636\n",
            "Epoch 13/20\n",
            "9/9 [==============================] - 1s 56ms/step - loss: 0.2115 - val_loss: 0.2481\n",
            "Epoch 14/20\n",
            "9/9 [==============================] - 0s 54ms/step - loss: 0.2096 - val_loss: 0.2615\n",
            "Epoch 15/20\n",
            "9/9 [==============================] - 0s 55ms/step - loss: 0.2107 - val_loss: 0.2556\n",
            "Epoch 16/20\n",
            "9/9 [==============================] - 1s 59ms/step - loss: 0.2116 - val_loss: 0.2537\n",
            "Epoch 17/20\n",
            "9/9 [==============================] - 0s 55ms/step - loss: 0.2097 - val_loss: 0.2574\n",
            "Epoch 18/20\n",
            "9/9 [==============================] - 1s 59ms/step - loss: 0.2096 - val_loss: 0.2520\n",
            "Epoch 19/20\n",
            "9/9 [==============================] - 0s 55ms/step - loss: 0.2095 - val_loss: 0.2552\n",
            "Epoch 20/20\n",
            "9/9 [==============================] - 0s 54ms/step - loss: 0.2093 - val_loss: 0.2568\n"
          ],
          "name": "stdout"
        },
        {
          "output_type": "execute_result",
          "data": {
            "text/plain": [
              "(Text(0.5, 0, 'epoch'), Text(0, 0.5, 'loss'))"
            ]
          },
          "metadata": {
            "tags": []
          },
          "execution_count": 149
        },
        {
          "output_type": "display_data",
          "data": {
            "image/png": "[encoded data removed]",
            "text/plain": [
              "<Figure size 576x288 with 1 Axes>"
            ]
          },
          "metadata": {
            "tags": [],
            "needs_background": "light"
          }
        }
      ]
    },
    {
      "cell_type": "code",
      "metadata": {
        "id": "Sn82Gs_c3Dbv",
        "outputId": "1481add6-a0fc-4e8b-bb75-707ccdff00fd",
        "colab": {
          "base_uri": "https://localhost:8080/",
          "height": 224
        }
      },
      "source": [
        "\n",
        "print(classification_report(y_test, test_prediccion.round()))\n"
      ],
      "execution_count": 150,
      "outputs": [
        {
          "output_type": "stream",
          "text": [
            "              precision    recall  f1-score   support\n",
            "\n",
            "           0       0.71      1.00      0.83       457\n",
            "           1       0.00      0.00      0.00       185\n",
            "\n",
            "    accuracy                           0.71       642\n",
            "   macro avg       0.36      0.50      0.42       642\n",
            "weighted avg       0.51      0.71      0.59       642\n",
            "\n"
          ],
          "name": "stdout"
        },
        {
          "output_type": "stream",
          "text": [
            "/usr/local/lib/python3.6/dist-packages/sklearn/metrics/_classification.py:1272: UndefinedMetricWarning: Precision and F-score are ill-defined and being set to 0.0 in labels with no predicted samples. Use `zero_division` parameter to control this behavior.\n",
            "  _warn_prf(average, modifier, msg_start, len(result))\n"
          ],
          "name": "stderr"
        }
      ]
    },
    {
      "cell_type": "code",
      "metadata": {
        "id": "KBDOOXSi3xXG",
        "outputId": "38507f15-40ec-4bb2-b57c-ab72044038d9",
        "colab": {
          "base_uri": "https://localhost:8080/",
          "height": 294
        }
      },
      "source": [
        "plt.plot(history.history['loss'])\n",
        "plt.plot(history.history['val_loss'])\n",
        "plt.title('model accuracy')\n",
        "plt.ylabel('accuracy')\n",
        "plt.xlabel('epoch')\n",
        "plt.legend(['training data', 'validation data'], loc='upper left')\n",
        "plt.show()"
      ],
      "execution_count": 152,
      "outputs": [
        {
          "output_type": "display_data",
          "data": {
            "image/png": "[encoded data removed]",
            "text/plain": [
              "<Figure size 432x288 with 1 Axes>"
            ]
          },
          "metadata": {
            "tags": [],
            "needs_background": "light"
          }
        }
      ]
    },
    {
      "cell_type": "code",
      "metadata": {
        "id": "JQwTbumv8W1x"
      },
      "source": [
        ""
      ],
      "execution_count": null,
      "outputs": []
    }
  ]
}