{
  "nbformat": 4,
  "nbformat_minor": 0,
  "metadata": {
    "colab": {
      "name": "TP_MachinLearning.ipynb",
      "provenance": [],
      "collapsed_sections": [],
      "toc_visible": true,
      "include_colab_link": true
    },
    "kernelspec": {
      "name": "python3",
      "display_name": "Python 3"
    },
    "widgets": {
      "application/vnd.jupyter.widget-state+json": {
        "bac40f27a359479fa98450980ab670fb": {
          "model_module": "@jupyter-widgets/controls",
          "model_name": "FileUploadModel",
          "state": {
            "_view_name": "FileUploadView",
            "_counter": 1,
            "style": "IPY_MODEL_b02dad4d4d3746c7bbcad3ad1c84f517",
            "_dom_classes": [],
            "description": "Upload",
            "multiple": false,
            "_model_name": "FileUploadModel",
            "data": [
              null
            ],
            "button_style": "",
            "_view_module": "@jupyter-widgets/controls",
            "_model_module_version": "1.5.0",
            "accept": "",
            "_view_count": null,
            "disabled": false,
            "_view_module_version": "1.5.0",
            "error": "",
            "description_tooltip": null,
            "metadata": [
              {
                "name": "datos_banco.csv",
                "type": "application/vnd.ms-excel",
                "size": 156252,
                "lastModified": 1601302029766
              }
            ],
            "_model_module": "@jupyter-widgets/controls",
            "layout": "IPY_MODEL_9bf02d2253a645919ff3c04721203220",
            "icon": "upload"
          }
        },
        "b02dad4d4d3746c7bbcad3ad1c84f517": {
          "model_module": "@jupyter-widgets/controls",
          "model_name": "ButtonStyleModel",
          "state": {
            "_view_name": "StyleView",
            "_model_name": "ButtonStyleModel",
            "_view_module": "@jupyter-widgets/base",
            "_model_module_version": "1.5.0",
            "_view_count": null,
            "button_color": null,
            "font_weight": "",
            "_view_module_version": "1.2.0",
            "_model_module": "@jupyter-widgets/controls"
          }
        },
        "9bf02d2253a645919ff3c04721203220": {
          "model_module": "@jupyter-widgets/base",
          "model_name": "LayoutModel",
          "state": {
            "_view_name": "LayoutView",
            "grid_template_rows": null,
            "right": null,
            "justify_content": null,
            "_view_module": "@jupyter-widgets/base",
            "overflow": null,
            "_model_module_version": "1.2.0",
            "_view_count": null,
            "flex_flow": null,
            "width": null,
            "min_width": null,
            "border": null,
            "align_items": null,
            "bottom": null,
            "_model_module": "@jupyter-widgets/base",
            "top": null,
            "grid_column": null,
            "overflow_y": null,
            "overflow_x": null,
            "grid_auto_flow": null,
            "grid_area": null,
            "grid_template_columns": null,
            "flex": null,
            "_model_name": "LayoutModel",
            "justify_items": null,
            "grid_row": null,
            "max_height": null,
            "align_content": null,
            "visibility": null,
            "align_self": null,
            "height": null,
            "min_height": null,
            "padding": null,
            "grid_auto_rows": null,
            "grid_gap": null,
            "max_width": null,
            "order": null,
            "_view_module_version": "1.2.0",
            "grid_template_areas": null,
            "object_position": null,
            "object_fit": null,
            "grid_auto_columns": null,
            "margin": null,
            "display": null,
            "left": null
          }
        }
      }
    }
  },
  "cells": [
    {
      "cell_type": "markdown",
      "metadata": {
        "id": "view-in-github",
        "colab_type": "text"
      },
      "source": [
        "<a href=\"https://colab.research.google.com/github/TrynowPht/TPMachineLearning/blob/master/TP_MachinLearning.ipynb\" target=\"_parent\"><img src=\"https://colab.research.google.com/assets/colab-badge.svg\" alt=\"Open In Colab\"/></a>"
      ]
    },
    {
      "cell_type": "code",
      "metadata": {
        "id": "Oy03SXMmAoBQ",
        "cellView": "both"
      },
      "source": [
        "#@title Importación de Librerías\n",
        "import pandas as pd\n",
        "import missingno as msno\n",
        "import seaborn as sns\n",
        "import numpy as np\n",
        "import matplotlib.pyplot as plt\n",
        "from sklearn.impute import SimpleImputer\n",
        "from sklearn.preprocessing import MinMaxScaler\n",
        "from ipywidgets import FileUpload\n",
        "from sklearn.naive_bayes import MultinomialNB\n",
        "from sklearn.naive_bayes import GaussianNB\n",
        "from sklearn.metrics import classification_report\n",
        "from sklearn.model_selection import train_test_split\n",
        "from sklearn.model_selection import cross_val_score\n",
        "%matplotlib inline"
      ],
      "execution_count": 60,
      "outputs": []
    },
    {
      "cell_type": "markdown",
      "metadata": {
        "id": "ywKgX9qbAjTC"
      },
      "source": [
        "### Lectura de la Data"
      ]
    },
    {
      "cell_type": "code",
      "metadata": {
        "id": "pMRrANImBN4t",
        "outputId": "fce09fdf-e7c1-4395-ffe4-054975bd2e3c",
        "colab": {
          "base_uri": "https://localhost:8080/",
          "height": 49,
          "referenced_widgets": [
            "bac40f27a359479fa98450980ab670fb",
            "b02dad4d4d3746c7bbcad3ad1c84f517",
            "9bf02d2253a645919ff3c04721203220"
          ]
        }
      },
      "source": [
        "DataSet = FileUpload()\n",
        "DataSet"
      ],
      "execution_count": 32,
      "outputs": [
        {
          "output_type": "display_data",
          "data": {
            "application/vnd.jupyter.widget-view+json": {
              "model_id": "bac40f27a359479fa98450980ab670fb",
              "version_minor": 0,
              "version_major": 2
            },
            "text/plain": [
              "FileUpload(value={}, description='Upload')"
            ]
          },
          "metadata": {
            "tags": []
          }
        }
      ]
    },
    {
      "cell_type": "code",
      "metadata": {
        "id": "6b37JmnLEdyj",
        "outputId": "b77411b5-de82-434b-b03b-fbac4234dbc9",
        "colab": {
          "base_uri": "https://localhost:8080/",
          "height": 224
        }
      },
      "source": [
        "with open('datos_banco.csv', \"wb\") as fp:\n",
        "    fp.write(DataSet.data[0])\n",
        "df = pd.read_csv(\"datos_banco.csv\", engine='python')\n",
        "df.head(5)"
      ],
      "execution_count": 124,
      "outputs": [
        {
          "output_type": "execute_result",
          "data": {
            "text/html": [
              "<div>\n",
              "<style scoped>\n",
              "    .dataframe tbody tr th:only-of-type {\n",
              "        vertical-align: middle;\n",
              "    }\n",
              "\n",
              "    .dataframe tbody tr th {\n",
              "        vertical-align: top;\n",
              "    }\n",
              "\n",
              "    .dataframe thead th {\n",
              "        text-align: right;\n",
              "    }\n",
              "</style>\n",
              "<table border=\"1\" class=\"dataframe\">\n",
              "  <thead>\n",
              "    <tr style=\"text-align: right;\">\n",
              "      <th></th>\n",
              "      <th>idPrestamo</th>\n",
              "      <th>target</th>\n",
              "      <th>monthly_debt_capacity</th>\n",
              "      <th>var_employment_time_in_months</th>\n",
              "      <th>approved_amount</th>\n",
              "      <th>approved_term</th>\n",
              "      <th>approved_interest_amount</th>\n",
              "      <th>var_net_income</th>\n",
              "      <th>person_gender</th>\n",
              "      <th>credit_history_marital_status</th>\n",
              "      <th>var_max_sbs_qual_12m</th>\n",
              "      <th>person_degree_type_desc</th>\n",
              "      <th>default_request_term</th>\n",
              "      <th>default_request_amount</th>\n",
              "    </tr>\n",
              "  </thead>\n",
              "  <tbody>\n",
              "    <tr>\n",
              "      <th>0</th>\n",
              "      <td>LIBDISP9832897855</td>\n",
              "      <td>1</td>\n",
              "      <td>252.39</td>\n",
              "      <td>9.0</td>\n",
              "      <td>1,200</td>\n",
              "      <td>6</td>\n",
              "      <td>289.11</td>\n",
              "      <td>1140.125000</td>\n",
              "      <td>MALE</td>\n",
              "      <td>C</td>\n",
              "      <td>NORMAL</td>\n",
              "      <td>Secundaria</td>\n",
              "      <td>1</td>\n",
              "      <td>0</td>\n",
              "    </tr>\n",
              "    <tr>\n",
              "      <th>1</th>\n",
              "      <td>LIBDISP9021501745</td>\n",
              "      <td>1</td>\n",
              "      <td>244.57</td>\n",
              "      <td>50.0</td>\n",
              "      <td>2,200</td>\n",
              "      <td>12</td>\n",
              "      <td>696.15</td>\n",
              "      <td>1061.375000</td>\n",
              "      <td>FEMALE</td>\n",
              "      <td>S</td>\n",
              "      <td>NORMAL</td>\n",
              "      <td>Secundaria</td>\n",
              "      <td>0</td>\n",
              "      <td>0</td>\n",
              "    </tr>\n",
              "    <tr>\n",
              "      <th>2</th>\n",
              "      <td>LIBDISP4057314971</td>\n",
              "      <td>0</td>\n",
              "      <td>491.5</td>\n",
              "      <td>64.0</td>\n",
              "      <td>1,000</td>\n",
              "      <td>3</td>\n",
              "      <td>84.99</td>\n",
              "      <td>2082.196667</td>\n",
              "      <td>FEMALE</td>\n",
              "      <td>S</td>\n",
              "      <td>NORMAL</td>\n",
              "      <td>Secundaria</td>\n",
              "      <td>0</td>\n",
              "      <td>0</td>\n",
              "    </tr>\n",
              "    <tr>\n",
              "      <th>3</th>\n",
              "      <td>LIBDISP8375185888</td>\n",
              "      <td>0</td>\n",
              "      <td>848.65</td>\n",
              "      <td>77.0</td>\n",
              "      <td>1,500</td>\n",
              "      <td>6</td>\n",
              "      <td>221.53</td>\n",
              "      <td>3422.423333</td>\n",
              "      <td>MALE</td>\n",
              "      <td>S</td>\n",
              "      <td>NORMAL</td>\n",
              "      <td>Universitaria</td>\n",
              "      <td>0</td>\n",
              "      <td>0</td>\n",
              "    </tr>\n",
              "    <tr>\n",
              "      <th>4</th>\n",
              "      <td>LIBDISP9694463037</td>\n",
              "      <td>0</td>\n",
              "      <td>470.52</td>\n",
              "      <td>82.0</td>\n",
              "      <td>1,000</td>\n",
              "      <td>3</td>\n",
              "      <td>91.34</td>\n",
              "      <td>1882.090000</td>\n",
              "      <td>FEMALE</td>\n",
              "      <td>S</td>\n",
              "      <td>NORMAL</td>\n",
              "      <td>Universitaria</td>\n",
              "      <td>1</td>\n",
              "      <td>0</td>\n",
              "    </tr>\n",
              "  </tbody>\n",
              "</table>\n",
              "</div>"
            ],
            "text/plain": [
              "          idPrestamo  target  ... default_request_term  default_request_amount\n",
              "0  LIBDISP9832897855       1  ...                    1                       0\n",
              "1  LIBDISP9021501745       1  ...                    0                       0\n",
              "2  LIBDISP4057314971       0  ...                    0                       0\n",
              "3  LIBDISP8375185888       0  ...                    0                       0\n",
              "4  LIBDISP9694463037       0  ...                    1                       0\n",
              "\n",
              "[5 rows x 14 columns]"
            ]
          },
          "metadata": {
            "tags": []
          },
          "execution_count": 124
        }
      ]
    },
    {
      "cell_type": "markdown",
      "metadata": {
        "id": "mC1BW5miKFjh"
      },
      "source": [
        "La data a utilizar es un dataframe, es decir, un conjunto de datos organizados en estructuras rectangulares en forma de tabla o matriz, el cual contiene distintos tipos de datos y están organizados por columnas con su atributo correspondiente. Considerando esto podemos decir que la data es de tipo estructurada."
      ]
    },
    {
      "cell_type": "markdown",
      "metadata": {
        "id": "O8iDBh85umDx"
      },
      "source": [
        "## 1. Análisis Exploratorio"
      ]
    },
    {
      "cell_type": "markdown",
      "metadata": {
        "id": "J8hukOUUj2uC"
      },
      "source": [
        "### 1.1 Cantidad de variables y atributos"
      ]
    },
    {
      "cell_type": "code",
      "metadata": {
        "id": "fRbZm3TzHvaY",
        "outputId": "f1a75f28-d02c-4af6-b3aa-1a95dc4593b1",
        "colab": {
          "base_uri": "https://localhost:8080/",
          "height": 51
        }
      },
      "source": [
        "print('Cantidad de instancias:',df.shape[0])\n",
        "print('Cantidad de atributos:',df.shape[1])"
      ],
      "execution_count": 125,
      "outputs": [
        {
          "output_type": "stream",
          "text": [
            "Cantidad de instancias: 1719\n",
            "Cantidad de atributos: 14\n"
          ],
          "name": "stdout"
        }
      ]
    },
    {
      "cell_type": "markdown",
      "metadata": {
        "id": "ib9aOa2rSLnE"
      },
      "source": [
        "### 1.2 Valores nulos\n",
        "\n",
        "En el siguiente gráfico podemos ver la existencia de valores nulos a lo largo de cada instancia, como resultado podemos observar que solo el atributo ***var_employment_time_in_month*** contiene valores nulos."
      ]
    },
    {
      "cell_type": "code",
      "metadata": {
        "id": "2gvUvvwym3Fs",
        "outputId": "7221f527-2bed-4957-d10f-8040a2d8d2b5",
        "colab": {
          "base_uri": "https://localhost:8080/",
          "height": 470
        }
      },
      "source": [
        "msno.matrix(df, figsize=(10,4));"
      ],
      "execution_count": 126,
      "outputs": [
        {
          "output_type": "display_data",
          "data": {
            "image/png": "[encoded data removed]",
            "text/plain": [
              "<Figure size 720x288 with 2 Axes>"
            ]
          },
          "metadata": {
            "tags": [],
            "needs_background": "light"
          }
        }
      ]
    },
    {
      "cell_type": "code",
      "metadata": {
        "id": "3S1rLaAqAP6B",
        "outputId": "fe1f70fc-636c-4932-add3-a2d1d09b42fa",
        "colab": {
          "base_uri": "https://localhost:8080/",
          "height": 848
        }
      },
      "source": [
        "msno.bar(df) "
      ],
      "execution_count": 127,
      "outputs": [
        {
          "output_type": "execute_result",
          "data": {
            "text/plain": [
              "<matplotlib.axes._subplots.AxesSubplot at 0x7f1a9937cdd8>"
            ]
          },
          "metadata": {
            "tags": []
          },
          "execution_count": 127
        },
        {
          "output_type": "display_data",
          "data": {
            "image/png": "[encoded data removed]",
            "text/plain": [
              "<Figure size 1728x720 with 3 Axes>"
            ]
          },
          "metadata": {
            "tags": [],
            "needs_background": "light"
          }
        }
      ]
    },
    {
      "cell_type": "markdown",
      "metadata": {
        "id": "r6LX0yPImhFi"
      },
      "source": [
        "Obtenemos la cantidad exacta de valores nulos en el dataframe, podemos concluir que la proporción de datos nulos es bastante ***reducida***."
      ]
    },
    {
      "cell_type": "code",
      "metadata": {
        "id": "o1mzvLogmd2Z",
        "outputId": "d609079a-8761-4b57-cb9a-72f2183e4bef",
        "colab": {
          "base_uri": "https://localhost:8080/",
          "height": 272
        }
      },
      "source": [
        "df.isna().sum()"
      ],
      "execution_count": 128,
      "outputs": [
        {
          "output_type": "execute_result",
          "data": {
            "text/plain": [
              "idPrestamo                         0\n",
              "target                             0\n",
              "monthly_debt_capacity              0\n",
              "var_employment_time_in_months    200\n",
              "approved_amount                    0\n",
              "approved_term                      0\n",
              "approved_interest_amount           0\n",
              "var_net_income                     0\n",
              "person_gender                      0\n",
              "credit_history_marital_status      0\n",
              "var_max_sbs_qual_12m               0\n",
              "person_degree_type_desc            0\n",
              "default_request_term               0\n",
              "default_request_amount             0\n",
              "dtype: int64"
            ]
          },
          "metadata": {
            "tags": []
          },
          "execution_count": 128
        }
      ]
    },
    {
      "cell_type": "markdown",
      "metadata": {
        "id": "T9tEVjsgjwKV"
      },
      "source": [
        "### 1.3 Atributos\n",
        "\n",
        "A continuación, podemos observar la lista de atributos del dataset, junto con su tipo de dato. Además, podemos determinar el conjunto de atributos que podrían aportar valor significativo a nuestro modelo y aquellos que no.\n",
        "\n"
      ]
    },
    {
      "cell_type": "code",
      "metadata": {
        "id": "mvzbyVOMcUbP",
        "outputId": "8eacf239-fed6-46d0-ecce-12aeae83ff62",
        "colab": {
          "base_uri": "https://localhost:8080/",
          "height": 272
        }
      },
      "source": [
        "df.dtypes"
      ],
      "execution_count": 129,
      "outputs": [
        {
          "output_type": "execute_result",
          "data": {
            "text/plain": [
              "idPrestamo                        object\n",
              "target                             int64\n",
              "monthly_debt_capacity             object\n",
              "var_employment_time_in_months    float64\n",
              "approved_amount                   object\n",
              "approved_term                      int64\n",
              "approved_interest_amount          object\n",
              "var_net_income                   float64\n",
              "person_gender                     object\n",
              "credit_history_marital_status     object\n",
              "var_max_sbs_qual_12m              object\n",
              "person_degree_type_desc           object\n",
              "default_request_term               int64\n",
              "default_request_amount             int64\n",
              "dtype: object"
            ]
          },
          "metadata": {
            "tags": []
          },
          "execution_count": 129
        }
      ]
    },
    {
      "cell_type": "markdown",
      "metadata": {
        "id": "UJ4biUp620qv"
      },
      "source": [
        "Podemos observar además que variables con tipos de dato que no corresponden al valor que se muestra en el dataframe. Tal es el caso de **monthly_debt_capacity**, **approved_amount** y **approved_interest_amount**"
      ]
    },
    {
      "cell_type": "code",
      "metadata": {
        "id": "mqTw9nMhl2ge",
        "outputId": "92293bb5-2443-4be5-de7a-39984d31df51",
        "colab": {
          "base_uri": "https://localhost:8080/",
          "height": 297
        }
      },
      "source": [
        "df.describe()"
      ],
      "execution_count": 130,
      "outputs": [
        {
          "output_type": "execute_result",
          "data": {
            "text/html": [
              "<div>\n",
              "<style scoped>\n",
              "    .dataframe tbody tr th:only-of-type {\n",
              "        vertical-align: middle;\n",
              "    }\n",
              "\n",
              "    .dataframe tbody tr th {\n",
              "        vertical-align: top;\n",
              "    }\n",
              "\n",
              "    .dataframe thead th {\n",
              "        text-align: right;\n",
              "    }\n",
              "</style>\n",
              "<table border=\"1\" class=\"dataframe\">\n",
              "  <thead>\n",
              "    <tr style=\"text-align: right;\">\n",
              "      <th></th>\n",
              "      <th>target</th>\n",
              "      <th>var_employment_time_in_months</th>\n",
              "      <th>approved_term</th>\n",
              "      <th>var_net_income</th>\n",
              "      <th>default_request_term</th>\n",
              "      <th>default_request_amount</th>\n",
              "    </tr>\n",
              "  </thead>\n",
              "  <tbody>\n",
              "    <tr>\n",
              "      <th>count</th>\n",
              "      <td>1719.000000</td>\n",
              "      <td>1519.000000</td>\n",
              "      <td>1719.000000</td>\n",
              "      <td>1719.000000</td>\n",
              "      <td>1719.000000</td>\n",
              "      <td>1719.0</td>\n",
              "    </tr>\n",
              "    <tr>\n",
              "      <th>mean</th>\n",
              "      <td>0.295521</td>\n",
              "      <td>33.979592</td>\n",
              "      <td>6.464805</td>\n",
              "      <td>2693.545884</td>\n",
              "      <td>0.507853</td>\n",
              "      <td>0.0</td>\n",
              "    </tr>\n",
              "    <tr>\n",
              "      <th>std</th>\n",
              "      <td>0.456409</td>\n",
              "      <td>26.889423</td>\n",
              "      <td>3.009842</td>\n",
              "      <td>1825.694773</td>\n",
              "      <td>0.500084</td>\n",
              "      <td>0.0</td>\n",
              "    </tr>\n",
              "    <tr>\n",
              "      <th>min</th>\n",
              "      <td>0.000000</td>\n",
              "      <td>-1.000000</td>\n",
              "      <td>1.000000</td>\n",
              "      <td>0.000000</td>\n",
              "      <td>0.000000</td>\n",
              "      <td>0.0</td>\n",
              "    </tr>\n",
              "    <tr>\n",
              "      <th>25%</th>\n",
              "      <td>0.000000</td>\n",
              "      <td>11.000000</td>\n",
              "      <td>6.000000</td>\n",
              "      <td>1750.000000</td>\n",
              "      <td>0.000000</td>\n",
              "      <td>0.0</td>\n",
              "    </tr>\n",
              "    <tr>\n",
              "      <th>50%</th>\n",
              "      <td>0.000000</td>\n",
              "      <td>26.000000</td>\n",
              "      <td>6.000000</td>\n",
              "      <td>2373.758333</td>\n",
              "      <td>1.000000</td>\n",
              "      <td>0.0</td>\n",
              "    </tr>\n",
              "    <tr>\n",
              "      <th>75%</th>\n",
              "      <td>1.000000</td>\n",
              "      <td>61.000000</td>\n",
              "      <td>6.000000</td>\n",
              "      <td>3075.133333</td>\n",
              "      <td>1.000000</td>\n",
              "      <td>0.0</td>\n",
              "    </tr>\n",
              "    <tr>\n",
              "      <th>max</th>\n",
              "      <td>1.000000</td>\n",
              "      <td>87.000000</td>\n",
              "      <td>12.000000</td>\n",
              "      <td>28587.000000</td>\n",
              "      <td>1.000000</td>\n",
              "      <td>0.0</td>\n",
              "    </tr>\n",
              "  </tbody>\n",
              "</table>\n",
              "</div>"
            ],
            "text/plain": [
              "            target  ...  default_request_amount\n",
              "count  1719.000000  ...                  1719.0\n",
              "mean      0.295521  ...                     0.0\n",
              "std       0.456409  ...                     0.0\n",
              "min       0.000000  ...                     0.0\n",
              "25%       0.000000  ...                     0.0\n",
              "50%       0.000000  ...                     0.0\n",
              "75%       1.000000  ...                     0.0\n",
              "max       1.000000  ...                     0.0\n",
              "\n",
              "[8 rows x 6 columns]"
            ]
          },
          "metadata": {
            "tags": []
          },
          "execution_count": 130
        }
      ]
    },
    {
      "cell_type": "markdown",
      "metadata": {
        "id": "rCrajtiQHo1z"
      },
      "source": [
        "### 1.4. Atributos categóricos\n",
        "\n",
        "El dataset contiene 3 atributos categóricos (***credit_history_marital_status***\t***var_max_sbs_qual_12m*** y\t***person_degree_type_desc***). Haremos un análisis exploratorio en ellos con la finalidad de descubrir particularidades."
      ]
    },
    {
      "cell_type": "code",
      "metadata": {
        "id": "aP9_QskXxZ3z",
        "outputId": "aef3e980-56ae-4e13-cbb7-818f62696a12",
        "colab": {
          "base_uri": "https://localhost:8080/",
          "height": 607
        }
      },
      "source": [
        "df.hist(figsize=(10,10));"
      ],
      "execution_count": 131,
      "outputs": [
        {
          "output_type": "display_data",
          "data": {
            "image/png": "[encoded data removed]",
            "text/plain": [
              "<Figure size 720x720 with 6 Axes>"
            ]
          },
          "metadata": {
            "tags": [],
            "needs_background": "light"
          }
        }
      ]
    },
    {
      "cell_type": "code",
      "metadata": {
        "id": "pcLL06C7Hs_9",
        "outputId": "08c42dac-64ff-40fb-e0bc-6cef2a2f5c63",
        "colab": {
          "base_uri": "https://localhost:8080/",
          "height": 429
        }
      },
      "source": [
        "atrib_cat = ['credit_history_marital_status', 'var_max_sbs_qual_12m', 'person_degree_type_desc']\n",
        "\n",
        "fig, ax = plt.subplots(1, len(atrib_cat), figsize=(10,5))\n",
        "for i, categorical_feature in enumerate(df[atrib_cat]):\n",
        "    df[categorical_feature].value_counts().plot(kind='bar', ax=ax[i]).set_title(categorical_feature)\n",
        "fig.show()"
      ],
      "execution_count": 132,
      "outputs": [
        {
          "output_type": "display_data",
          "data": {
            "image/png": "[encoded data removed]",
            "text/plain": [
              "<Figure size 720x360 with 3 Axes>"
            ]
          },
          "metadata": {
            "tags": [],
            "needs_background": "light"
          }
        }
      ]
    },
    {
      "cell_type": "markdown",
      "metadata": {
        "id": "0C482A6v2i5s"
      },
      "source": [
        "En el gráfico de barras anterior, podemos visualizar que la *categoría carrera* técnica del atributo ***person_degree_type_desc*** se repite varias veces con nombres similares, por lo que deberemos reemplazar en una sola y unir los registro que presente dicha categoría."
      ]
    },
    {
      "cell_type": "code",
      "metadata": {
        "id": "h6dpdei12Jmh",
        "outputId": "3b5c187d-7c2c-4aad-fad0-fac7f028dcf7",
        "colab": {
          "base_uri": "https://localhost:8080/",
          "height": 443
        }
      },
      "source": [
        "df.plot(kind='box', subplots = True, layout=(4,4), figsize=(15,15));"
      ],
      "execution_count": 133,
      "outputs": [
        {
          "output_type": "display_data",
          "data": {
            "image/png": "[encoded data removed]",
            "text/plain": [
              "<Figure size 1080x1080 with 16 Axes>"
            ]
          },
          "metadata": {
            "tags": [],
            "needs_background": "light"
          }
        }
      ]
    },
    {
      "cell_type": "markdown",
      "metadata": {
        "id": "i7kTwIKN2N2q"
      },
      "source": [
        "Con estos gráficos de cajas podemos analizar los outlaiers respecto a cada atributo y si es necesario ralizar alguna eliminación de registros"
      ]
    },
    {
      "cell_type": "markdown",
      "metadata": {
        "id": "-5LNcOWghTrs"
      },
      "source": [
        "### 1.5 Atributo Clase\n",
        " \n",
        "En el siguiente gráfico podemos observar la proporción de instancias del atributo clase del dataset (***target***)"
      ]
    },
    {
      "cell_type": "code",
      "metadata": {
        "id": "awHuv-UxdPwE",
        "outputId": "ac67a426-ed7e-4d29-e7c7-ef5bacd49478",
        "colab": {
          "base_uri": "https://localhost:8080/",
          "height": 303
        }
      },
      "source": [
        "df.groupby(['target']).size().plot(kind='pie', legend=True, figsize = (5,5), labels=['0 (No mora)', '1 (Mora)'], autopct='%1.1f%%', shadow=True, textprops={'color':\"w\", 'weight':\"bold\"});"
      ],
      "execution_count": 134,
      "outputs": [
        {
          "output_type": "display_data",
          "data": {
            "image/png": "[encoded data removed]",
            "text/plain": [
              "<Figure size 360x360 with 1 Axes>"
            ]
          },
          "metadata": {
            "tags": []
          }
        }
      ]
    },
    {
      "cell_type": "markdown",
      "metadata": {
        "id": "lc7Y1rNzN5Dy"
      },
      "source": [
        "### 1.6. Registros duplicados\n",
        "Para el análisis de data duplicada utilizaremos **duplicated().sum()** el cual nos permitirá identificar si existen registros que tienen los mismo atributos que otro dentro del mismo dataframe.\n"
      ]
    },
    {
      "cell_type": "code",
      "metadata": {
        "id": "dQH1diMLOCxs",
        "outputId": "efbefdf7-4e27-47d6-d72b-7c7afdc39adb",
        "colab": {
          "base_uri": "https://localhost:8080/",
          "height": 34
        }
      },
      "source": [
        "df.duplicated().sum()"
      ],
      "execution_count": 135,
      "outputs": [
        {
          "output_type": "execute_result",
          "data": {
            "text/plain": [
              "0"
            ]
          },
          "metadata": {
            "tags": []
          },
          "execution_count": 135
        }
      ]
    },
    {
      "cell_type": "markdown",
      "metadata": {
        "id": "3avinPIRJllB"
      },
      "source": [
        "## 2. Tratamiento de Datos\n",
        "\n",
        "\n"
      ]
    },
    {
      "cell_type": "markdown",
      "metadata": {
        "id": "U9jAGOa43qWn"
      },
      "source": [
        "### 2.1. Cast de Atributos\n",
        "\n",
        "Como podemos ver, muchas de las *variables* continen *valores numéricos*; ***sin embargo***, algunas de ellas (***monthly_deb_capacity***, ***approved_amounts***, ***approved_interest_amount***) no son reconocidas como tal en el entorno de ejecución. Por ello, se hará un *cast* de dichos valores"
      ]
    },
    {
      "cell_type": "code",
      "metadata": {
        "id": "JZ6SCSG23pzb"
      },
      "source": [
        "atribs_obj = ['monthly_debt_capacity', 'approved_amount', 'approved_interest_amount']\n",
        "\n",
        "for atrib in atribs_obj:\n",
        "  df[atrib] = df[atrib].str.replace(',', '', regex=True)\n",
        "  df[atrib] = pd.to_numeric(df[atrib], downcast=\"float\")"
      ],
      "execution_count": 136,
      "outputs": []
    },
    {
      "cell_type": "code",
      "metadata": {
        "id": "SDuNc4AU5QQT",
        "outputId": "1384f119-c12a-4729-8341-c6db81ed5610",
        "colab": {
          "base_uri": "https://localhost:8080/",
          "height": 272
        }
      },
      "source": [
        "df.dtypes"
      ],
      "execution_count": 137,
      "outputs": [
        {
          "output_type": "execute_result",
          "data": {
            "text/plain": [
              "idPrestamo                        object\n",
              "target                             int64\n",
              "monthly_debt_capacity            float32\n",
              "var_employment_time_in_months    float64\n",
              "approved_amount                  float32\n",
              "approved_term                      int64\n",
              "approved_interest_amount         float32\n",
              "var_net_income                   float64\n",
              "person_gender                     object\n",
              "credit_history_marital_status     object\n",
              "var_max_sbs_qual_12m              object\n",
              "person_degree_type_desc           object\n",
              "default_request_term               int64\n",
              "default_request_amount             int64\n",
              "dtype: object"
            ]
          },
          "metadata": {
            "tags": []
          },
          "execution_count": 137
        }
      ]
    },
    {
      "cell_type": "markdown",
      "metadata": {
        "id": "CbFaPzqH5Tt4"
      },
      "source": [
        "Como podemos observar, los tipos de datos han sido convertidos a float para su manejabilidad"
      ]
    },
    {
      "cell_type": "markdown",
      "metadata": {
        "id": "s8xdPwWL6YNW"
      },
      "source": [
        "### 2.2. Descartando atributos\n",
        "\n",
        "Luego del análisis de variables, podemos descartar algunas que no aportarían valor a nuestro modelo. Estas son:\n",
        "\n",
        "1.   **idPrestamo**: Identificador de Préstamo\n",
        "2.   **person_gender**: Género de la persona que solicito el préstamo\n",
        "3. **default_request_amount**: Si escogio el monto de dinero ofrecido (según muestra el histograma anterior, todos los valores son 0)\n"
      ]
    },
    {
      "cell_type": "code",
      "metadata": {
        "id": "GPmjq4Ph59Up"
      },
      "source": [
        "df = df.drop([\"idPrestamo\", \"person_gender\", \"default_request_amount\"], axis=1)"
      ],
      "execution_count": 138,
      "outputs": []
    },
    {
      "cell_type": "code",
      "metadata": {
        "id": "GPRf2_fn5p5o",
        "outputId": "4529af3f-9f10-48f3-ed8c-ccf95bd9e3e4",
        "colab": {
          "base_uri": "https://localhost:8080/",
          "height": 34
        }
      },
      "source": [
        "df.columns.shape[0]"
      ],
      "execution_count": 139,
      "outputs": [
        {
          "output_type": "execute_result",
          "data": {
            "text/plain": [
              "11"
            ]
          },
          "metadata": {
            "tags": []
          },
          "execution_count": 139
        }
      ]
    },
    {
      "cell_type": "markdown",
      "metadata": {
        "id": "LusLRjAA5twK"
      },
      "source": [
        "**df.columns.shape[0]** nos indica la cantidad de atributos actuales. Ya que se eliminaron tres columnas del dataframe obtenemos como resultado 11 (anteriormente 14 columnas)"
      ]
    },
    {
      "cell_type": "markdown",
      "metadata": {
        "id": "Gis4u1ZDssxW"
      },
      "source": [
        "### 2.3. Corrección de Carrera Ténica\n",
        "Tomando en referencia el análisis realizado en la sección 1.4. de atributos categóricos, debemos de realizar la corrección en cuestión"
      ]
    },
    {
      "cell_type": "code",
      "metadata": {
        "id": "yx2XelrNIKFh"
      },
      "source": [
        "df[\"person_degree_type_desc\"] = np.where(df[\"person_degree_type_desc\"].str.contains('Carrera'), 'Carrera Tecnica', df[\"person_degree_type_desc\"])"
      ],
      "execution_count": 140,
      "outputs": []
    },
    {
      "cell_type": "code",
      "metadata": {
        "id": "AB2-caWQ0pkm",
        "outputId": "9a993e2e-f275-4482-d0cc-94bd18360326",
        "colab": {
          "base_uri": "https://localhost:8080/",
          "height": 348
        }
      },
      "source": [
        "df['person_degree_type_desc'].value_counts().plot(kind='bar').set_title('person_degree_type_desc')\n",
        "plt.show()"
      ],
      "execution_count": 141,
      "outputs": [
        {
          "output_type": "display_data",
          "data": {
            "image/png": "[encoded data removed]",
            "text/plain": [
              "<Figure size 432x288 with 1 Axes>"
            ]
          },
          "metadata": {
            "tags": [],
            "needs_background": "light"
          }
        }
      ]
    },
    {
      "cell_type": "markdown",
      "metadata": {
        "id": "eEqzk9o1xeoL"
      },
      "source": [
        "Podemos obserbar que ahora sí solo existe una sola categoría Carrera Técnica que engobla las categorías con errores"
      ]
    },
    {
      "cell_type": "markdown",
      "metadata": {
        "id": "E6Uy0X2l0VSm"
      },
      "source": [
        "### 2.4. Conversión de Atributos categóricos\n",
        "\n",
        "Para convertir los atributos categóricos utilizaremos ***One Hot Encoding***, al ser reemplazados con este algoritmo, serán eliminados del dataset."
      ]
    },
    {
      "cell_type": "code",
      "metadata": {
        "id": "C4kuaOdIIPYD",
        "outputId": "39414cba-cda9-4a6a-c8c5-95e8db7c26d9",
        "colab": {
          "base_uri": "https://localhost:8080/",
          "height": 241
        }
      },
      "source": [
        "atribs_prefix = ['chm', 'vms', 'pdt']\n",
        "\n",
        "# One Hot Encoding\n",
        "for prefixs, atrib in zip(atribs_prefix, atrib_cat):\n",
        "  ohe = pd.get_dummies(df[atrib], prefix=prefixs)\n",
        "  df = pd.concat([df, ohe], axis = 1)\n",
        "\n",
        "# Eliminando atributos\n",
        "for atrib in atrib_cat:\n",
        "  df = df.drop(columns=[atrib])\n",
        "\n",
        "df.head(5)"
      ],
      "execution_count": 142,
      "outputs": [
        {
          "output_type": "execute_result",
          "data": {
            "text/html": [
              "<div>\n",
              "<style scoped>\n",
              "    .dataframe tbody tr th:only-of-type {\n",
              "        vertical-align: middle;\n",
              "    }\n",
              "\n",
              "    .dataframe tbody tr th {\n",
              "        vertical-align: top;\n",
              "    }\n",
              "\n",
              "    .dataframe thead th {\n",
              "        text-align: right;\n",
              "    }\n",
              "</style>\n",
              "<table border=\"1\" class=\"dataframe\">\n",
              "  <thead>\n",
              "    <tr style=\"text-align: right;\">\n",
              "      <th></th>\n",
              "      <th>target</th>\n",
              "      <th>monthly_debt_capacity</th>\n",
              "      <th>var_employment_time_in_months</th>\n",
              "      <th>approved_amount</th>\n",
              "      <th>approved_term</th>\n",
              "      <th>approved_interest_amount</th>\n",
              "      <th>var_net_income</th>\n",
              "      <th>default_request_term</th>\n",
              "      <th>chm_C</th>\n",
              "      <th>chm_D</th>\n",
              "      <th>chm_S</th>\n",
              "      <th>chm_V</th>\n",
              "      <th>vms_CPP</th>\n",
              "      <th>vms_DEFICIENTE</th>\n",
              "      <th>vms_DUDOSO</th>\n",
              "      <th>vms_NORMAL</th>\n",
              "      <th>vms_PERDIDA</th>\n",
              "      <th>pdt_Carrera Tecnica</th>\n",
              "      <th>pdt_Postgrado</th>\n",
              "      <th>pdt_Primaria</th>\n",
              "      <th>pdt_Secundaria</th>\n",
              "      <th>pdt_Universitaria</th>\n",
              "    </tr>\n",
              "  </thead>\n",
              "  <tbody>\n",
              "    <tr>\n",
              "      <th>0</th>\n",
              "      <td>1</td>\n",
              "      <td>252.389999</td>\n",
              "      <td>9.0</td>\n",
              "      <td>1200.0</td>\n",
              "      <td>6</td>\n",
              "      <td>289.109985</td>\n",
              "      <td>1140.125000</td>\n",
              "      <td>1</td>\n",
              "      <td>1</td>\n",
              "      <td>0</td>\n",
              "      <td>0</td>\n",
              "      <td>0</td>\n",
              "      <td>0</td>\n",
              "      <td>0</td>\n",
              "      <td>0</td>\n",
              "      <td>1</td>\n",
              "      <td>0</td>\n",
              "      <td>0</td>\n",
              "      <td>0</td>\n",
              "      <td>0</td>\n",
              "      <td>1</td>\n",
              "      <td>0</td>\n",
              "    </tr>\n",
              "    <tr>\n",
              "      <th>1</th>\n",
              "      <td>1</td>\n",
              "      <td>244.570007</td>\n",
              "      <td>50.0</td>\n",
              "      <td>2200.0</td>\n",
              "      <td>12</td>\n",
              "      <td>696.150024</td>\n",
              "      <td>1061.375000</td>\n",
              "      <td>0</td>\n",
              "      <td>0</td>\n",
              "      <td>0</td>\n",
              "      <td>1</td>\n",
              "      <td>0</td>\n",
              "      <td>0</td>\n",
              "      <td>0</td>\n",
              "      <td>0</td>\n",
              "      <td>1</td>\n",
              "      <td>0</td>\n",
              "      <td>0</td>\n",
              "      <td>0</td>\n",
              "      <td>0</td>\n",
              "      <td>1</td>\n",
              "      <td>0</td>\n",
              "    </tr>\n",
              "    <tr>\n",
              "      <th>2</th>\n",
              "      <td>0</td>\n",
              "      <td>491.500000</td>\n",
              "      <td>64.0</td>\n",
              "      <td>1000.0</td>\n",
              "      <td>3</td>\n",
              "      <td>84.989998</td>\n",
              "      <td>2082.196667</td>\n",
              "      <td>0</td>\n",
              "      <td>0</td>\n",
              "      <td>0</td>\n",
              "      <td>1</td>\n",
              "      <td>0</td>\n",
              "      <td>0</td>\n",
              "      <td>0</td>\n",
              "      <td>0</td>\n",
              "      <td>1</td>\n",
              "      <td>0</td>\n",
              "      <td>0</td>\n",
              "      <td>0</td>\n",
              "      <td>0</td>\n",
              "      <td>1</td>\n",
              "      <td>0</td>\n",
              "    </tr>\n",
              "    <tr>\n",
              "      <th>3</th>\n",
              "      <td>0</td>\n",
              "      <td>848.650024</td>\n",
              "      <td>77.0</td>\n",
              "      <td>1500.0</td>\n",
              "      <td>6</td>\n",
              "      <td>221.529999</td>\n",
              "      <td>3422.423333</td>\n",
              "      <td>0</td>\n",
              "      <td>0</td>\n",
              "      <td>0</td>\n",
              "      <td>1</td>\n",
              "      <td>0</td>\n",
              "      <td>0</td>\n",
              "      <td>0</td>\n",
              "      <td>0</td>\n",
              "      <td>1</td>\n",
              "      <td>0</td>\n",
              "      <td>0</td>\n",
              "      <td>0</td>\n",
              "      <td>0</td>\n",
              "      <td>0</td>\n",
              "      <td>1</td>\n",
              "    </tr>\n",
              "    <tr>\n",
              "      <th>4</th>\n",
              "      <td>0</td>\n",
              "      <td>470.519989</td>\n",
              "      <td>82.0</td>\n",
              "      <td>1000.0</td>\n",
              "      <td>3</td>\n",
              "      <td>91.339996</td>\n",
              "      <td>1882.090000</td>\n",
              "      <td>1</td>\n",
              "      <td>0</td>\n",
              "      <td>0</td>\n",
              "      <td>1</td>\n",
              "      <td>0</td>\n",
              "      <td>0</td>\n",
              "      <td>0</td>\n",
              "      <td>0</td>\n",
              "      <td>1</td>\n",
              "      <td>0</td>\n",
              "      <td>0</td>\n",
              "      <td>0</td>\n",
              "      <td>0</td>\n",
              "      <td>0</td>\n",
              "      <td>1</td>\n",
              "    </tr>\n",
              "  </tbody>\n",
              "</table>\n",
              "</div>"
            ],
            "text/plain": [
              "   target  monthly_debt_capacity  ...  pdt_Secundaria  pdt_Universitaria\n",
              "0       1             252.389999  ...               1                  0\n",
              "1       1             244.570007  ...               1                  0\n",
              "2       0             491.500000  ...               1                  0\n",
              "3       0             848.650024  ...               0                  1\n",
              "4       0             470.519989  ...               0                  1\n",
              "\n",
              "[5 rows x 22 columns]"
            ]
          },
          "metadata": {
            "tags": []
          },
          "execution_count": 142
        }
      ]
    },
    {
      "cell_type": "code",
      "metadata": {
        "id": "X3hapLWP7gx2",
        "outputId": "c65e647e-af3d-4c15-c7d4-5358ed64696c",
        "colab": {
          "base_uri": "https://localhost:8080/",
          "height": 425
        }
      },
      "source": [
        "print('Nueva cantidad de atributos:',df.shape[1])\n",
        "print(df.dtypes)"
      ],
      "execution_count": 143,
      "outputs": [
        {
          "output_type": "stream",
          "text": [
            "Nueva cantidad de atributos: 22\n",
            "target                             int64\n",
            "monthly_debt_capacity            float32\n",
            "var_employment_time_in_months    float64\n",
            "approved_amount                  float32\n",
            "approved_term                      int64\n",
            "approved_interest_amount         float32\n",
            "var_net_income                   float64\n",
            "default_request_term               int64\n",
            "chm_C                              uint8\n",
            "chm_D                              uint8\n",
            "chm_S                              uint8\n",
            "chm_V                              uint8\n",
            "vms_CPP                            uint8\n",
            "vms_DEFICIENTE                     uint8\n",
            "vms_DUDOSO                         uint8\n",
            "vms_NORMAL                         uint8\n",
            "vms_PERDIDA                        uint8\n",
            "pdt_Carrera Tecnica                uint8\n",
            "pdt_Postgrado                      uint8\n",
            "pdt_Primaria                       uint8\n",
            "pdt_Secundaria                     uint8\n",
            "pdt_Universitaria                  uint8\n",
            "dtype: object\n"
          ],
          "name": "stdout"
        }
      ]
    },
    {
      "cell_type": "markdown",
      "metadata": {
        "id": "O48mT74ZPFFU"
      },
      "source": [
        "Como podemos observar, la cantidad de atributos aumentan (columnas) a partir de la implementación del ***One Hot Encoding***."
      ]
    },
    {
      "cell_type": "markdown",
      "metadata": {
        "id": "-7B3xa2Tkdh_"
      },
      "source": [
        "### 2.5. Sustitución de valores nulos\n",
        "La función sklearn.impute.SimpleImputer permite sustituir valores nulos por otros valores según varias estrategias disponibles. La estrategia a ejecutar se indica mediante el parámetro strategy.\n",
        "\n",
        "En este caso el ***atributo var_employment_time_in_months*** tenia valores NA la estrategia es sustituir los valores nulos por el valor medio de las características"
      ]
    },
    {
      "cell_type": "code",
      "metadata": {
        "id": "Lb9zPViiJj-q",
        "outputId": "c79a6017-9b73-454f-dc6b-936f6844100a",
        "colab": {
          "base_uri": "https://localhost:8080/",
          "height": 334
        }
      },
      "source": [
        "from sklearn.impute import SimpleImputer\n",
        "si = SimpleImputer()\n",
        "\n",
        "df[\"var_employment_time_in_months\"] = si.fit_transform(df[\"var_employment_time_in_months\"].values.reshape(-1, 1))\n",
        "\n",
        "df.head(11)\n",
        "df.describe()"
      ],
      "execution_count": 144,
      "outputs": [
        {
          "output_type": "execute_result",
          "data": {
            "text/html": [
              "<div>\n",
              "<style scoped>\n",
              "    .dataframe tbody tr th:only-of-type {\n",
              "        vertical-align: middle;\n",
              "    }\n",
              "\n",
              "    .dataframe tbody tr th {\n",
              "        vertical-align: top;\n",
              "    }\n",
              "\n",
              "    .dataframe thead th {\n",
              "        text-align: right;\n",
              "    }\n",
              "</style>\n",
              "<table border=\"1\" class=\"dataframe\">\n",
              "  <thead>\n",
              "    <tr style=\"text-align: right;\">\n",
              "      <th></th>\n",
              "      <th>target</th>\n",
              "      <th>monthly_debt_capacity</th>\n",
              "      <th>var_employment_time_in_months</th>\n",
              "      <th>approved_amount</th>\n",
              "      <th>approved_term</th>\n",
              "      <th>approved_interest_amount</th>\n",
              "      <th>var_net_income</th>\n",
              "      <th>default_request_term</th>\n",
              "      <th>chm_C</th>\n",
              "      <th>chm_D</th>\n",
              "      <th>chm_S</th>\n",
              "      <th>chm_V</th>\n",
              "      <th>vms_CPP</th>\n",
              "      <th>vms_DEFICIENTE</th>\n",
              "      <th>vms_DUDOSO</th>\n",
              "      <th>vms_NORMAL</th>\n",
              "      <th>vms_PERDIDA</th>\n",
              "      <th>pdt_Carrera Tecnica</th>\n",
              "      <th>pdt_Postgrado</th>\n",
              "      <th>pdt_Primaria</th>\n",
              "      <th>pdt_Secundaria</th>\n",
              "      <th>pdt_Universitaria</th>\n",
              "    </tr>\n",
              "  </thead>\n",
              "  <tbody>\n",
              "    <tr>\n",
              "      <th>count</th>\n",
              "      <td>1719.000000</td>\n",
              "      <td>1719.000000</td>\n",
              "      <td>1719.000000</td>\n",
              "      <td>1719.000000</td>\n",
              "      <td>1719.000000</td>\n",
              "      <td>1719.000000</td>\n",
              "      <td>1719.000000</td>\n",
              "      <td>1719.000000</td>\n",
              "      <td>1719.000000</td>\n",
              "      <td>1719.000000</td>\n",
              "      <td>1719.000000</td>\n",
              "      <td>1719.000000</td>\n",
              "      <td>1719.000000</td>\n",
              "      <td>1719.000000</td>\n",
              "      <td>1719.000000</td>\n",
              "      <td>1719.000000</td>\n",
              "      <td>1719.000000</td>\n",
              "      <td>1719.000000</td>\n",
              "      <td>1719.000000</td>\n",
              "      <td>1719.000000</td>\n",
              "      <td>1719.000000</td>\n",
              "      <td>1719.000000</td>\n",
              "    </tr>\n",
              "    <tr>\n",
              "      <th>mean</th>\n",
              "      <td>0.295521</td>\n",
              "      <td>584.639282</td>\n",
              "      <td>33.979592</td>\n",
              "      <td>2136.998291</td>\n",
              "      <td>6.464805</td>\n",
              "      <td>407.184509</td>\n",
              "      <td>2693.545884</td>\n",
              "      <td>0.507853</td>\n",
              "      <td>0.162885</td>\n",
              "      <td>0.007563</td>\n",
              "      <td>0.828970</td>\n",
              "      <td>0.000582</td>\n",
              "      <td>0.117510</td>\n",
              "      <td>0.018034</td>\n",
              "      <td>0.000582</td>\n",
              "      <td>0.861547</td>\n",
              "      <td>0.002327</td>\n",
              "      <td>0.363002</td>\n",
              "      <td>0.037813</td>\n",
              "      <td>0.001745</td>\n",
              "      <td>0.127981</td>\n",
              "      <td>0.469459</td>\n",
              "    </tr>\n",
              "    <tr>\n",
              "      <th>std</th>\n",
              "      <td>0.456409</td>\n",
              "      <td>459.958984</td>\n",
              "      <td>25.275851</td>\n",
              "      <td>1504.947632</td>\n",
              "      <td>3.009842</td>\n",
              "      <td>407.703125</td>\n",
              "      <td>1825.694773</td>\n",
              "      <td>0.500084</td>\n",
              "      <td>0.369369</td>\n",
              "      <td>0.086659</td>\n",
              "      <td>0.376644</td>\n",
              "      <td>0.024119</td>\n",
              "      <td>0.322121</td>\n",
              "      <td>0.133112</td>\n",
              "      <td>0.024119</td>\n",
              "      <td>0.345475</td>\n",
              "      <td>0.048196</td>\n",
              "      <td>0.481005</td>\n",
              "      <td>0.190798</td>\n",
              "      <td>0.041751</td>\n",
              "      <td>0.334166</td>\n",
              "      <td>0.499212</td>\n",
              "    </tr>\n",
              "    <tr>\n",
              "      <th>min</th>\n",
              "      <td>0.000000</td>\n",
              "      <td>-158.750000</td>\n",
              "      <td>-1.000000</td>\n",
              "      <td>500.000000</td>\n",
              "      <td>1.000000</td>\n",
              "      <td>22.820000</td>\n",
              "      <td>0.000000</td>\n",
              "      <td>0.000000</td>\n",
              "      <td>0.000000</td>\n",
              "      <td>0.000000</td>\n",
              "      <td>0.000000</td>\n",
              "      <td>0.000000</td>\n",
              "      <td>0.000000</td>\n",
              "      <td>0.000000</td>\n",
              "      <td>0.000000</td>\n",
              "      <td>0.000000</td>\n",
              "      <td>0.000000</td>\n",
              "      <td>0.000000</td>\n",
              "      <td>0.000000</td>\n",
              "      <td>0.000000</td>\n",
              "      <td>0.000000</td>\n",
              "      <td>0.000000</td>\n",
              "    </tr>\n",
              "    <tr>\n",
              "      <th>25%</th>\n",
              "      <td>0.000000</td>\n",
              "      <td>350.760010</td>\n",
              "      <td>12.000000</td>\n",
              "      <td>1000.000000</td>\n",
              "      <td>6.000000</td>\n",
              "      <td>152.320007</td>\n",
              "      <td>1750.000000</td>\n",
              "      <td>0.000000</td>\n",
              "      <td>0.000000</td>\n",
              "      <td>0.000000</td>\n",
              "      <td>1.000000</td>\n",
              "      <td>0.000000</td>\n",
              "      <td>0.000000</td>\n",
              "      <td>0.000000</td>\n",
              "      <td>0.000000</td>\n",
              "      <td>1.000000</td>\n",
              "      <td>0.000000</td>\n",
              "      <td>0.000000</td>\n",
              "      <td>0.000000</td>\n",
              "      <td>0.000000</td>\n",
              "      <td>0.000000</td>\n",
              "      <td>0.000000</td>\n",
              "    </tr>\n",
              "    <tr>\n",
              "      <th>50%</th>\n",
              "      <td>0.000000</td>\n",
              "      <td>480.739990</td>\n",
              "      <td>33.000000</td>\n",
              "      <td>1500.000000</td>\n",
              "      <td>6.000000</td>\n",
              "      <td>281.390015</td>\n",
              "      <td>2373.758333</td>\n",
              "      <td>1.000000</td>\n",
              "      <td>0.000000</td>\n",
              "      <td>0.000000</td>\n",
              "      <td>1.000000</td>\n",
              "      <td>0.000000</td>\n",
              "      <td>0.000000</td>\n",
              "      <td>0.000000</td>\n",
              "      <td>0.000000</td>\n",
              "      <td>1.000000</td>\n",
              "      <td>0.000000</td>\n",
              "      <td>0.000000</td>\n",
              "      <td>0.000000</td>\n",
              "      <td>0.000000</td>\n",
              "      <td>0.000000</td>\n",
              "      <td>0.000000</td>\n",
              "    </tr>\n",
              "    <tr>\n",
              "      <th>75%</th>\n",
              "      <td>1.000000</td>\n",
              "      <td>660.820007</td>\n",
              "      <td>55.000000</td>\n",
              "      <td>2500.000000</td>\n",
              "      <td>6.000000</td>\n",
              "      <td>429.799988</td>\n",
              "      <td>3075.133333</td>\n",
              "      <td>1.000000</td>\n",
              "      <td>0.000000</td>\n",
              "      <td>0.000000</td>\n",
              "      <td>1.000000</td>\n",
              "      <td>0.000000</td>\n",
              "      <td>0.000000</td>\n",
              "      <td>0.000000</td>\n",
              "      <td>0.000000</td>\n",
              "      <td>1.000000</td>\n",
              "      <td>0.000000</td>\n",
              "      <td>1.000000</td>\n",
              "      <td>0.000000</td>\n",
              "      <td>0.000000</td>\n",
              "      <td>0.000000</td>\n",
              "      <td>1.000000</td>\n",
              "    </tr>\n",
              "    <tr>\n",
              "      <th>max</th>\n",
              "      <td>1.000000</td>\n",
              "      <td>7243.200195</td>\n",
              "      <td>87.000000</td>\n",
              "      <td>12200.000000</td>\n",
              "      <td>12.000000</td>\n",
              "      <td>2311.120117</td>\n",
              "      <td>28587.000000</td>\n",
              "      <td>1.000000</td>\n",
              "      <td>1.000000</td>\n",
              "      <td>1.000000</td>\n",
              "      <td>1.000000</td>\n",
              "      <td>1.000000</td>\n",
              "      <td>1.000000</td>\n",
              "      <td>1.000000</td>\n",
              "      <td>1.000000</td>\n",
              "      <td>1.000000</td>\n",
              "      <td>1.000000</td>\n",
              "      <td>1.000000</td>\n",
              "      <td>1.000000</td>\n",
              "      <td>1.000000</td>\n",
              "      <td>1.000000</td>\n",
              "      <td>1.000000</td>\n",
              "    </tr>\n",
              "  </tbody>\n",
              "</table>\n",
              "</div>"
            ],
            "text/plain": [
              "            target  monthly_debt_capacity  ...  pdt_Secundaria  pdt_Universitaria\n",
              "count  1719.000000            1719.000000  ...     1719.000000        1719.000000\n",
              "mean      0.295521             584.639282  ...        0.127981           0.469459\n",
              "std       0.456409             459.958984  ...        0.334166           0.499212\n",
              "min       0.000000            -158.750000  ...        0.000000           0.000000\n",
              "25%       0.000000             350.760010  ...        0.000000           0.000000\n",
              "50%       0.000000             480.739990  ...        0.000000           0.000000\n",
              "75%       1.000000             660.820007  ...        0.000000           1.000000\n",
              "max       1.000000            7243.200195  ...        1.000000           1.000000\n",
              "\n",
              "[8 rows x 22 columns]"
            ]
          },
          "metadata": {
            "tags": []
          },
          "execution_count": 144
        }
      ]
    },
    {
      "cell_type": "markdown",
      "metadata": {
        "id": "FnQnTBP0go3I"
      },
      "source": [
        "### 2.6. Outliers \n",
        "  En este caso identificamos en la variable var_net_income (salario) presentaba valores atipicos a partir del analisis del diagrama de cajas. Identificamos el valor Max a partir de los percentiles 25 y 75. Se utiliza los imputers para rellenar los valores atipicos.\n"
      ]
    },
    {
      "cell_type": "code",
      "metadata": {
        "id": "2zIVnpdDeZUf",
        "outputId": "3786fd91-8c99-4947-d75e-a61c57104855",
        "colab": {
          "base_uri": "https://localhost:8080/",
          "height": 287
        }
      },
      "source": [
        "Q1 =  df['var_net_income'].quantile(0.25)\n",
        "Q3 = df['var_net_income'].quantile(0.75)\n",
        "IQR = Q3 - Q1\n",
        "\n",
        "Max = Q3+1.5*IQR\n",
        "\n",
        "boxplot = df.boxplot(column=['var_net_income'])\n",
        "\n",
        "df.loc[(df['var_net_income'] > Max)] = None\n",
        "\n",
        "print(Q1,Q3,Max)"
      ],
      "execution_count": 145,
      "outputs": [
        {
          "output_type": "stream",
          "text": [
            "1750.0 3075.1333335 5062.83333375\n"
          ],
          "name": "stdout"
        },
        {
          "output_type": "display_data",
          "data": {
            "image/png": "[encoded data removed]",
            "text/plain": [
              "<Figure size 432x288 with 1 Axes>"
            ]
          },
          "metadata": {
            "tags": [],
            "needs_background": "light"
          }
        }
      ]
    },
    {
      "cell_type": "code",
      "metadata": {
        "id": "58d-hQM1fSXo",
        "outputId": "c4c19cf6-e5a4-4ee2-c3b8-d6c55c36a74b",
        "colab": {
          "base_uri": "https://localhost:8080/",
          "height": 266
        }
      },
      "source": [
        "df['var_net_income'].describe()\n",
        "\n",
        "df.loc[(df['var_net_income'] > Max)] = None\n",
        "\n",
        "imp_mean = SimpleImputer(missing_values=np.nan, strategy='mean')\n",
        "\n",
        "\n",
        "df[\"var_net_income\"] = imp_mean.fit_transform(df[\"var_net_income\"].values.reshape(-1, 1))\n",
        "\n",
        "boxplot = dcv.boxplot(column=['var_net_income'])\n",
        "df[\"var_net_income\"].describe()\n",
        "\n",
        "df = df.dropna()"
      ],
      "execution_count": 146,
      "outputs": [
        {
          "output_type": "display_data",
          "data": {
            "image/png": "[encoded data removed]",
            "text/plain": [
              "<Figure size 432x288 with 1 Axes>"
            ]
          },
          "metadata": {
            "tags": [],
            "needs_background": "light"
          }
        }
      ]
    },
    {
      "cell_type": "markdown",
      "metadata": {
        "id": "TIa8k-gI9j4J"
      },
      "source": [
        "### 2.7 Normalización de datos\n",
        "\n",
        "Utilizaremos la ***MinMaxScaler*** para normalizar nuestros datos para los modelos"
      ]
    },
    {
      "cell_type": "code",
      "metadata": {
        "id": "hvbRdqiP9vnv",
        "outputId": "36932d18-76a7-4aa0-a52e-6167a9a7f2c5",
        "colab": {
          "base_uri": "https://localhost:8080/",
          "height": 241
        }
      },
      "source": [
        "scaler = MinMaxScaler()\n",
        "df = pd.DataFrame(scaler.fit_transform(df), columns=df.columns)\n",
        "df.head(5)"
      ],
      "execution_count": 147,
      "outputs": [
        {
          "output_type": "execute_result",
          "data": {
            "text/html": [
              "<div>\n",
              "<style scoped>\n",
              "    .dataframe tbody tr th:only-of-type {\n",
              "        vertical-align: middle;\n",
              "    }\n",
              "\n",
              "    .dataframe tbody tr th {\n",
              "        vertical-align: top;\n",
              "    }\n",
              "\n",
              "    .dataframe thead th {\n",
              "        text-align: right;\n",
              "    }\n",
              "</style>\n",
              "<table border=\"1\" class=\"dataframe\">\n",
              "  <thead>\n",
              "    <tr style=\"text-align: right;\">\n",
              "      <th></th>\n",
              "      <th>target</th>\n",
              "      <th>monthly_debt_capacity</th>\n",
              "      <th>var_employment_time_in_months</th>\n",
              "      <th>approved_amount</th>\n",
              "      <th>approved_term</th>\n",
              "      <th>approved_interest_amount</th>\n",
              "      <th>var_net_income</th>\n",
              "      <th>default_request_term</th>\n",
              "      <th>chm_C</th>\n",
              "      <th>chm_D</th>\n",
              "      <th>chm_S</th>\n",
              "      <th>chm_V</th>\n",
              "      <th>vms_CPP</th>\n",
              "      <th>vms_DEFICIENTE</th>\n",
              "      <th>vms_DUDOSO</th>\n",
              "      <th>vms_NORMAL</th>\n",
              "      <th>vms_PERDIDA</th>\n",
              "      <th>pdt_Carrera Tecnica</th>\n",
              "      <th>pdt_Postgrado</th>\n",
              "      <th>pdt_Primaria</th>\n",
              "      <th>pdt_Secundaria</th>\n",
              "      <th>pdt_Universitaria</th>\n",
              "    </tr>\n",
              "  </thead>\n",
              "  <tbody>\n",
              "    <tr>\n",
              "      <th>0</th>\n",
              "      <td>1.0</td>\n",
              "      <td>0.252037</td>\n",
              "      <td>0.113636</td>\n",
              "      <td>0.064815</td>\n",
              "      <td>0.454545</td>\n",
              "      <td>0.116370</td>\n",
              "      <td>0.225366</td>\n",
              "      <td>1.0</td>\n",
              "      <td>1.0</td>\n",
              "      <td>0.0</td>\n",
              "      <td>0.0</td>\n",
              "      <td>0.0</td>\n",
              "      <td>0.0</td>\n",
              "      <td>0.0</td>\n",
              "      <td>0.0</td>\n",
              "      <td>1.0</td>\n",
              "      <td>0.0</td>\n",
              "      <td>0.0</td>\n",
              "      <td>0.0</td>\n",
              "      <td>0.0</td>\n",
              "      <td>1.0</td>\n",
              "      <td>0.0</td>\n",
              "    </tr>\n",
              "    <tr>\n",
              "      <th>1</th>\n",
              "      <td>1.0</td>\n",
              "      <td>0.247243</td>\n",
              "      <td>0.579545</td>\n",
              "      <td>0.157407</td>\n",
              "      <td>1.000000</td>\n",
              "      <td>0.294249</td>\n",
              "      <td>0.209799</td>\n",
              "      <td>0.0</td>\n",
              "      <td>0.0</td>\n",
              "      <td>0.0</td>\n",
              "      <td>1.0</td>\n",
              "      <td>0.0</td>\n",
              "      <td>0.0</td>\n",
              "      <td>0.0</td>\n",
              "      <td>0.0</td>\n",
              "      <td>1.0</td>\n",
              "      <td>0.0</td>\n",
              "      <td>0.0</td>\n",
              "      <td>0.0</td>\n",
              "      <td>0.0</td>\n",
              "      <td>1.0</td>\n",
              "      <td>0.0</td>\n",
              "    </tr>\n",
              "    <tr>\n",
              "      <th>2</th>\n",
              "      <td>0.0</td>\n",
              "      <td>0.398616</td>\n",
              "      <td>0.738636</td>\n",
              "      <td>0.046296</td>\n",
              "      <td>0.181818</td>\n",
              "      <td>0.027169</td>\n",
              "      <td>0.411583</td>\n",
              "      <td>0.0</td>\n",
              "      <td>0.0</td>\n",
              "      <td>0.0</td>\n",
              "      <td>1.0</td>\n",
              "      <td>0.0</td>\n",
              "      <td>0.0</td>\n",
              "      <td>0.0</td>\n",
              "      <td>0.0</td>\n",
              "      <td>1.0</td>\n",
              "      <td>0.0</td>\n",
              "      <td>0.0</td>\n",
              "      <td>0.0</td>\n",
              "      <td>0.0</td>\n",
              "      <td>1.0</td>\n",
              "      <td>0.0</td>\n",
              "    </tr>\n",
              "    <tr>\n",
              "      <th>3</th>\n",
              "      <td>0.0</td>\n",
              "      <td>0.617556</td>\n",
              "      <td>0.886364</td>\n",
              "      <td>0.092593</td>\n",
              "      <td>0.454545</td>\n",
              "      <td>0.086837</td>\n",
              "      <td>0.676502</td>\n",
              "      <td>0.0</td>\n",
              "      <td>0.0</td>\n",
              "      <td>0.0</td>\n",
              "      <td>1.0</td>\n",
              "      <td>0.0</td>\n",
              "      <td>0.0</td>\n",
              "      <td>0.0</td>\n",
              "      <td>0.0</td>\n",
              "      <td>1.0</td>\n",
              "      <td>0.0</td>\n",
              "      <td>0.0</td>\n",
              "      <td>0.0</td>\n",
              "      <td>0.0</td>\n",
              "      <td>0.0</td>\n",
              "      <td>1.0</td>\n",
              "    </tr>\n",
              "    <tr>\n",
              "      <th>4</th>\n",
              "      <td>0.0</td>\n",
              "      <td>0.385755</td>\n",
              "      <td>0.943182</td>\n",
              "      <td>0.046296</td>\n",
              "      <td>0.181818</td>\n",
              "      <td>0.029944</td>\n",
              "      <td>0.372028</td>\n",
              "      <td>1.0</td>\n",
              "      <td>0.0</td>\n",
              "      <td>0.0</td>\n",
              "      <td>1.0</td>\n",
              "      <td>0.0</td>\n",
              "      <td>0.0</td>\n",
              "      <td>0.0</td>\n",
              "      <td>0.0</td>\n",
              "      <td>1.0</td>\n",
              "      <td>0.0</td>\n",
              "      <td>0.0</td>\n",
              "      <td>0.0</td>\n",
              "      <td>0.0</td>\n",
              "      <td>0.0</td>\n",
              "      <td>1.0</td>\n",
              "    </tr>\n",
              "  </tbody>\n",
              "</table>\n",
              "</div>"
            ],
            "text/plain": [
              "   target  monthly_debt_capacity  ...  pdt_Secundaria  pdt_Universitaria\n",
              "0     1.0               0.252037  ...             1.0                0.0\n",
              "1     1.0               0.247243  ...             1.0                0.0\n",
              "2     0.0               0.398616  ...             1.0                0.0\n",
              "3     0.0               0.617556  ...             0.0                1.0\n",
              "4     0.0               0.385755  ...             0.0                1.0\n",
              "\n",
              "[5 rows x 22 columns]"
            ]
          },
          "metadata": {
            "tags": []
          },
          "execution_count": 147
        }
      ]
    },
    {
      "cell_type": "markdown",
      "metadata": {
        "id": "rjnawK4q9xdZ"
      },
      "source": [
        "### 2.8 Separación de datos en subconjuntos\n",
        "\n",
        "Para que nuestros modelos puedan procesar los datos, los separaremos en subconjuntos, X contendrá los atributos mientras y contendrá el atributo clase"
      ]
    },
    {
      "cell_type": "code",
      "metadata": {
        "id": "tCChf4sW92z2"
      },
      "source": [
        "X = df[[x for x in df.columns if x != 'target']]\n",
        "y = pd.to_numeric(df['target'], downcast=\"integer\")"
      ],
      "execution_count": 148,
      "outputs": []
    },
    {
      "cell_type": "markdown",
      "metadata": {
        "id": "gzxeClSOK_Pk"
      },
      "source": [
        "## 3. Aplicación de modelos para clasificación"
      ]
    },
    {
      "cell_type": "markdown",
      "metadata": {
        "id": "LceZ8RFxQqbW"
      },
      "source": [
        "### 3.1 Gaussian Naive Bayes"
      ]
    },
    {
      "cell_type": "code",
      "metadata": {
        "id": "X75GwszUQtoI",
        "outputId": "1dd8bf85-c4fa-43e9-e185-345804e677f2",
        "colab": {
          "base_uri": "https://localhost:8080/",
          "height": 187
        }
      },
      "source": [
        "X_train, X_test, y_train, y_test = train_test_split(X, y, test_size=0.4, random_state=0)\n",
        "\n",
        "gnb = GaussianNB()\n",
        "gnb.fit(X_train, y_train)\n",
        "\n",
        "X_gnb_predict = gnb.predict(X_test)\n",
        "\n",
        "print(classification_report(X_gnb_predict, y_test))\n",
        "\n",
        "scores_gnb = cross_val_score(gnb, X_train, y_train, cv=15)\n",
        "print(\"Accuracy promedio: \", np.mean(scores_gnb))"
      ],
      "execution_count": 159,
      "outputs": [
        {
          "output_type": "stream",
          "text": [
            "              precision    recall  f1-score   support\n",
            "\n",
            "           0       0.05      0.88      0.09        25\n",
            "           1       0.98      0.29      0.45       617\n",
            "\n",
            "    accuracy                           0.32       642\n",
            "   macro avg       0.52      0.59      0.27       642\n",
            "weighted avg       0.95      0.32      0.44       642\n",
            "\n",
            "Accuracy promedio:  0.33852564102564103\n"
          ],
          "name": "stdout"
        }
      ]
    },
    {
      "cell_type": "markdown",
      "metadata": {
        "id": "6siQ9fLnLg1y"
      },
      "source": [
        "### 3.2 Multinomial Naive Bayes"
      ]
    },
    {
      "cell_type": "code",
      "metadata": {
        "id": "xpwjy0rrLn0P",
        "outputId": "1ee4e0ca-c188-4c05-fb43-5efdbfaa397e",
        "colab": {
          "base_uri": "https://localhost:8080/",
          "height": 187
        }
      },
      "source": [
        "mnb = MultinomialNB()\n",
        "mnb.fit(X_train, y_train)\n",
        "\n",
        "X_mnb_predict = mnb.predict(X_test)\n",
        "\n",
        "print(classification_report(X_mnb_predict, y_test))\n",
        "\n",
        "scores_mnb = cross_val_score(mnb, X_train, y_train, cv=15)\n",
        "print(\"Accuracy promedio: \", np.mean(scores_mnb))"
      ],
      "execution_count": 160,
      "outputs": [
        {
          "output_type": "stream",
          "text": [
            "              precision    recall  f1-score   support\n",
            "\n",
            "           0       0.98      0.72      0.83       620\n",
            "           1       0.06      0.50      0.11        22\n",
            "\n",
            "    accuracy                           0.71       642\n",
            "   macro avg       0.52      0.61      0.47       642\n",
            "weighted avg       0.94      0.71      0.80       642\n",
            "\n",
            "Accuracy promedio:  0.6947435897435897\n"
          ],
          "name": "stdout"
        }
      ]
    }
  ]
}